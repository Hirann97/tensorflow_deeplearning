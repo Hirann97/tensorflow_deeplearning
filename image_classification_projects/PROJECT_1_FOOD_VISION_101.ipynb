{
  "nbformat": 4,
  "nbformat_minor": 0,
  "metadata": {
    "colab": {
      "provenance": []
    },
    "kernelspec": {
      "name": "python3",
      "display_name": "Python 3"
    },
    "language_info": {
      "name": "python"
    },
    "accelerator": "GPU",
    "gpuClass": "standard",
    "widgets": {
      "application/vnd.jupyter.widget-state+json": {
        "5cd76210a0c841788139dbeb04d4222b": {
          "model_module": "@jupyter-widgets/controls",
          "model_name": "HBoxModel",
          "model_module_version": "1.5.0",
          "state": {
            "_dom_classes": [],
            "_model_module": "@jupyter-widgets/controls",
            "_model_module_version": "1.5.0",
            "_model_name": "HBoxModel",
            "_view_count": null,
            "_view_module": "@jupyter-widgets/controls",
            "_view_module_version": "1.5.0",
            "_view_name": "HBoxView",
            "box_style": "",
            "children": [
              "IPY_MODEL_17cad492174b4e62b2b802dc2bf7056a",
              "IPY_MODEL_1414306e19c647f7b1112d57b2580bf4",
              "IPY_MODEL_8aa4ca5e579945829bb2671320b55162"
            ],
            "layout": "IPY_MODEL_6be170a5c89d45a08be2eaac1eac1b9f"
          }
        },
        "17cad492174b4e62b2b802dc2bf7056a": {
          "model_module": "@jupyter-widgets/controls",
          "model_name": "HTMLModel",
          "model_module_version": "1.5.0",
          "state": {
            "_dom_classes": [],
            "_model_module": "@jupyter-widgets/controls",
            "_model_module_version": "1.5.0",
            "_model_name": "HTMLModel",
            "_view_count": null,
            "_view_module": "@jupyter-widgets/controls",
            "_view_module_version": "1.5.0",
            "_view_name": "HTMLView",
            "description": "",
            "description_tooltip": null,
            "layout": "IPY_MODEL_99520a86caf04b779abba68bcb5fc437",
            "placeholder": "​",
            "style": "IPY_MODEL_1d9df059cf9b40c9a68fb99ed11c7d55",
            "value": "Dl Completed...: 100%"
          }
        },
        "1414306e19c647f7b1112d57b2580bf4": {
          "model_module": "@jupyter-widgets/controls",
          "model_name": "FloatProgressModel",
          "model_module_version": "1.5.0",
          "state": {
            "_dom_classes": [],
            "_model_module": "@jupyter-widgets/controls",
            "_model_module_version": "1.5.0",
            "_model_name": "FloatProgressModel",
            "_view_count": null,
            "_view_module": "@jupyter-widgets/controls",
            "_view_module_version": "1.5.0",
            "_view_name": "ProgressView",
            "bar_style": "success",
            "description": "",
            "description_tooltip": null,
            "layout": "IPY_MODEL_6917553b9d264d91a9f4f73d9172a2b9",
            "max": 1,
            "min": 0,
            "orientation": "horizontal",
            "style": "IPY_MODEL_02d5447941104ec29302cc51938b3585",
            "value": 1
          }
        },
        "8aa4ca5e579945829bb2671320b55162": {
          "model_module": "@jupyter-widgets/controls",
          "model_name": "HTMLModel",
          "model_module_version": "1.5.0",
          "state": {
            "_dom_classes": [],
            "_model_module": "@jupyter-widgets/controls",
            "_model_module_version": "1.5.0",
            "_model_name": "HTMLModel",
            "_view_count": null,
            "_view_module": "@jupyter-widgets/controls",
            "_view_module_version": "1.5.0",
            "_view_name": "HTMLView",
            "description": "",
            "description_tooltip": null,
            "layout": "IPY_MODEL_3c0fdeee588e461b97266e5503d0a7bd",
            "placeholder": "​",
            "style": "IPY_MODEL_801e60c71d8c470b871185c62e15c69b",
            "value": " 1/1 [06:47&lt;00:00, 323.86s/ url]"
          }
        },
        "6be170a5c89d45a08be2eaac1eac1b9f": {
          "model_module": "@jupyter-widgets/base",
          "model_name": "LayoutModel",
          "model_module_version": "1.2.0",
          "state": {
            "_model_module": "@jupyter-widgets/base",
            "_model_module_version": "1.2.0",
            "_model_name": "LayoutModel",
            "_view_count": null,
            "_view_module": "@jupyter-widgets/base",
            "_view_module_version": "1.2.0",
            "_view_name": "LayoutView",
            "align_content": null,
            "align_items": null,
            "align_self": null,
            "border": null,
            "bottom": null,
            "display": null,
            "flex": null,
            "flex_flow": null,
            "grid_area": null,
            "grid_auto_columns": null,
            "grid_auto_flow": null,
            "grid_auto_rows": null,
            "grid_column": null,
            "grid_gap": null,
            "grid_row": null,
            "grid_template_areas": null,
            "grid_template_columns": null,
            "grid_template_rows": null,
            "height": null,
            "justify_content": null,
            "justify_items": null,
            "left": null,
            "margin": null,
            "max_height": null,
            "max_width": null,
            "min_height": null,
            "min_width": null,
            "object_fit": null,
            "object_position": null,
            "order": null,
            "overflow": null,
            "overflow_x": null,
            "overflow_y": null,
            "padding": null,
            "right": null,
            "top": null,
            "visibility": null,
            "width": null
          }
        },
        "99520a86caf04b779abba68bcb5fc437": {
          "model_module": "@jupyter-widgets/base",
          "model_name": "LayoutModel",
          "model_module_version": "1.2.0",
          "state": {
            "_model_module": "@jupyter-widgets/base",
            "_model_module_version": "1.2.0",
            "_model_name": "LayoutModel",
            "_view_count": null,
            "_view_module": "@jupyter-widgets/base",
            "_view_module_version": "1.2.0",
            "_view_name": "LayoutView",
            "align_content": null,
            "align_items": null,
            "align_self": null,
            "border": null,
            "bottom": null,
            "display": null,
            "flex": null,
            "flex_flow": null,
            "grid_area": null,
            "grid_auto_columns": null,
            "grid_auto_flow": null,
            "grid_auto_rows": null,
            "grid_column": null,
            "grid_gap": null,
            "grid_row": null,
            "grid_template_areas": null,
            "grid_template_columns": null,
            "grid_template_rows": null,
            "height": null,
            "justify_content": null,
            "justify_items": null,
            "left": null,
            "margin": null,
            "max_height": null,
            "max_width": null,
            "min_height": null,
            "min_width": null,
            "object_fit": null,
            "object_position": null,
            "order": null,
            "overflow": null,
            "overflow_x": null,
            "overflow_y": null,
            "padding": null,
            "right": null,
            "top": null,
            "visibility": null,
            "width": null
          }
        },
        "1d9df059cf9b40c9a68fb99ed11c7d55": {
          "model_module": "@jupyter-widgets/controls",
          "model_name": "DescriptionStyleModel",
          "model_module_version": "1.5.0",
          "state": {
            "_model_module": "@jupyter-widgets/controls",
            "_model_module_version": "1.5.0",
            "_model_name": "DescriptionStyleModel",
            "_view_count": null,
            "_view_module": "@jupyter-widgets/base",
            "_view_module_version": "1.2.0",
            "_view_name": "StyleView",
            "description_width": ""
          }
        },
        "6917553b9d264d91a9f4f73d9172a2b9": {
          "model_module": "@jupyter-widgets/base",
          "model_name": "LayoutModel",
          "model_module_version": "1.2.0",
          "state": {
            "_model_module": "@jupyter-widgets/base",
            "_model_module_version": "1.2.0",
            "_model_name": "LayoutModel",
            "_view_count": null,
            "_view_module": "@jupyter-widgets/base",
            "_view_module_version": "1.2.0",
            "_view_name": "LayoutView",
            "align_content": null,
            "align_items": null,
            "align_self": null,
            "border": null,
            "bottom": null,
            "display": null,
            "flex": null,
            "flex_flow": null,
            "grid_area": null,
            "grid_auto_columns": null,
            "grid_auto_flow": null,
            "grid_auto_rows": null,
            "grid_column": null,
            "grid_gap": null,
            "grid_row": null,
            "grid_template_areas": null,
            "grid_template_columns": null,
            "grid_template_rows": null,
            "height": null,
            "justify_content": null,
            "justify_items": null,
            "left": null,
            "margin": null,
            "max_height": null,
            "max_width": null,
            "min_height": null,
            "min_width": null,
            "object_fit": null,
            "object_position": null,
            "order": null,
            "overflow": null,
            "overflow_x": null,
            "overflow_y": null,
            "padding": null,
            "right": null,
            "top": null,
            "visibility": null,
            "width": "20px"
          }
        },
        "02d5447941104ec29302cc51938b3585": {
          "model_module": "@jupyter-widgets/controls",
          "model_name": "ProgressStyleModel",
          "model_module_version": "1.5.0",
          "state": {
            "_model_module": "@jupyter-widgets/controls",
            "_model_module_version": "1.5.0",
            "_model_name": "ProgressStyleModel",
            "_view_count": null,
            "_view_module": "@jupyter-widgets/base",
            "_view_module_version": "1.2.0",
            "_view_name": "StyleView",
            "bar_color": null,
            "description_width": ""
          }
        },
        "3c0fdeee588e461b97266e5503d0a7bd": {
          "model_module": "@jupyter-widgets/base",
          "model_name": "LayoutModel",
          "model_module_version": "1.2.0",
          "state": {
            "_model_module": "@jupyter-widgets/base",
            "_model_module_version": "1.2.0",
            "_model_name": "LayoutModel",
            "_view_count": null,
            "_view_module": "@jupyter-widgets/base",
            "_view_module_version": "1.2.0",
            "_view_name": "LayoutView",
            "align_content": null,
            "align_items": null,
            "align_self": null,
            "border": null,
            "bottom": null,
            "display": null,
            "flex": null,
            "flex_flow": null,
            "grid_area": null,
            "grid_auto_columns": null,
            "grid_auto_flow": null,
            "grid_auto_rows": null,
            "grid_column": null,
            "grid_gap": null,
            "grid_row": null,
            "grid_template_areas": null,
            "grid_template_columns": null,
            "grid_template_rows": null,
            "height": null,
            "justify_content": null,
            "justify_items": null,
            "left": null,
            "margin": null,
            "max_height": null,
            "max_width": null,
            "min_height": null,
            "min_width": null,
            "object_fit": null,
            "object_position": null,
            "order": null,
            "overflow": null,
            "overflow_x": null,
            "overflow_y": null,
            "padding": null,
            "right": null,
            "top": null,
            "visibility": null,
            "width": null
          }
        },
        "801e60c71d8c470b871185c62e15c69b": {
          "model_module": "@jupyter-widgets/controls",
          "model_name": "DescriptionStyleModel",
          "model_module_version": "1.5.0",
          "state": {
            "_model_module": "@jupyter-widgets/controls",
            "_model_module_version": "1.5.0",
            "_model_name": "DescriptionStyleModel",
            "_view_count": null,
            "_view_module": "@jupyter-widgets/base",
            "_view_module_version": "1.2.0",
            "_view_name": "StyleView",
            "description_width": ""
          }
        },
        "8dba7054b6a94df4bb3cf7a40708dee7": {
          "model_module": "@jupyter-widgets/controls",
          "model_name": "HBoxModel",
          "model_module_version": "1.5.0",
          "state": {
            "_dom_classes": [],
            "_model_module": "@jupyter-widgets/controls",
            "_model_module_version": "1.5.0",
            "_model_name": "HBoxModel",
            "_view_count": null,
            "_view_module": "@jupyter-widgets/controls",
            "_view_module_version": "1.5.0",
            "_view_name": "HBoxView",
            "box_style": "",
            "children": [
              "IPY_MODEL_c145f80e2e82421388acce6688e9618a",
              "IPY_MODEL_feb6244339e7437e8b965cb15dba057c",
              "IPY_MODEL_dae34c5ef1654d41bce32d19f465ce86"
            ],
            "layout": "IPY_MODEL_64b20a9dbecb433db412968bfb734d5b"
          }
        },
        "c145f80e2e82421388acce6688e9618a": {
          "model_module": "@jupyter-widgets/controls",
          "model_name": "HTMLModel",
          "model_module_version": "1.5.0",
          "state": {
            "_dom_classes": [],
            "_model_module": "@jupyter-widgets/controls",
            "_model_module_version": "1.5.0",
            "_model_name": "HTMLModel",
            "_view_count": null,
            "_view_module": "@jupyter-widgets/controls",
            "_view_module_version": "1.5.0",
            "_view_name": "HTMLView",
            "description": "",
            "description_tooltip": null,
            "layout": "IPY_MODEL_ed01c0812c6f4c198c3f33efee2e192c",
            "placeholder": "​",
            "style": "IPY_MODEL_6f3d8a69c3f345fc82db5b3bf3299498",
            "value": "Dl Size...: 100%"
          }
        },
        "feb6244339e7437e8b965cb15dba057c": {
          "model_module": "@jupyter-widgets/controls",
          "model_name": "FloatProgressModel",
          "model_module_version": "1.5.0",
          "state": {
            "_dom_classes": [],
            "_model_module": "@jupyter-widgets/controls",
            "_model_module_version": "1.5.0",
            "_model_name": "FloatProgressModel",
            "_view_count": null,
            "_view_module": "@jupyter-widgets/controls",
            "_view_module_version": "1.5.0",
            "_view_name": "ProgressView",
            "bar_style": "success",
            "description": "",
            "description_tooltip": null,
            "layout": "IPY_MODEL_fccd34f7f82a4b43934527544e841cc3",
            "max": 1,
            "min": 0,
            "orientation": "horizontal",
            "style": "IPY_MODEL_578e616d78e1448e9cdd0837648d3eca",
            "value": 1
          }
        },
        "dae34c5ef1654d41bce32d19f465ce86": {
          "model_module": "@jupyter-widgets/controls",
          "model_name": "HTMLModel",
          "model_module_version": "1.5.0",
          "state": {
            "_dom_classes": [],
            "_model_module": "@jupyter-widgets/controls",
            "_model_module_version": "1.5.0",
            "_model_name": "HTMLModel",
            "_view_count": null,
            "_view_module": "@jupyter-widgets/controls",
            "_view_module_version": "1.5.0",
            "_view_name": "HTMLView",
            "description": "",
            "description_tooltip": null,
            "layout": "IPY_MODEL_fc04bdf11ae84635a50402f87a944913",
            "placeholder": "​",
            "style": "IPY_MODEL_a7d388da81f945368f21567e56283597",
            "value": " 4764/4764 [06:47&lt;00:00, 15.28 MiB/s]"
          }
        },
        "64b20a9dbecb433db412968bfb734d5b": {
          "model_module": "@jupyter-widgets/base",
          "model_name": "LayoutModel",
          "model_module_version": "1.2.0",
          "state": {
            "_model_module": "@jupyter-widgets/base",
            "_model_module_version": "1.2.0",
            "_model_name": "LayoutModel",
            "_view_count": null,
            "_view_module": "@jupyter-widgets/base",
            "_view_module_version": "1.2.0",
            "_view_name": "LayoutView",
            "align_content": null,
            "align_items": null,
            "align_self": null,
            "border": null,
            "bottom": null,
            "display": null,
            "flex": null,
            "flex_flow": null,
            "grid_area": null,
            "grid_auto_columns": null,
            "grid_auto_flow": null,
            "grid_auto_rows": null,
            "grid_column": null,
            "grid_gap": null,
            "grid_row": null,
            "grid_template_areas": null,
            "grid_template_columns": null,
            "grid_template_rows": null,
            "height": null,
            "justify_content": null,
            "justify_items": null,
            "left": null,
            "margin": null,
            "max_height": null,
            "max_width": null,
            "min_height": null,
            "min_width": null,
            "object_fit": null,
            "object_position": null,
            "order": null,
            "overflow": null,
            "overflow_x": null,
            "overflow_y": null,
            "padding": null,
            "right": null,
            "top": null,
            "visibility": null,
            "width": null
          }
        },
        "ed01c0812c6f4c198c3f33efee2e192c": {
          "model_module": "@jupyter-widgets/base",
          "model_name": "LayoutModel",
          "model_module_version": "1.2.0",
          "state": {
            "_model_module": "@jupyter-widgets/base",
            "_model_module_version": "1.2.0",
            "_model_name": "LayoutModel",
            "_view_count": null,
            "_view_module": "@jupyter-widgets/base",
            "_view_module_version": "1.2.0",
            "_view_name": "LayoutView",
            "align_content": null,
            "align_items": null,
            "align_self": null,
            "border": null,
            "bottom": null,
            "display": null,
            "flex": null,
            "flex_flow": null,
            "grid_area": null,
            "grid_auto_columns": null,
            "grid_auto_flow": null,
            "grid_auto_rows": null,
            "grid_column": null,
            "grid_gap": null,
            "grid_row": null,
            "grid_template_areas": null,
            "grid_template_columns": null,
            "grid_template_rows": null,
            "height": null,
            "justify_content": null,
            "justify_items": null,
            "left": null,
            "margin": null,
            "max_height": null,
            "max_width": null,
            "min_height": null,
            "min_width": null,
            "object_fit": null,
            "object_position": null,
            "order": null,
            "overflow": null,
            "overflow_x": null,
            "overflow_y": null,
            "padding": null,
            "right": null,
            "top": null,
            "visibility": null,
            "width": null
          }
        },
        "6f3d8a69c3f345fc82db5b3bf3299498": {
          "model_module": "@jupyter-widgets/controls",
          "model_name": "DescriptionStyleModel",
          "model_module_version": "1.5.0",
          "state": {
            "_model_module": "@jupyter-widgets/controls",
            "_model_module_version": "1.5.0",
            "_model_name": "DescriptionStyleModel",
            "_view_count": null,
            "_view_module": "@jupyter-widgets/base",
            "_view_module_version": "1.2.0",
            "_view_name": "StyleView",
            "description_width": ""
          }
        },
        "fccd34f7f82a4b43934527544e841cc3": {
          "model_module": "@jupyter-widgets/base",
          "model_name": "LayoutModel",
          "model_module_version": "1.2.0",
          "state": {
            "_model_module": "@jupyter-widgets/base",
            "_model_module_version": "1.2.0",
            "_model_name": "LayoutModel",
            "_view_count": null,
            "_view_module": "@jupyter-widgets/base",
            "_view_module_version": "1.2.0",
            "_view_name": "LayoutView",
            "align_content": null,
            "align_items": null,
            "align_self": null,
            "border": null,
            "bottom": null,
            "display": null,
            "flex": null,
            "flex_flow": null,
            "grid_area": null,
            "grid_auto_columns": null,
            "grid_auto_flow": null,
            "grid_auto_rows": null,
            "grid_column": null,
            "grid_gap": null,
            "grid_row": null,
            "grid_template_areas": null,
            "grid_template_columns": null,
            "grid_template_rows": null,
            "height": null,
            "justify_content": null,
            "justify_items": null,
            "left": null,
            "margin": null,
            "max_height": null,
            "max_width": null,
            "min_height": null,
            "min_width": null,
            "object_fit": null,
            "object_position": null,
            "order": null,
            "overflow": null,
            "overflow_x": null,
            "overflow_y": null,
            "padding": null,
            "right": null,
            "top": null,
            "visibility": null,
            "width": "20px"
          }
        },
        "578e616d78e1448e9cdd0837648d3eca": {
          "model_module": "@jupyter-widgets/controls",
          "model_name": "ProgressStyleModel",
          "model_module_version": "1.5.0",
          "state": {
            "_model_module": "@jupyter-widgets/controls",
            "_model_module_version": "1.5.0",
            "_model_name": "ProgressStyleModel",
            "_view_count": null,
            "_view_module": "@jupyter-widgets/base",
            "_view_module_version": "1.2.0",
            "_view_name": "StyleView",
            "bar_color": null,
            "description_width": ""
          }
        },
        "fc04bdf11ae84635a50402f87a944913": {
          "model_module": "@jupyter-widgets/base",
          "model_name": "LayoutModel",
          "model_module_version": "1.2.0",
          "state": {
            "_model_module": "@jupyter-widgets/base",
            "_model_module_version": "1.2.0",
            "_model_name": "LayoutModel",
            "_view_count": null,
            "_view_module": "@jupyter-widgets/base",
            "_view_module_version": "1.2.0",
            "_view_name": "LayoutView",
            "align_content": null,
            "align_items": null,
            "align_self": null,
            "border": null,
            "bottom": null,
            "display": null,
            "flex": null,
            "flex_flow": null,
            "grid_area": null,
            "grid_auto_columns": null,
            "grid_auto_flow": null,
            "grid_auto_rows": null,
            "grid_column": null,
            "grid_gap": null,
            "grid_row": null,
            "grid_template_areas": null,
            "grid_template_columns": null,
            "grid_template_rows": null,
            "height": null,
            "justify_content": null,
            "justify_items": null,
            "left": null,
            "margin": null,
            "max_height": null,
            "max_width": null,
            "min_height": null,
            "min_width": null,
            "object_fit": null,
            "object_position": null,
            "order": null,
            "overflow": null,
            "overflow_x": null,
            "overflow_y": null,
            "padding": null,
            "right": null,
            "top": null,
            "visibility": null,
            "width": null
          }
        },
        "a7d388da81f945368f21567e56283597": {
          "model_module": "@jupyter-widgets/controls",
          "model_name": "DescriptionStyleModel",
          "model_module_version": "1.5.0",
          "state": {
            "_model_module": "@jupyter-widgets/controls",
            "_model_module_version": "1.5.0",
            "_model_name": "DescriptionStyleModel",
            "_view_count": null,
            "_view_module": "@jupyter-widgets/base",
            "_view_module_version": "1.2.0",
            "_view_name": "StyleView",
            "description_width": ""
          }
        },
        "207ce7179bc64331821646d73291628e": {
          "model_module": "@jupyter-widgets/controls",
          "model_name": "HBoxModel",
          "model_module_version": "1.5.0",
          "state": {
            "_dom_classes": [],
            "_model_module": "@jupyter-widgets/controls",
            "_model_module_version": "1.5.0",
            "_model_name": "HBoxModel",
            "_view_count": null,
            "_view_module": "@jupyter-widgets/controls",
            "_view_module_version": "1.5.0",
            "_view_name": "HBoxView",
            "box_style": "",
            "children": [
              "IPY_MODEL_fc15bc27fe524cf786ed2ad7727558d9",
              "IPY_MODEL_4ef5373d848048b9af80cae37cdf722e",
              "IPY_MODEL_8aeb5397db3a422e92348f405a913419"
            ],
            "layout": "IPY_MODEL_e4644a7148f24b1daa083dd143338d46"
          }
        },
        "fc15bc27fe524cf786ed2ad7727558d9": {
          "model_module": "@jupyter-widgets/controls",
          "model_name": "HTMLModel",
          "model_module_version": "1.5.0",
          "state": {
            "_dom_classes": [],
            "_model_module": "@jupyter-widgets/controls",
            "_model_module_version": "1.5.0",
            "_model_name": "HTMLModel",
            "_view_count": null,
            "_view_module": "@jupyter-widgets/controls",
            "_view_module_version": "1.5.0",
            "_view_name": "HTMLView",
            "description": "",
            "description_tooltip": null,
            "layout": "IPY_MODEL_2022a9080f4e40abb80bd61752987ee9",
            "placeholder": "​",
            "style": "IPY_MODEL_d6ac9ff829e0426989dd4cb47a8af5c4",
            "value": "Extraction completed...: 100%"
          }
        },
        "4ef5373d848048b9af80cae37cdf722e": {
          "model_module": "@jupyter-widgets/controls",
          "model_name": "FloatProgressModel",
          "model_module_version": "1.5.0",
          "state": {
            "_dom_classes": [],
            "_model_module": "@jupyter-widgets/controls",
            "_model_module_version": "1.5.0",
            "_model_name": "FloatProgressModel",
            "_view_count": null,
            "_view_module": "@jupyter-widgets/controls",
            "_view_module_version": "1.5.0",
            "_view_name": "ProgressView",
            "bar_style": "success",
            "description": "",
            "description_tooltip": null,
            "layout": "IPY_MODEL_28065825becf43a588c920719c8d959b",
            "max": 1,
            "min": 0,
            "orientation": "horizontal",
            "style": "IPY_MODEL_39a55d7dc6d441d98c74c146793b49dd",
            "value": 1
          }
        },
        "8aeb5397db3a422e92348f405a913419": {
          "model_module": "@jupyter-widgets/controls",
          "model_name": "HTMLModel",
          "model_module_version": "1.5.0",
          "state": {
            "_dom_classes": [],
            "_model_module": "@jupyter-widgets/controls",
            "_model_module_version": "1.5.0",
            "_model_name": "HTMLModel",
            "_view_count": null,
            "_view_module": "@jupyter-widgets/controls",
            "_view_module_version": "1.5.0",
            "_view_name": "HTMLView",
            "description": "",
            "description_tooltip": null,
            "layout": "IPY_MODEL_4589262b69c54f4b9bb1f14eba4d90ee",
            "placeholder": "​",
            "style": "IPY_MODEL_5776a0219ac9491b91e6ecbd85f7cdf0",
            "value": " 1/1 [06:47&lt;00:00, 407.07s/ file]"
          }
        },
        "e4644a7148f24b1daa083dd143338d46": {
          "model_module": "@jupyter-widgets/base",
          "model_name": "LayoutModel",
          "model_module_version": "1.2.0",
          "state": {
            "_model_module": "@jupyter-widgets/base",
            "_model_module_version": "1.2.0",
            "_model_name": "LayoutModel",
            "_view_count": null,
            "_view_module": "@jupyter-widgets/base",
            "_view_module_version": "1.2.0",
            "_view_name": "LayoutView",
            "align_content": null,
            "align_items": null,
            "align_self": null,
            "border": null,
            "bottom": null,
            "display": null,
            "flex": null,
            "flex_flow": null,
            "grid_area": null,
            "grid_auto_columns": null,
            "grid_auto_flow": null,
            "grid_auto_rows": null,
            "grid_column": null,
            "grid_gap": null,
            "grid_row": null,
            "grid_template_areas": null,
            "grid_template_columns": null,
            "grid_template_rows": null,
            "height": null,
            "justify_content": null,
            "justify_items": null,
            "left": null,
            "margin": null,
            "max_height": null,
            "max_width": null,
            "min_height": null,
            "min_width": null,
            "object_fit": null,
            "object_position": null,
            "order": null,
            "overflow": null,
            "overflow_x": null,
            "overflow_y": null,
            "padding": null,
            "right": null,
            "top": null,
            "visibility": null,
            "width": null
          }
        },
        "2022a9080f4e40abb80bd61752987ee9": {
          "model_module": "@jupyter-widgets/base",
          "model_name": "LayoutModel",
          "model_module_version": "1.2.0",
          "state": {
            "_model_module": "@jupyter-widgets/base",
            "_model_module_version": "1.2.0",
            "_model_name": "LayoutModel",
            "_view_count": null,
            "_view_module": "@jupyter-widgets/base",
            "_view_module_version": "1.2.0",
            "_view_name": "LayoutView",
            "align_content": null,
            "align_items": null,
            "align_self": null,
            "border": null,
            "bottom": null,
            "display": null,
            "flex": null,
            "flex_flow": null,
            "grid_area": null,
            "grid_auto_columns": null,
            "grid_auto_flow": null,
            "grid_auto_rows": null,
            "grid_column": null,
            "grid_gap": null,
            "grid_row": null,
            "grid_template_areas": null,
            "grid_template_columns": null,
            "grid_template_rows": null,
            "height": null,
            "justify_content": null,
            "justify_items": null,
            "left": null,
            "margin": null,
            "max_height": null,
            "max_width": null,
            "min_height": null,
            "min_width": null,
            "object_fit": null,
            "object_position": null,
            "order": null,
            "overflow": null,
            "overflow_x": null,
            "overflow_y": null,
            "padding": null,
            "right": null,
            "top": null,
            "visibility": null,
            "width": null
          }
        },
        "d6ac9ff829e0426989dd4cb47a8af5c4": {
          "model_module": "@jupyter-widgets/controls",
          "model_name": "DescriptionStyleModel",
          "model_module_version": "1.5.0",
          "state": {
            "_model_module": "@jupyter-widgets/controls",
            "_model_module_version": "1.5.0",
            "_model_name": "DescriptionStyleModel",
            "_view_count": null,
            "_view_module": "@jupyter-widgets/base",
            "_view_module_version": "1.2.0",
            "_view_name": "StyleView",
            "description_width": ""
          }
        },
        "28065825becf43a588c920719c8d959b": {
          "model_module": "@jupyter-widgets/base",
          "model_name": "LayoutModel",
          "model_module_version": "1.2.0",
          "state": {
            "_model_module": "@jupyter-widgets/base",
            "_model_module_version": "1.2.0",
            "_model_name": "LayoutModel",
            "_view_count": null,
            "_view_module": "@jupyter-widgets/base",
            "_view_module_version": "1.2.0",
            "_view_name": "LayoutView",
            "align_content": null,
            "align_items": null,
            "align_self": null,
            "border": null,
            "bottom": null,
            "display": null,
            "flex": null,
            "flex_flow": null,
            "grid_area": null,
            "grid_auto_columns": null,
            "grid_auto_flow": null,
            "grid_auto_rows": null,
            "grid_column": null,
            "grid_gap": null,
            "grid_row": null,
            "grid_template_areas": null,
            "grid_template_columns": null,
            "grid_template_rows": null,
            "height": null,
            "justify_content": null,
            "justify_items": null,
            "left": null,
            "margin": null,
            "max_height": null,
            "max_width": null,
            "min_height": null,
            "min_width": null,
            "object_fit": null,
            "object_position": null,
            "order": null,
            "overflow": null,
            "overflow_x": null,
            "overflow_y": null,
            "padding": null,
            "right": null,
            "top": null,
            "visibility": null,
            "width": "20px"
          }
        },
        "39a55d7dc6d441d98c74c146793b49dd": {
          "model_module": "@jupyter-widgets/controls",
          "model_name": "ProgressStyleModel",
          "model_module_version": "1.5.0",
          "state": {
            "_model_module": "@jupyter-widgets/controls",
            "_model_module_version": "1.5.0",
            "_model_name": "ProgressStyleModel",
            "_view_count": null,
            "_view_module": "@jupyter-widgets/base",
            "_view_module_version": "1.2.0",
            "_view_name": "StyleView",
            "bar_color": null,
            "description_width": ""
          }
        },
        "4589262b69c54f4b9bb1f14eba4d90ee": {
          "model_module": "@jupyter-widgets/base",
          "model_name": "LayoutModel",
          "model_module_version": "1.2.0",
          "state": {
            "_model_module": "@jupyter-widgets/base",
            "_model_module_version": "1.2.0",
            "_model_name": "LayoutModel",
            "_view_count": null,
            "_view_module": "@jupyter-widgets/base",
            "_view_module_version": "1.2.0",
            "_view_name": "LayoutView",
            "align_content": null,
            "align_items": null,
            "align_self": null,
            "border": null,
            "bottom": null,
            "display": null,
            "flex": null,
            "flex_flow": null,
            "grid_area": null,
            "grid_auto_columns": null,
            "grid_auto_flow": null,
            "grid_auto_rows": null,
            "grid_column": null,
            "grid_gap": null,
            "grid_row": null,
            "grid_template_areas": null,
            "grid_template_columns": null,
            "grid_template_rows": null,
            "height": null,
            "justify_content": null,
            "justify_items": null,
            "left": null,
            "margin": null,
            "max_height": null,
            "max_width": null,
            "min_height": null,
            "min_width": null,
            "object_fit": null,
            "object_position": null,
            "order": null,
            "overflow": null,
            "overflow_x": null,
            "overflow_y": null,
            "padding": null,
            "right": null,
            "top": null,
            "visibility": null,
            "width": null
          }
        },
        "5776a0219ac9491b91e6ecbd85f7cdf0": {
          "model_module": "@jupyter-widgets/controls",
          "model_name": "DescriptionStyleModel",
          "model_module_version": "1.5.0",
          "state": {
            "_model_module": "@jupyter-widgets/controls",
            "_model_module_version": "1.5.0",
            "_model_name": "DescriptionStyleModel",
            "_view_count": null,
            "_view_module": "@jupyter-widgets/base",
            "_view_module_version": "1.2.0",
            "_view_name": "StyleView",
            "description_width": ""
          }
        },
        "f2b61c98eea8405e8bae2c47636116f1": {
          "model_module": "@jupyter-widgets/controls",
          "model_name": "HBoxModel",
          "model_module_version": "1.5.0",
          "state": {
            "_dom_classes": [],
            "_model_module": "@jupyter-widgets/controls",
            "_model_module_version": "1.5.0",
            "_model_name": "HBoxModel",
            "_view_count": null,
            "_view_module": "@jupyter-widgets/controls",
            "_view_module_version": "1.5.0",
            "_view_name": "HBoxView",
            "box_style": "",
            "children": [
              "IPY_MODEL_94ebadcfe3f44fa4934c6abdac63a396",
              "IPY_MODEL_6fdad6ff0791425b8d5bc192149ac294",
              "IPY_MODEL_8491c66c32d849d49f61812417e4b7ea"
            ],
            "layout": "IPY_MODEL_3c3dd5ec79a0405590f19b836b495a12"
          }
        },
        "94ebadcfe3f44fa4934c6abdac63a396": {
          "model_module": "@jupyter-widgets/controls",
          "model_name": "HTMLModel",
          "model_module_version": "1.5.0",
          "state": {
            "_dom_classes": [],
            "_model_module": "@jupyter-widgets/controls",
            "_model_module_version": "1.5.0",
            "_model_name": "HTMLModel",
            "_view_count": null,
            "_view_module": "@jupyter-widgets/controls",
            "_view_module_version": "1.5.0",
            "_view_name": "HTMLView",
            "description": "",
            "description_tooltip": null,
            "layout": "IPY_MODEL_e90180e70fd74a97a448d2f4ce934fbb",
            "placeholder": "​",
            "style": "IPY_MODEL_a51c7bfb40b149eaaf19fbe442bbc722",
            "value": "Generating splits...: 100%"
          }
        },
        "6fdad6ff0791425b8d5bc192149ac294": {
          "model_module": "@jupyter-widgets/controls",
          "model_name": "FloatProgressModel",
          "model_module_version": "1.5.0",
          "state": {
            "_dom_classes": [],
            "_model_module": "@jupyter-widgets/controls",
            "_model_module_version": "1.5.0",
            "_model_name": "FloatProgressModel",
            "_view_count": null,
            "_view_module": "@jupyter-widgets/controls",
            "_view_module_version": "1.5.0",
            "_view_name": "ProgressView",
            "bar_style": "",
            "description": "",
            "description_tooltip": null,
            "layout": "IPY_MODEL_8cb2b1b02c8a40b18dbc5fd992260a96",
            "max": 2,
            "min": 0,
            "orientation": "horizontal",
            "style": "IPY_MODEL_2758d531e89f43ef839d1776f7ff16be",
            "value": 2
          }
        },
        "8491c66c32d849d49f61812417e4b7ea": {
          "model_module": "@jupyter-widgets/controls",
          "model_name": "HTMLModel",
          "model_module_version": "1.5.0",
          "state": {
            "_dom_classes": [],
            "_model_module": "@jupyter-widgets/controls",
            "_model_module_version": "1.5.0",
            "_model_name": "HTMLModel",
            "_view_count": null,
            "_view_module": "@jupyter-widgets/controls",
            "_view_module_version": "1.5.0",
            "_view_name": "HTMLView",
            "description": "",
            "description_tooltip": null,
            "layout": "IPY_MODEL_aae78c1a452946d1ba540941d153fc1e",
            "placeholder": "​",
            "style": "IPY_MODEL_c5e6e5fda11e422ab9f8ef2a23c04abc",
            "value": " 2/2 [03:27&lt;00:00, 96.95s/ splits]"
          }
        },
        "3c3dd5ec79a0405590f19b836b495a12": {
          "model_module": "@jupyter-widgets/base",
          "model_name": "LayoutModel",
          "model_module_version": "1.2.0",
          "state": {
            "_model_module": "@jupyter-widgets/base",
            "_model_module_version": "1.2.0",
            "_model_name": "LayoutModel",
            "_view_count": null,
            "_view_module": "@jupyter-widgets/base",
            "_view_module_version": "1.2.0",
            "_view_name": "LayoutView",
            "align_content": null,
            "align_items": null,
            "align_self": null,
            "border": null,
            "bottom": null,
            "display": null,
            "flex": null,
            "flex_flow": null,
            "grid_area": null,
            "grid_auto_columns": null,
            "grid_auto_flow": null,
            "grid_auto_rows": null,
            "grid_column": null,
            "grid_gap": null,
            "grid_row": null,
            "grid_template_areas": null,
            "grid_template_columns": null,
            "grid_template_rows": null,
            "height": null,
            "justify_content": null,
            "justify_items": null,
            "left": null,
            "margin": null,
            "max_height": null,
            "max_width": null,
            "min_height": null,
            "min_width": null,
            "object_fit": null,
            "object_position": null,
            "order": null,
            "overflow": null,
            "overflow_x": null,
            "overflow_y": null,
            "padding": null,
            "right": null,
            "top": null,
            "visibility": "hidden",
            "width": null
          }
        },
        "e90180e70fd74a97a448d2f4ce934fbb": {
          "model_module": "@jupyter-widgets/base",
          "model_name": "LayoutModel",
          "model_module_version": "1.2.0",
          "state": {
            "_model_module": "@jupyter-widgets/base",
            "_model_module_version": "1.2.0",
            "_model_name": "LayoutModel",
            "_view_count": null,
            "_view_module": "@jupyter-widgets/base",
            "_view_module_version": "1.2.0",
            "_view_name": "LayoutView",
            "align_content": null,
            "align_items": null,
            "align_self": null,
            "border": null,
            "bottom": null,
            "display": null,
            "flex": null,
            "flex_flow": null,
            "grid_area": null,
            "grid_auto_columns": null,
            "grid_auto_flow": null,
            "grid_auto_rows": null,
            "grid_column": null,
            "grid_gap": null,
            "grid_row": null,
            "grid_template_areas": null,
            "grid_template_columns": null,
            "grid_template_rows": null,
            "height": null,
            "justify_content": null,
            "justify_items": null,
            "left": null,
            "margin": null,
            "max_height": null,
            "max_width": null,
            "min_height": null,
            "min_width": null,
            "object_fit": null,
            "object_position": null,
            "order": null,
            "overflow": null,
            "overflow_x": null,
            "overflow_y": null,
            "padding": null,
            "right": null,
            "top": null,
            "visibility": null,
            "width": null
          }
        },
        "a51c7bfb40b149eaaf19fbe442bbc722": {
          "model_module": "@jupyter-widgets/controls",
          "model_name": "DescriptionStyleModel",
          "model_module_version": "1.5.0",
          "state": {
            "_model_module": "@jupyter-widgets/controls",
            "_model_module_version": "1.5.0",
            "_model_name": "DescriptionStyleModel",
            "_view_count": null,
            "_view_module": "@jupyter-widgets/base",
            "_view_module_version": "1.2.0",
            "_view_name": "StyleView",
            "description_width": ""
          }
        },
        "8cb2b1b02c8a40b18dbc5fd992260a96": {
          "model_module": "@jupyter-widgets/base",
          "model_name": "LayoutModel",
          "model_module_version": "1.2.0",
          "state": {
            "_model_module": "@jupyter-widgets/base",
            "_model_module_version": "1.2.0",
            "_model_name": "LayoutModel",
            "_view_count": null,
            "_view_module": "@jupyter-widgets/base",
            "_view_module_version": "1.2.0",
            "_view_name": "LayoutView",
            "align_content": null,
            "align_items": null,
            "align_self": null,
            "border": null,
            "bottom": null,
            "display": null,
            "flex": null,
            "flex_flow": null,
            "grid_area": null,
            "grid_auto_columns": null,
            "grid_auto_flow": null,
            "grid_auto_rows": null,
            "grid_column": null,
            "grid_gap": null,
            "grid_row": null,
            "grid_template_areas": null,
            "grid_template_columns": null,
            "grid_template_rows": null,
            "height": null,
            "justify_content": null,
            "justify_items": null,
            "left": null,
            "margin": null,
            "max_height": null,
            "max_width": null,
            "min_height": null,
            "min_width": null,
            "object_fit": null,
            "object_position": null,
            "order": null,
            "overflow": null,
            "overflow_x": null,
            "overflow_y": null,
            "padding": null,
            "right": null,
            "top": null,
            "visibility": null,
            "width": null
          }
        },
        "2758d531e89f43ef839d1776f7ff16be": {
          "model_module": "@jupyter-widgets/controls",
          "model_name": "ProgressStyleModel",
          "model_module_version": "1.5.0",
          "state": {
            "_model_module": "@jupyter-widgets/controls",
            "_model_module_version": "1.5.0",
            "_model_name": "ProgressStyleModel",
            "_view_count": null,
            "_view_module": "@jupyter-widgets/base",
            "_view_module_version": "1.2.0",
            "_view_name": "StyleView",
            "bar_color": null,
            "description_width": ""
          }
        },
        "aae78c1a452946d1ba540941d153fc1e": {
          "model_module": "@jupyter-widgets/base",
          "model_name": "LayoutModel",
          "model_module_version": "1.2.0",
          "state": {
            "_model_module": "@jupyter-widgets/base",
            "_model_module_version": "1.2.0",
            "_model_name": "LayoutModel",
            "_view_count": null,
            "_view_module": "@jupyter-widgets/base",
            "_view_module_version": "1.2.0",
            "_view_name": "LayoutView",
            "align_content": null,
            "align_items": null,
            "align_self": null,
            "border": null,
            "bottom": null,
            "display": null,
            "flex": null,
            "flex_flow": null,
            "grid_area": null,
            "grid_auto_columns": null,
            "grid_auto_flow": null,
            "grid_auto_rows": null,
            "grid_column": null,
            "grid_gap": null,
            "grid_row": null,
            "grid_template_areas": null,
            "grid_template_columns": null,
            "grid_template_rows": null,
            "height": null,
            "justify_content": null,
            "justify_items": null,
            "left": null,
            "margin": null,
            "max_height": null,
            "max_width": null,
            "min_height": null,
            "min_width": null,
            "object_fit": null,
            "object_position": null,
            "order": null,
            "overflow": null,
            "overflow_x": null,
            "overflow_y": null,
            "padding": null,
            "right": null,
            "top": null,
            "visibility": null,
            "width": null
          }
        },
        "c5e6e5fda11e422ab9f8ef2a23c04abc": {
          "model_module": "@jupyter-widgets/controls",
          "model_name": "DescriptionStyleModel",
          "model_module_version": "1.5.0",
          "state": {
            "_model_module": "@jupyter-widgets/controls",
            "_model_module_version": "1.5.0",
            "_model_name": "DescriptionStyleModel",
            "_view_count": null,
            "_view_module": "@jupyter-widgets/base",
            "_view_module_version": "1.2.0",
            "_view_name": "StyleView",
            "description_width": ""
          }
        },
        "bc693281c54148d38798722788f9c551": {
          "model_module": "@jupyter-widgets/controls",
          "model_name": "HBoxModel",
          "model_module_version": "1.5.0",
          "state": {
            "_dom_classes": [],
            "_model_module": "@jupyter-widgets/controls",
            "_model_module_version": "1.5.0",
            "_model_name": "HBoxModel",
            "_view_count": null,
            "_view_module": "@jupyter-widgets/controls",
            "_view_module_version": "1.5.0",
            "_view_name": "HBoxView",
            "box_style": "",
            "children": [
              "IPY_MODEL_461094644ce14a60abda2c41e5d4d411",
              "IPY_MODEL_bcff29df44504ff78a14ebde48b5824a",
              "IPY_MODEL_9689144d48a4462f99a135c0e4f23c81"
            ],
            "layout": "IPY_MODEL_e771ebc43a99497d984f8f6af3803611"
          }
        },
        "461094644ce14a60abda2c41e5d4d411": {
          "model_module": "@jupyter-widgets/controls",
          "model_name": "HTMLModel",
          "model_module_version": "1.5.0",
          "state": {
            "_dom_classes": [],
            "_model_module": "@jupyter-widgets/controls",
            "_model_module_version": "1.5.0",
            "_model_name": "HTMLModel",
            "_view_count": null,
            "_view_module": "@jupyter-widgets/controls",
            "_view_module_version": "1.5.0",
            "_view_name": "HTMLView",
            "description": "",
            "description_tooltip": null,
            "layout": "IPY_MODEL_ba6e9f26c8824d39a8567931fae6a656",
            "placeholder": "​",
            "style": "IPY_MODEL_b28e7d2e05ff44d0bf32b0e3fe51aa34",
            "value": "Generating train examples...: 100%"
          }
        },
        "bcff29df44504ff78a14ebde48b5824a": {
          "model_module": "@jupyter-widgets/controls",
          "model_name": "FloatProgressModel",
          "model_module_version": "1.5.0",
          "state": {
            "_dom_classes": [],
            "_model_module": "@jupyter-widgets/controls",
            "_model_module_version": "1.5.0",
            "_model_name": "FloatProgressModel",
            "_view_count": null,
            "_view_module": "@jupyter-widgets/controls",
            "_view_module_version": "1.5.0",
            "_view_name": "ProgressView",
            "bar_style": "",
            "description": "",
            "description_tooltip": null,
            "layout": "IPY_MODEL_33375f12d31c405cb65574f1e2dd27c8",
            "max": 75750,
            "min": 0,
            "orientation": "horizontal",
            "style": "IPY_MODEL_a2f9e6a7a8a8478a9df9ceb33996dc42",
            "value": 75750
          }
        },
        "9689144d48a4462f99a135c0e4f23c81": {
          "model_module": "@jupyter-widgets/controls",
          "model_name": "HTMLModel",
          "model_module_version": "1.5.0",
          "state": {
            "_dom_classes": [],
            "_model_module": "@jupyter-widgets/controls",
            "_model_module_version": "1.5.0",
            "_model_name": "HTMLModel",
            "_view_count": null,
            "_view_module": "@jupyter-widgets/controls",
            "_view_module_version": "1.5.0",
            "_view_name": "HTMLView",
            "description": "",
            "description_tooltip": null,
            "layout": "IPY_MODEL_ad97c22dad0a454ebd19856582af582d",
            "placeholder": "​",
            "style": "IPY_MODEL_84b4d9889e9c4aef9e06a2b2df7485a8",
            "value": " 75656/75750 [01:51&lt;00:00, 781.38 examples/s]"
          }
        },
        "e771ebc43a99497d984f8f6af3803611": {
          "model_module": "@jupyter-widgets/base",
          "model_name": "LayoutModel",
          "model_module_version": "1.2.0",
          "state": {
            "_model_module": "@jupyter-widgets/base",
            "_model_module_version": "1.2.0",
            "_model_name": "LayoutModel",
            "_view_count": null,
            "_view_module": "@jupyter-widgets/base",
            "_view_module_version": "1.2.0",
            "_view_name": "LayoutView",
            "align_content": null,
            "align_items": null,
            "align_self": null,
            "border": null,
            "bottom": null,
            "display": null,
            "flex": null,
            "flex_flow": null,
            "grid_area": null,
            "grid_auto_columns": null,
            "grid_auto_flow": null,
            "grid_auto_rows": null,
            "grid_column": null,
            "grid_gap": null,
            "grid_row": null,
            "grid_template_areas": null,
            "grid_template_columns": null,
            "grid_template_rows": null,
            "height": null,
            "justify_content": null,
            "justify_items": null,
            "left": null,
            "margin": null,
            "max_height": null,
            "max_width": null,
            "min_height": null,
            "min_width": null,
            "object_fit": null,
            "object_position": null,
            "order": null,
            "overflow": null,
            "overflow_x": null,
            "overflow_y": null,
            "padding": null,
            "right": null,
            "top": null,
            "visibility": "hidden",
            "width": null
          }
        },
        "ba6e9f26c8824d39a8567931fae6a656": {
          "model_module": "@jupyter-widgets/base",
          "model_name": "LayoutModel",
          "model_module_version": "1.2.0",
          "state": {
            "_model_module": "@jupyter-widgets/base",
            "_model_module_version": "1.2.0",
            "_model_name": "LayoutModel",
            "_view_count": null,
            "_view_module": "@jupyter-widgets/base",
            "_view_module_version": "1.2.0",
            "_view_name": "LayoutView",
            "align_content": null,
            "align_items": null,
            "align_self": null,
            "border": null,
            "bottom": null,
            "display": null,
            "flex": null,
            "flex_flow": null,
            "grid_area": null,
            "grid_auto_columns": null,
            "grid_auto_flow": null,
            "grid_auto_rows": null,
            "grid_column": null,
            "grid_gap": null,
            "grid_row": null,
            "grid_template_areas": null,
            "grid_template_columns": null,
            "grid_template_rows": null,
            "height": null,
            "justify_content": null,
            "justify_items": null,
            "left": null,
            "margin": null,
            "max_height": null,
            "max_width": null,
            "min_height": null,
            "min_width": null,
            "object_fit": null,
            "object_position": null,
            "order": null,
            "overflow": null,
            "overflow_x": null,
            "overflow_y": null,
            "padding": null,
            "right": null,
            "top": null,
            "visibility": null,
            "width": null
          }
        },
        "b28e7d2e05ff44d0bf32b0e3fe51aa34": {
          "model_module": "@jupyter-widgets/controls",
          "model_name": "DescriptionStyleModel",
          "model_module_version": "1.5.0",
          "state": {
            "_model_module": "@jupyter-widgets/controls",
            "_model_module_version": "1.5.0",
            "_model_name": "DescriptionStyleModel",
            "_view_count": null,
            "_view_module": "@jupyter-widgets/base",
            "_view_module_version": "1.2.0",
            "_view_name": "StyleView",
            "description_width": ""
          }
        },
        "33375f12d31c405cb65574f1e2dd27c8": {
          "model_module": "@jupyter-widgets/base",
          "model_name": "LayoutModel",
          "model_module_version": "1.2.0",
          "state": {
            "_model_module": "@jupyter-widgets/base",
            "_model_module_version": "1.2.0",
            "_model_name": "LayoutModel",
            "_view_count": null,
            "_view_module": "@jupyter-widgets/base",
            "_view_module_version": "1.2.0",
            "_view_name": "LayoutView",
            "align_content": null,
            "align_items": null,
            "align_self": null,
            "border": null,
            "bottom": null,
            "display": null,
            "flex": null,
            "flex_flow": null,
            "grid_area": null,
            "grid_auto_columns": null,
            "grid_auto_flow": null,
            "grid_auto_rows": null,
            "grid_column": null,
            "grid_gap": null,
            "grid_row": null,
            "grid_template_areas": null,
            "grid_template_columns": null,
            "grid_template_rows": null,
            "height": null,
            "justify_content": null,
            "justify_items": null,
            "left": null,
            "margin": null,
            "max_height": null,
            "max_width": null,
            "min_height": null,
            "min_width": null,
            "object_fit": null,
            "object_position": null,
            "order": null,
            "overflow": null,
            "overflow_x": null,
            "overflow_y": null,
            "padding": null,
            "right": null,
            "top": null,
            "visibility": null,
            "width": null
          }
        },
        "a2f9e6a7a8a8478a9df9ceb33996dc42": {
          "model_module": "@jupyter-widgets/controls",
          "model_name": "ProgressStyleModel",
          "model_module_version": "1.5.0",
          "state": {
            "_model_module": "@jupyter-widgets/controls",
            "_model_module_version": "1.5.0",
            "_model_name": "ProgressStyleModel",
            "_view_count": null,
            "_view_module": "@jupyter-widgets/base",
            "_view_module_version": "1.2.0",
            "_view_name": "StyleView",
            "bar_color": null,
            "description_width": ""
          }
        },
        "ad97c22dad0a454ebd19856582af582d": {
          "model_module": "@jupyter-widgets/base",
          "model_name": "LayoutModel",
          "model_module_version": "1.2.0",
          "state": {
            "_model_module": "@jupyter-widgets/base",
            "_model_module_version": "1.2.0",
            "_model_name": "LayoutModel",
            "_view_count": null,
            "_view_module": "@jupyter-widgets/base",
            "_view_module_version": "1.2.0",
            "_view_name": "LayoutView",
            "align_content": null,
            "align_items": null,
            "align_self": null,
            "border": null,
            "bottom": null,
            "display": null,
            "flex": null,
            "flex_flow": null,
            "grid_area": null,
            "grid_auto_columns": null,
            "grid_auto_flow": null,
            "grid_auto_rows": null,
            "grid_column": null,
            "grid_gap": null,
            "grid_row": null,
            "grid_template_areas": null,
            "grid_template_columns": null,
            "grid_template_rows": null,
            "height": null,
            "justify_content": null,
            "justify_items": null,
            "left": null,
            "margin": null,
            "max_height": null,
            "max_width": null,
            "min_height": null,
            "min_width": null,
            "object_fit": null,
            "object_position": null,
            "order": null,
            "overflow": null,
            "overflow_x": null,
            "overflow_y": null,
            "padding": null,
            "right": null,
            "top": null,
            "visibility": null,
            "width": null
          }
        },
        "84b4d9889e9c4aef9e06a2b2df7485a8": {
          "model_module": "@jupyter-widgets/controls",
          "model_name": "DescriptionStyleModel",
          "model_module_version": "1.5.0",
          "state": {
            "_model_module": "@jupyter-widgets/controls",
            "_model_module_version": "1.5.0",
            "_model_name": "DescriptionStyleModel",
            "_view_count": null,
            "_view_module": "@jupyter-widgets/base",
            "_view_module_version": "1.2.0",
            "_view_name": "StyleView",
            "description_width": ""
          }
        },
        "537d6be3dd4d4aec92bff5afcdc0fa2f": {
          "model_module": "@jupyter-widgets/controls",
          "model_name": "HBoxModel",
          "model_module_version": "1.5.0",
          "state": {
            "_dom_classes": [],
            "_model_module": "@jupyter-widgets/controls",
            "_model_module_version": "1.5.0",
            "_model_name": "HBoxModel",
            "_view_count": null,
            "_view_module": "@jupyter-widgets/controls",
            "_view_module_version": "1.5.0",
            "_view_name": "HBoxView",
            "box_style": "",
            "children": [
              "IPY_MODEL_0cfac851b40b4b9599a039979f0ea59a",
              "IPY_MODEL_ac30df7dcd334578a6f9e61017c518f5",
              "IPY_MODEL_bff9f567cf354b2fad0636a45da0264e"
            ],
            "layout": "IPY_MODEL_87b77ec2356c4dd2997d5a31c87317df"
          }
        },
        "0cfac851b40b4b9599a039979f0ea59a": {
          "model_module": "@jupyter-widgets/controls",
          "model_name": "HTMLModel",
          "model_module_version": "1.5.0",
          "state": {
            "_dom_classes": [],
            "_model_module": "@jupyter-widgets/controls",
            "_model_module_version": "1.5.0",
            "_model_name": "HTMLModel",
            "_view_count": null,
            "_view_module": "@jupyter-widgets/controls",
            "_view_module_version": "1.5.0",
            "_view_name": "HTMLView",
            "description": "",
            "description_tooltip": null,
            "layout": "IPY_MODEL_d3f76c78a29e4578ba3ced35c51dca42",
            "placeholder": "​",
            "style": "IPY_MODEL_03a0808069cd43a8ab16f88d5b8157b4",
            "value": "Shuffling ~/tensorflow_datasets/food101/2.0.0.incompleteHKNYNL/food101-train.tfrecord*...: 100%"
          }
        },
        "ac30df7dcd334578a6f9e61017c518f5": {
          "model_module": "@jupyter-widgets/controls",
          "model_name": "FloatProgressModel",
          "model_module_version": "1.5.0",
          "state": {
            "_dom_classes": [],
            "_model_module": "@jupyter-widgets/controls",
            "_model_module_version": "1.5.0",
            "_model_name": "FloatProgressModel",
            "_view_count": null,
            "_view_module": "@jupyter-widgets/controls",
            "_view_module_version": "1.5.0",
            "_view_name": "ProgressView",
            "bar_style": "",
            "description": "",
            "description_tooltip": null,
            "layout": "IPY_MODEL_00c7b7b6e150491da9b34399827ea3eb",
            "max": 75750,
            "min": 0,
            "orientation": "horizontal",
            "style": "IPY_MODEL_4553088d8931421585ce290976f6cd77",
            "value": 75750
          }
        },
        "bff9f567cf354b2fad0636a45da0264e": {
          "model_module": "@jupyter-widgets/controls",
          "model_name": "HTMLModel",
          "model_module_version": "1.5.0",
          "state": {
            "_dom_classes": [],
            "_model_module": "@jupyter-widgets/controls",
            "_model_module_version": "1.5.0",
            "_model_name": "HTMLModel",
            "_view_count": null,
            "_view_module": "@jupyter-widgets/controls",
            "_view_module_version": "1.5.0",
            "_view_name": "HTMLView",
            "description": "",
            "description_tooltip": null,
            "layout": "IPY_MODEL_0d7af24e715244969584aa54ac3a7948",
            "placeholder": "​",
            "style": "IPY_MODEL_ea314094469c4c1da8cd498c68b590ef",
            "value": " 75601/75750 [00:31&lt;00:00, 2557.84 examples/s]"
          }
        },
        "87b77ec2356c4dd2997d5a31c87317df": {
          "model_module": "@jupyter-widgets/base",
          "model_name": "LayoutModel",
          "model_module_version": "1.2.0",
          "state": {
            "_model_module": "@jupyter-widgets/base",
            "_model_module_version": "1.2.0",
            "_model_name": "LayoutModel",
            "_view_count": null,
            "_view_module": "@jupyter-widgets/base",
            "_view_module_version": "1.2.0",
            "_view_name": "LayoutView",
            "align_content": null,
            "align_items": null,
            "align_self": null,
            "border": null,
            "bottom": null,
            "display": null,
            "flex": null,
            "flex_flow": null,
            "grid_area": null,
            "grid_auto_columns": null,
            "grid_auto_flow": null,
            "grid_auto_rows": null,
            "grid_column": null,
            "grid_gap": null,
            "grid_row": null,
            "grid_template_areas": null,
            "grid_template_columns": null,
            "grid_template_rows": null,
            "height": null,
            "justify_content": null,
            "justify_items": null,
            "left": null,
            "margin": null,
            "max_height": null,
            "max_width": null,
            "min_height": null,
            "min_width": null,
            "object_fit": null,
            "object_position": null,
            "order": null,
            "overflow": null,
            "overflow_x": null,
            "overflow_y": null,
            "padding": null,
            "right": null,
            "top": null,
            "visibility": "hidden",
            "width": null
          }
        },
        "d3f76c78a29e4578ba3ced35c51dca42": {
          "model_module": "@jupyter-widgets/base",
          "model_name": "LayoutModel",
          "model_module_version": "1.2.0",
          "state": {
            "_model_module": "@jupyter-widgets/base",
            "_model_module_version": "1.2.0",
            "_model_name": "LayoutModel",
            "_view_count": null,
            "_view_module": "@jupyter-widgets/base",
            "_view_module_version": "1.2.0",
            "_view_name": "LayoutView",
            "align_content": null,
            "align_items": null,
            "align_self": null,
            "border": null,
            "bottom": null,
            "display": null,
            "flex": null,
            "flex_flow": null,
            "grid_area": null,
            "grid_auto_columns": null,
            "grid_auto_flow": null,
            "grid_auto_rows": null,
            "grid_column": null,
            "grid_gap": null,
            "grid_row": null,
            "grid_template_areas": null,
            "grid_template_columns": null,
            "grid_template_rows": null,
            "height": null,
            "justify_content": null,
            "justify_items": null,
            "left": null,
            "margin": null,
            "max_height": null,
            "max_width": null,
            "min_height": null,
            "min_width": null,
            "object_fit": null,
            "object_position": null,
            "order": null,
            "overflow": null,
            "overflow_x": null,
            "overflow_y": null,
            "padding": null,
            "right": null,
            "top": null,
            "visibility": null,
            "width": null
          }
        },
        "03a0808069cd43a8ab16f88d5b8157b4": {
          "model_module": "@jupyter-widgets/controls",
          "model_name": "DescriptionStyleModel",
          "model_module_version": "1.5.0",
          "state": {
            "_model_module": "@jupyter-widgets/controls",
            "_model_module_version": "1.5.0",
            "_model_name": "DescriptionStyleModel",
            "_view_count": null,
            "_view_module": "@jupyter-widgets/base",
            "_view_module_version": "1.2.0",
            "_view_name": "StyleView",
            "description_width": ""
          }
        },
        "00c7b7b6e150491da9b34399827ea3eb": {
          "model_module": "@jupyter-widgets/base",
          "model_name": "LayoutModel",
          "model_module_version": "1.2.0",
          "state": {
            "_model_module": "@jupyter-widgets/base",
            "_model_module_version": "1.2.0",
            "_model_name": "LayoutModel",
            "_view_count": null,
            "_view_module": "@jupyter-widgets/base",
            "_view_module_version": "1.2.0",
            "_view_name": "LayoutView",
            "align_content": null,
            "align_items": null,
            "align_self": null,
            "border": null,
            "bottom": null,
            "display": null,
            "flex": null,
            "flex_flow": null,
            "grid_area": null,
            "grid_auto_columns": null,
            "grid_auto_flow": null,
            "grid_auto_rows": null,
            "grid_column": null,
            "grid_gap": null,
            "grid_row": null,
            "grid_template_areas": null,
            "grid_template_columns": null,
            "grid_template_rows": null,
            "height": null,
            "justify_content": null,
            "justify_items": null,
            "left": null,
            "margin": null,
            "max_height": null,
            "max_width": null,
            "min_height": null,
            "min_width": null,
            "object_fit": null,
            "object_position": null,
            "order": null,
            "overflow": null,
            "overflow_x": null,
            "overflow_y": null,
            "padding": null,
            "right": null,
            "top": null,
            "visibility": null,
            "width": null
          }
        },
        "4553088d8931421585ce290976f6cd77": {
          "model_module": "@jupyter-widgets/controls",
          "model_name": "ProgressStyleModel",
          "model_module_version": "1.5.0",
          "state": {
            "_model_module": "@jupyter-widgets/controls",
            "_model_module_version": "1.5.0",
            "_model_name": "ProgressStyleModel",
            "_view_count": null,
            "_view_module": "@jupyter-widgets/base",
            "_view_module_version": "1.2.0",
            "_view_name": "StyleView",
            "bar_color": null,
            "description_width": ""
          }
        },
        "0d7af24e715244969584aa54ac3a7948": {
          "model_module": "@jupyter-widgets/base",
          "model_name": "LayoutModel",
          "model_module_version": "1.2.0",
          "state": {
            "_model_module": "@jupyter-widgets/base",
            "_model_module_version": "1.2.0",
            "_model_name": "LayoutModel",
            "_view_count": null,
            "_view_module": "@jupyter-widgets/base",
            "_view_module_version": "1.2.0",
            "_view_name": "LayoutView",
            "align_content": null,
            "align_items": null,
            "align_self": null,
            "border": null,
            "bottom": null,
            "display": null,
            "flex": null,
            "flex_flow": null,
            "grid_area": null,
            "grid_auto_columns": null,
            "grid_auto_flow": null,
            "grid_auto_rows": null,
            "grid_column": null,
            "grid_gap": null,
            "grid_row": null,
            "grid_template_areas": null,
            "grid_template_columns": null,
            "grid_template_rows": null,
            "height": null,
            "justify_content": null,
            "justify_items": null,
            "left": null,
            "margin": null,
            "max_height": null,
            "max_width": null,
            "min_height": null,
            "min_width": null,
            "object_fit": null,
            "object_position": null,
            "order": null,
            "overflow": null,
            "overflow_x": null,
            "overflow_y": null,
            "padding": null,
            "right": null,
            "top": null,
            "visibility": null,
            "width": null
          }
        },
        "ea314094469c4c1da8cd498c68b590ef": {
          "model_module": "@jupyter-widgets/controls",
          "model_name": "DescriptionStyleModel",
          "model_module_version": "1.5.0",
          "state": {
            "_model_module": "@jupyter-widgets/controls",
            "_model_module_version": "1.5.0",
            "_model_name": "DescriptionStyleModel",
            "_view_count": null,
            "_view_module": "@jupyter-widgets/base",
            "_view_module_version": "1.2.0",
            "_view_name": "StyleView",
            "description_width": ""
          }
        },
        "4813ff55663a44cb95b89f69b93d0582": {
          "model_module": "@jupyter-widgets/controls",
          "model_name": "HBoxModel",
          "model_module_version": "1.5.0",
          "state": {
            "_dom_classes": [],
            "_model_module": "@jupyter-widgets/controls",
            "_model_module_version": "1.5.0",
            "_model_name": "HBoxModel",
            "_view_count": null,
            "_view_module": "@jupyter-widgets/controls",
            "_view_module_version": "1.5.0",
            "_view_name": "HBoxView",
            "box_style": "",
            "children": [
              "IPY_MODEL_a72ab0f2a912478189ff6b6755de74fa",
              "IPY_MODEL_a2f9048702e640ab93af8d67ea6bca0d",
              "IPY_MODEL_ac19cc3a0b334cf6b7a5f466c6eabd24"
            ],
            "layout": "IPY_MODEL_aafc0dabc52243f695bd2d28397c3a04"
          }
        },
        "a72ab0f2a912478189ff6b6755de74fa": {
          "model_module": "@jupyter-widgets/controls",
          "model_name": "HTMLModel",
          "model_module_version": "1.5.0",
          "state": {
            "_dom_classes": [],
            "_model_module": "@jupyter-widgets/controls",
            "_model_module_version": "1.5.0",
            "_model_name": "HTMLModel",
            "_view_count": null,
            "_view_module": "@jupyter-widgets/controls",
            "_view_module_version": "1.5.0",
            "_view_name": "HTMLView",
            "description": "",
            "description_tooltip": null,
            "layout": "IPY_MODEL_3ed60ffb0a664a13a12155a661f3633d",
            "placeholder": "​",
            "style": "IPY_MODEL_16747414b6454bc083af252633bc7510",
            "value": "Generating validation examples...: 100%"
          }
        },
        "a2f9048702e640ab93af8d67ea6bca0d": {
          "model_module": "@jupyter-widgets/controls",
          "model_name": "FloatProgressModel",
          "model_module_version": "1.5.0",
          "state": {
            "_dom_classes": [],
            "_model_module": "@jupyter-widgets/controls",
            "_model_module_version": "1.5.0",
            "_model_name": "FloatProgressModel",
            "_view_count": null,
            "_view_module": "@jupyter-widgets/controls",
            "_view_module_version": "1.5.0",
            "_view_name": "ProgressView",
            "bar_style": "",
            "description": "",
            "description_tooltip": null,
            "layout": "IPY_MODEL_942f6223f80f41a1bb6f828e6d929ec7",
            "max": 25250,
            "min": 0,
            "orientation": "horizontal",
            "style": "IPY_MODEL_60488041bb9846309831ecf14478ca69",
            "value": 25250
          }
        },
        "ac19cc3a0b334cf6b7a5f466c6eabd24": {
          "model_module": "@jupyter-widgets/controls",
          "model_name": "HTMLModel",
          "model_module_version": "1.5.0",
          "state": {
            "_dom_classes": [],
            "_model_module": "@jupyter-widgets/controls",
            "_model_module_version": "1.5.0",
            "_model_name": "HTMLModel",
            "_view_count": null,
            "_view_module": "@jupyter-widgets/controls",
            "_view_module_version": "1.5.0",
            "_view_name": "HTMLView",
            "description": "",
            "description_tooltip": null,
            "layout": "IPY_MODEL_96aec08a5a2f4715aa182a83bc784fdf",
            "placeholder": "​",
            "style": "IPY_MODEL_5848f77f13fe4371ad3a7dc94cea4ad0",
            "value": " 25214/25250 [00:59&lt;00:00, 498.38 examples/s]"
          }
        },
        "aafc0dabc52243f695bd2d28397c3a04": {
          "model_module": "@jupyter-widgets/base",
          "model_name": "LayoutModel",
          "model_module_version": "1.2.0",
          "state": {
            "_model_module": "@jupyter-widgets/base",
            "_model_module_version": "1.2.0",
            "_model_name": "LayoutModel",
            "_view_count": null,
            "_view_module": "@jupyter-widgets/base",
            "_view_module_version": "1.2.0",
            "_view_name": "LayoutView",
            "align_content": null,
            "align_items": null,
            "align_self": null,
            "border": null,
            "bottom": null,
            "display": null,
            "flex": null,
            "flex_flow": null,
            "grid_area": null,
            "grid_auto_columns": null,
            "grid_auto_flow": null,
            "grid_auto_rows": null,
            "grid_column": null,
            "grid_gap": null,
            "grid_row": null,
            "grid_template_areas": null,
            "grid_template_columns": null,
            "grid_template_rows": null,
            "height": null,
            "justify_content": null,
            "justify_items": null,
            "left": null,
            "margin": null,
            "max_height": null,
            "max_width": null,
            "min_height": null,
            "min_width": null,
            "object_fit": null,
            "object_position": null,
            "order": null,
            "overflow": null,
            "overflow_x": null,
            "overflow_y": null,
            "padding": null,
            "right": null,
            "top": null,
            "visibility": "hidden",
            "width": null
          }
        },
        "3ed60ffb0a664a13a12155a661f3633d": {
          "model_module": "@jupyter-widgets/base",
          "model_name": "LayoutModel",
          "model_module_version": "1.2.0",
          "state": {
            "_model_module": "@jupyter-widgets/base",
            "_model_module_version": "1.2.0",
            "_model_name": "LayoutModel",
            "_view_count": null,
            "_view_module": "@jupyter-widgets/base",
            "_view_module_version": "1.2.0",
            "_view_name": "LayoutView",
            "align_content": null,
            "align_items": null,
            "align_self": null,
            "border": null,
            "bottom": null,
            "display": null,
            "flex": null,
            "flex_flow": null,
            "grid_area": null,
            "grid_auto_columns": null,
            "grid_auto_flow": null,
            "grid_auto_rows": null,
            "grid_column": null,
            "grid_gap": null,
            "grid_row": null,
            "grid_template_areas": null,
            "grid_template_columns": null,
            "grid_template_rows": null,
            "height": null,
            "justify_content": null,
            "justify_items": null,
            "left": null,
            "margin": null,
            "max_height": null,
            "max_width": null,
            "min_height": null,
            "min_width": null,
            "object_fit": null,
            "object_position": null,
            "order": null,
            "overflow": null,
            "overflow_x": null,
            "overflow_y": null,
            "padding": null,
            "right": null,
            "top": null,
            "visibility": null,
            "width": null
          }
        },
        "16747414b6454bc083af252633bc7510": {
          "model_module": "@jupyter-widgets/controls",
          "model_name": "DescriptionStyleModel",
          "model_module_version": "1.5.0",
          "state": {
            "_model_module": "@jupyter-widgets/controls",
            "_model_module_version": "1.5.0",
            "_model_name": "DescriptionStyleModel",
            "_view_count": null,
            "_view_module": "@jupyter-widgets/base",
            "_view_module_version": "1.2.0",
            "_view_name": "StyleView",
            "description_width": ""
          }
        },
        "942f6223f80f41a1bb6f828e6d929ec7": {
          "model_module": "@jupyter-widgets/base",
          "model_name": "LayoutModel",
          "model_module_version": "1.2.0",
          "state": {
            "_model_module": "@jupyter-widgets/base",
            "_model_module_version": "1.2.0",
            "_model_name": "LayoutModel",
            "_view_count": null,
            "_view_module": "@jupyter-widgets/base",
            "_view_module_version": "1.2.0",
            "_view_name": "LayoutView",
            "align_content": null,
            "align_items": null,
            "align_self": null,
            "border": null,
            "bottom": null,
            "display": null,
            "flex": null,
            "flex_flow": null,
            "grid_area": null,
            "grid_auto_columns": null,
            "grid_auto_flow": null,
            "grid_auto_rows": null,
            "grid_column": null,
            "grid_gap": null,
            "grid_row": null,
            "grid_template_areas": null,
            "grid_template_columns": null,
            "grid_template_rows": null,
            "height": null,
            "justify_content": null,
            "justify_items": null,
            "left": null,
            "margin": null,
            "max_height": null,
            "max_width": null,
            "min_height": null,
            "min_width": null,
            "object_fit": null,
            "object_position": null,
            "order": null,
            "overflow": null,
            "overflow_x": null,
            "overflow_y": null,
            "padding": null,
            "right": null,
            "top": null,
            "visibility": null,
            "width": null
          }
        },
        "60488041bb9846309831ecf14478ca69": {
          "model_module": "@jupyter-widgets/controls",
          "model_name": "ProgressStyleModel",
          "model_module_version": "1.5.0",
          "state": {
            "_model_module": "@jupyter-widgets/controls",
            "_model_module_version": "1.5.0",
            "_model_name": "ProgressStyleModel",
            "_view_count": null,
            "_view_module": "@jupyter-widgets/base",
            "_view_module_version": "1.2.0",
            "_view_name": "StyleView",
            "bar_color": null,
            "description_width": ""
          }
        },
        "96aec08a5a2f4715aa182a83bc784fdf": {
          "model_module": "@jupyter-widgets/base",
          "model_name": "LayoutModel",
          "model_module_version": "1.2.0",
          "state": {
            "_model_module": "@jupyter-widgets/base",
            "_model_module_version": "1.2.0",
            "_model_name": "LayoutModel",
            "_view_count": null,
            "_view_module": "@jupyter-widgets/base",
            "_view_module_version": "1.2.0",
            "_view_name": "LayoutView",
            "align_content": null,
            "align_items": null,
            "align_self": null,
            "border": null,
            "bottom": null,
            "display": null,
            "flex": null,
            "flex_flow": null,
            "grid_area": null,
            "grid_auto_columns": null,
            "grid_auto_flow": null,
            "grid_auto_rows": null,
            "grid_column": null,
            "grid_gap": null,
            "grid_row": null,
            "grid_template_areas": null,
            "grid_template_columns": null,
            "grid_template_rows": null,
            "height": null,
            "justify_content": null,
            "justify_items": null,
            "left": null,
            "margin": null,
            "max_height": null,
            "max_width": null,
            "min_height": null,
            "min_width": null,
            "object_fit": null,
            "object_position": null,
            "order": null,
            "overflow": null,
            "overflow_x": null,
            "overflow_y": null,
            "padding": null,
            "right": null,
            "top": null,
            "visibility": null,
            "width": null
          }
        },
        "5848f77f13fe4371ad3a7dc94cea4ad0": {
          "model_module": "@jupyter-widgets/controls",
          "model_name": "DescriptionStyleModel",
          "model_module_version": "1.5.0",
          "state": {
            "_model_module": "@jupyter-widgets/controls",
            "_model_module_version": "1.5.0",
            "_model_name": "DescriptionStyleModel",
            "_view_count": null,
            "_view_module": "@jupyter-widgets/base",
            "_view_module_version": "1.2.0",
            "_view_name": "StyleView",
            "description_width": ""
          }
        },
        "bc2f6b56621f47fea599cc0721aae291": {
          "model_module": "@jupyter-widgets/controls",
          "model_name": "HBoxModel",
          "model_module_version": "1.5.0",
          "state": {
            "_dom_classes": [],
            "_model_module": "@jupyter-widgets/controls",
            "_model_module_version": "1.5.0",
            "_model_name": "HBoxModel",
            "_view_count": null,
            "_view_module": "@jupyter-widgets/controls",
            "_view_module_version": "1.5.0",
            "_view_name": "HBoxView",
            "box_style": "",
            "children": [
              "IPY_MODEL_8e5c47f483224b35b5794429b845e245",
              "IPY_MODEL_3d31cfe03b9043269f095c994475cbc3",
              "IPY_MODEL_06fa93f653474cac90d7ac0f04515e22"
            ],
            "layout": "IPY_MODEL_edce1f23894e40b0a7dd2361c2bb0271"
          }
        },
        "8e5c47f483224b35b5794429b845e245": {
          "model_module": "@jupyter-widgets/controls",
          "model_name": "HTMLModel",
          "model_module_version": "1.5.0",
          "state": {
            "_dom_classes": [],
            "_model_module": "@jupyter-widgets/controls",
            "_model_module_version": "1.5.0",
            "_model_name": "HTMLModel",
            "_view_count": null,
            "_view_module": "@jupyter-widgets/controls",
            "_view_module_version": "1.5.0",
            "_view_name": "HTMLView",
            "description": "",
            "description_tooltip": null,
            "layout": "IPY_MODEL_2aee5d3e73014de5a89a20fd85689617",
            "placeholder": "​",
            "style": "IPY_MODEL_6ef9bd524d2846b7939bce445a19ed34",
            "value": "Shuffling ~/tensorflow_datasets/food101/2.0.0.incompleteHKNYNL/food101-validation.tfrecord*...:  99%"
          }
        },
        "3d31cfe03b9043269f095c994475cbc3": {
          "model_module": "@jupyter-widgets/controls",
          "model_name": "FloatProgressModel",
          "model_module_version": "1.5.0",
          "state": {
            "_dom_classes": [],
            "_model_module": "@jupyter-widgets/controls",
            "_model_module_version": "1.5.0",
            "_model_name": "FloatProgressModel",
            "_view_count": null,
            "_view_module": "@jupyter-widgets/controls",
            "_view_module_version": "1.5.0",
            "_view_name": "ProgressView",
            "bar_style": "",
            "description": "",
            "description_tooltip": null,
            "layout": "IPY_MODEL_4eea9aa1097046ee9264fe13ee17743c",
            "max": 25250,
            "min": 0,
            "orientation": "horizontal",
            "style": "IPY_MODEL_3cb6d9900a6344848277daff4859e2b7",
            "value": 25250
          }
        },
        "06fa93f653474cac90d7ac0f04515e22": {
          "model_module": "@jupyter-widgets/controls",
          "model_name": "HTMLModel",
          "model_module_version": "1.5.0",
          "state": {
            "_dom_classes": [],
            "_model_module": "@jupyter-widgets/controls",
            "_model_module_version": "1.5.0",
            "_model_name": "HTMLModel",
            "_view_count": null,
            "_view_module": "@jupyter-widgets/controls",
            "_view_module_version": "1.5.0",
            "_view_name": "HTMLView",
            "description": "",
            "description_tooltip": null,
            "layout": "IPY_MODEL_b7d6901680fa4e409095b1375de454a4",
            "placeholder": "​",
            "style": "IPY_MODEL_1a73d6cd9ccf407684c5d6ac663c8595",
            "value": " 25009/25250 [00:04&lt;00:00, 5122.38 examples/s]"
          }
        },
        "edce1f23894e40b0a7dd2361c2bb0271": {
          "model_module": "@jupyter-widgets/base",
          "model_name": "LayoutModel",
          "model_module_version": "1.2.0",
          "state": {
            "_model_module": "@jupyter-widgets/base",
            "_model_module_version": "1.2.0",
            "_model_name": "LayoutModel",
            "_view_count": null,
            "_view_module": "@jupyter-widgets/base",
            "_view_module_version": "1.2.0",
            "_view_name": "LayoutView",
            "align_content": null,
            "align_items": null,
            "align_self": null,
            "border": null,
            "bottom": null,
            "display": null,
            "flex": null,
            "flex_flow": null,
            "grid_area": null,
            "grid_auto_columns": null,
            "grid_auto_flow": null,
            "grid_auto_rows": null,
            "grid_column": null,
            "grid_gap": null,
            "grid_row": null,
            "grid_template_areas": null,
            "grid_template_columns": null,
            "grid_template_rows": null,
            "height": null,
            "justify_content": null,
            "justify_items": null,
            "left": null,
            "margin": null,
            "max_height": null,
            "max_width": null,
            "min_height": null,
            "min_width": null,
            "object_fit": null,
            "object_position": null,
            "order": null,
            "overflow": null,
            "overflow_x": null,
            "overflow_y": null,
            "padding": null,
            "right": null,
            "top": null,
            "visibility": "hidden",
            "width": null
          }
        },
        "2aee5d3e73014de5a89a20fd85689617": {
          "model_module": "@jupyter-widgets/base",
          "model_name": "LayoutModel",
          "model_module_version": "1.2.0",
          "state": {
            "_model_module": "@jupyter-widgets/base",
            "_model_module_version": "1.2.0",
            "_model_name": "LayoutModel",
            "_view_count": null,
            "_view_module": "@jupyter-widgets/base",
            "_view_module_version": "1.2.0",
            "_view_name": "LayoutView",
            "align_content": null,
            "align_items": null,
            "align_self": null,
            "border": null,
            "bottom": null,
            "display": null,
            "flex": null,
            "flex_flow": null,
            "grid_area": null,
            "grid_auto_columns": null,
            "grid_auto_flow": null,
            "grid_auto_rows": null,
            "grid_column": null,
            "grid_gap": null,
            "grid_row": null,
            "grid_template_areas": null,
            "grid_template_columns": null,
            "grid_template_rows": null,
            "height": null,
            "justify_content": null,
            "justify_items": null,
            "left": null,
            "margin": null,
            "max_height": null,
            "max_width": null,
            "min_height": null,
            "min_width": null,
            "object_fit": null,
            "object_position": null,
            "order": null,
            "overflow": null,
            "overflow_x": null,
            "overflow_y": null,
            "padding": null,
            "right": null,
            "top": null,
            "visibility": null,
            "width": null
          }
        },
        "6ef9bd524d2846b7939bce445a19ed34": {
          "model_module": "@jupyter-widgets/controls",
          "model_name": "DescriptionStyleModel",
          "model_module_version": "1.5.0",
          "state": {
            "_model_module": "@jupyter-widgets/controls",
            "_model_module_version": "1.5.0",
            "_model_name": "DescriptionStyleModel",
            "_view_count": null,
            "_view_module": "@jupyter-widgets/base",
            "_view_module_version": "1.2.0",
            "_view_name": "StyleView",
            "description_width": ""
          }
        },
        "4eea9aa1097046ee9264fe13ee17743c": {
          "model_module": "@jupyter-widgets/base",
          "model_name": "LayoutModel",
          "model_module_version": "1.2.0",
          "state": {
            "_model_module": "@jupyter-widgets/base",
            "_model_module_version": "1.2.0",
            "_model_name": "LayoutModel",
            "_view_count": null,
            "_view_module": "@jupyter-widgets/base",
            "_view_module_version": "1.2.0",
            "_view_name": "LayoutView",
            "align_content": null,
            "align_items": null,
            "align_self": null,
            "border": null,
            "bottom": null,
            "display": null,
            "flex": null,
            "flex_flow": null,
            "grid_area": null,
            "grid_auto_columns": null,
            "grid_auto_flow": null,
            "grid_auto_rows": null,
            "grid_column": null,
            "grid_gap": null,
            "grid_row": null,
            "grid_template_areas": null,
            "grid_template_columns": null,
            "grid_template_rows": null,
            "height": null,
            "justify_content": null,
            "justify_items": null,
            "left": null,
            "margin": null,
            "max_height": null,
            "max_width": null,
            "min_height": null,
            "min_width": null,
            "object_fit": null,
            "object_position": null,
            "order": null,
            "overflow": null,
            "overflow_x": null,
            "overflow_y": null,
            "padding": null,
            "right": null,
            "top": null,
            "visibility": null,
            "width": null
          }
        },
        "3cb6d9900a6344848277daff4859e2b7": {
          "model_module": "@jupyter-widgets/controls",
          "model_name": "ProgressStyleModel",
          "model_module_version": "1.5.0",
          "state": {
            "_model_module": "@jupyter-widgets/controls",
            "_model_module_version": "1.5.0",
            "_model_name": "ProgressStyleModel",
            "_view_count": null,
            "_view_module": "@jupyter-widgets/base",
            "_view_module_version": "1.2.0",
            "_view_name": "StyleView",
            "bar_color": null,
            "description_width": ""
          }
        },
        "b7d6901680fa4e409095b1375de454a4": {
          "model_module": "@jupyter-widgets/base",
          "model_name": "LayoutModel",
          "model_module_version": "1.2.0",
          "state": {
            "_model_module": "@jupyter-widgets/base",
            "_model_module_version": "1.2.0",
            "_model_name": "LayoutModel",
            "_view_count": null,
            "_view_module": "@jupyter-widgets/base",
            "_view_module_version": "1.2.0",
            "_view_name": "LayoutView",
            "align_content": null,
            "align_items": null,
            "align_self": null,
            "border": null,
            "bottom": null,
            "display": null,
            "flex": null,
            "flex_flow": null,
            "grid_area": null,
            "grid_auto_columns": null,
            "grid_auto_flow": null,
            "grid_auto_rows": null,
            "grid_column": null,
            "grid_gap": null,
            "grid_row": null,
            "grid_template_areas": null,
            "grid_template_columns": null,
            "grid_template_rows": null,
            "height": null,
            "justify_content": null,
            "justify_items": null,
            "left": null,
            "margin": null,
            "max_height": null,
            "max_width": null,
            "min_height": null,
            "min_width": null,
            "object_fit": null,
            "object_position": null,
            "order": null,
            "overflow": null,
            "overflow_x": null,
            "overflow_y": null,
            "padding": null,
            "right": null,
            "top": null,
            "visibility": null,
            "width": null
          }
        },
        "1a73d6cd9ccf407684c5d6ac663c8595": {
          "model_module": "@jupyter-widgets/controls",
          "model_name": "DescriptionStyleModel",
          "model_module_version": "1.5.0",
          "state": {
            "_model_module": "@jupyter-widgets/controls",
            "_model_module_version": "1.5.0",
            "_model_name": "DescriptionStyleModel",
            "_view_count": null,
            "_view_module": "@jupyter-widgets/base",
            "_view_module_version": "1.2.0",
            "_view_name": "StyleView",
            "description_width": ""
          }
        }
      }
    }
  },
  "cells": [
    {
      "cell_type": "markdown",
      "source": [
        "### In this project i'm building a model based on 101 food class, My aim is to beat the accuracy of deep-food paper with the help of transfer learning.\n",
        "* Here i am using efficientNetV2s model.\n",
        "* used mixed precession training meathod.\n",
        "* feature extraction Model\n"
      ],
      "metadata": {
        "id": "D2PRcUWfvjig"
      }
    },
    {
      "cell_type": "code",
      "source": [
        "#checking the gpu\n",
        "!nvidia-smi -L"
      ],
      "metadata": {
        "colab": {
          "base_uri": "https://localhost:8080/"
        },
        "id": "mU2MDjr4YFtk",
        "outputId": "6a681ac3-4b4c-478a-b5d7-3f0f6a6ce96f"
      },
      "execution_count": 16,
      "outputs": [
        {
          "output_type": "stream",
          "name": "stdout",
          "text": [
            "GPU 0: Tesla T4 (UUID: GPU-c6a4db7c-8b41-58e7-fd06-74b4f2b4a071)\n"
          ]
        }
      ]
    },
    {
      "cell_type": "code",
      "execution_count": 17,
      "metadata": {
        "colab": {
          "base_uri": "https://localhost:8080/"
        },
        "id": "DTm5RpgdKU5b",
        "outputId": "5354ffdf-01ad-41c8-fbad-d76fe4da216e"
      },
      "outputs": [
        {
          "output_type": "stream",
          "name": "stdout",
          "text": [
            "2.9.2\n"
          ]
        }
      ],
      "source": [
        "import tensorflow as tf\n",
        "print(tf.__version__)"
      ]
    },
    {
      "cell_type": "code",
      "source": [
        "#importing our helperfunctions\n",
        "!wget https://raw.githubusercontent.com/Hirann97/tensorflow_deeplearning/main/helper_function.py"
      ],
      "metadata": {
        "colab": {
          "base_uri": "https://localhost:8080/"
        },
        "id": "uN1kxrmDXX-l",
        "outputId": "b198520a-5d00-411d-95eb-753ea2b3c70f"
      },
      "execution_count": 18,
      "outputs": [
        {
          "output_type": "stream",
          "name": "stdout",
          "text": [
            "--2022-11-24 11:50:52--  https://raw.githubusercontent.com/Hirann97/tensorflow_deeplearning/main/helper_function.py\n",
            "Resolving raw.githubusercontent.com (raw.githubusercontent.com)... 185.199.108.133, 185.199.109.133, 185.199.110.133, ...\n",
            "Connecting to raw.githubusercontent.com (raw.githubusercontent.com)|185.199.108.133|:443... connected.\n",
            "HTTP request sent, awaiting response... 200 OK\n",
            "Length: 10558 (10K) [text/plain]\n",
            "Saving to: ‘helper_function.py’\n",
            "\n",
            "helper_function.py  100%[===================>]  10.31K  --.-KB/s    in 0s      \n",
            "\n",
            "2022-11-24 11:50:52 (71.3 MB/s) - ‘helper_function.py’ saved [10558/10558]\n",
            "\n"
          ]
        }
      ]
    },
    {
      "cell_type": "code",
      "source": [
        "from helper_function import create_tensorboard_callback,create_tensorboard_callback,compare_historys,walk_through_dir"
      ],
      "metadata": {
        "id": "XClo-UQ7YOra"
      },
      "execution_count": 19,
      "outputs": []
    },
    {
      "cell_type": "code",
      "source": [
        "import tensorflow_datasets as tfds\n",
        " \n",
        "food_101_info = tfds.builder(name='food101').info\n",
        "print(food_101_info.download_size)"
      ],
      "metadata": {
        "colab": {
          "base_uri": "https://localhost:8080/"
        },
        "id": "IO1b6mpna9Q4",
        "outputId": "334bdce4-09b4-44df-e883-e95a249d4bd4"
      },
      "execution_count": 20,
      "outputs": [
        {
          "output_type": "stream",
          "name": "stdout",
          "text": [
            "4.65 GiB\n"
          ]
        }
      ]
    },
    {
      "cell_type": "code",
      "source": [
        "(train_data,test_data),ds_info=tfds.load(name='food101',\n",
        "                                         split=['train','validation'],\n",
        "                                         shuffle_files=False,\n",
        "                                         as_supervised=True,\n",
        "                                         with_info=True)"
      ],
      "metadata": {
        "colab": {
          "base_uri": "https://localhost:8080/",
          "height": 168,
          "referenced_widgets": [
            "5cd76210a0c841788139dbeb04d4222b",
            "17cad492174b4e62b2b802dc2bf7056a",
            "1414306e19c647f7b1112d57b2580bf4",
            "8aa4ca5e579945829bb2671320b55162",
            "6be170a5c89d45a08be2eaac1eac1b9f",
            "99520a86caf04b779abba68bcb5fc437",
            "1d9df059cf9b40c9a68fb99ed11c7d55",
            "6917553b9d264d91a9f4f73d9172a2b9",
            "02d5447941104ec29302cc51938b3585",
            "3c0fdeee588e461b97266e5503d0a7bd",
            "801e60c71d8c470b871185c62e15c69b",
            "8dba7054b6a94df4bb3cf7a40708dee7",
            "c145f80e2e82421388acce6688e9618a",
            "feb6244339e7437e8b965cb15dba057c",
            "dae34c5ef1654d41bce32d19f465ce86",
            "64b20a9dbecb433db412968bfb734d5b",
            "ed01c0812c6f4c198c3f33efee2e192c",
            "6f3d8a69c3f345fc82db5b3bf3299498",
            "fccd34f7f82a4b43934527544e841cc3",
            "578e616d78e1448e9cdd0837648d3eca",
            "fc04bdf11ae84635a50402f87a944913",
            "a7d388da81f945368f21567e56283597",
            "207ce7179bc64331821646d73291628e",
            "fc15bc27fe524cf786ed2ad7727558d9",
            "4ef5373d848048b9af80cae37cdf722e",
            "8aeb5397db3a422e92348f405a913419",
            "e4644a7148f24b1daa083dd143338d46",
            "2022a9080f4e40abb80bd61752987ee9",
            "d6ac9ff829e0426989dd4cb47a8af5c4",
            "28065825becf43a588c920719c8d959b",
            "39a55d7dc6d441d98c74c146793b49dd",
            "4589262b69c54f4b9bb1f14eba4d90ee",
            "5776a0219ac9491b91e6ecbd85f7cdf0",
            "f2b61c98eea8405e8bae2c47636116f1",
            "94ebadcfe3f44fa4934c6abdac63a396",
            "6fdad6ff0791425b8d5bc192149ac294",
            "8491c66c32d849d49f61812417e4b7ea",
            "3c3dd5ec79a0405590f19b836b495a12",
            "e90180e70fd74a97a448d2f4ce934fbb",
            "a51c7bfb40b149eaaf19fbe442bbc722",
            "8cb2b1b02c8a40b18dbc5fd992260a96",
            "2758d531e89f43ef839d1776f7ff16be",
            "aae78c1a452946d1ba540941d153fc1e",
            "c5e6e5fda11e422ab9f8ef2a23c04abc",
            "bc693281c54148d38798722788f9c551",
            "461094644ce14a60abda2c41e5d4d411",
            "bcff29df44504ff78a14ebde48b5824a",
            "9689144d48a4462f99a135c0e4f23c81",
            "e771ebc43a99497d984f8f6af3803611",
            "ba6e9f26c8824d39a8567931fae6a656",
            "b28e7d2e05ff44d0bf32b0e3fe51aa34",
            "33375f12d31c405cb65574f1e2dd27c8",
            "a2f9e6a7a8a8478a9df9ceb33996dc42",
            "ad97c22dad0a454ebd19856582af582d",
            "84b4d9889e9c4aef9e06a2b2df7485a8",
            "537d6be3dd4d4aec92bff5afcdc0fa2f",
            "0cfac851b40b4b9599a039979f0ea59a",
            "ac30df7dcd334578a6f9e61017c518f5",
            "bff9f567cf354b2fad0636a45da0264e",
            "87b77ec2356c4dd2997d5a31c87317df",
            "d3f76c78a29e4578ba3ced35c51dca42",
            "03a0808069cd43a8ab16f88d5b8157b4",
            "00c7b7b6e150491da9b34399827ea3eb",
            "4553088d8931421585ce290976f6cd77",
            "0d7af24e715244969584aa54ac3a7948",
            "ea314094469c4c1da8cd498c68b590ef",
            "4813ff55663a44cb95b89f69b93d0582",
            "a72ab0f2a912478189ff6b6755de74fa",
            "a2f9048702e640ab93af8d67ea6bca0d",
            "ac19cc3a0b334cf6b7a5f466c6eabd24",
            "aafc0dabc52243f695bd2d28397c3a04",
            "3ed60ffb0a664a13a12155a661f3633d",
            "16747414b6454bc083af252633bc7510",
            "942f6223f80f41a1bb6f828e6d929ec7",
            "60488041bb9846309831ecf14478ca69",
            "96aec08a5a2f4715aa182a83bc784fdf",
            "5848f77f13fe4371ad3a7dc94cea4ad0",
            "bc2f6b56621f47fea599cc0721aae291",
            "8e5c47f483224b35b5794429b845e245",
            "3d31cfe03b9043269f095c994475cbc3",
            "06fa93f653474cac90d7ac0f04515e22",
            "edce1f23894e40b0a7dd2361c2bb0271",
            "2aee5d3e73014de5a89a20fd85689617",
            "6ef9bd524d2846b7939bce445a19ed34",
            "4eea9aa1097046ee9264fe13ee17743c",
            "3cb6d9900a6344848277daff4859e2b7",
            "b7d6901680fa4e409095b1375de454a4",
            "1a73d6cd9ccf407684c5d6ac663c8595"
          ]
        },
        "id": "o_4E2xPUeYQF",
        "outputId": "6821bea0-d81d-46f9-ada5-f03a64bea9d3"
      },
      "execution_count": 21,
      "outputs": [
        {
          "output_type": "stream",
          "name": "stdout",
          "text": [
            "Downloading and preparing dataset 4.65 GiB (download: 4.65 GiB, generated: Unknown size, total: 4.65 GiB) to ~/tensorflow_datasets/food101/2.0.0...\n"
          ]
        },
        {
          "output_type": "display_data",
          "data": {
            "text/plain": [
              "Dl Completed...: 0 url [00:00, ? url/s]"
            ],
            "application/vnd.jupyter.widget-view+json": {
              "version_major": 2,
              "version_minor": 0,
              "model_id": "5cd76210a0c841788139dbeb04d4222b"
            }
          },
          "metadata": {}
        },
        {
          "output_type": "display_data",
          "data": {
            "text/plain": [
              "Dl Size...: 0 MiB [00:00, ? MiB/s]"
            ],
            "application/vnd.jupyter.widget-view+json": {
              "version_major": 2,
              "version_minor": 0,
              "model_id": "8dba7054b6a94df4bb3cf7a40708dee7"
            }
          },
          "metadata": {}
        },
        {
          "output_type": "display_data",
          "data": {
            "text/plain": [
              "Extraction completed...: 0 file [00:00, ? file/s]"
            ],
            "application/vnd.jupyter.widget-view+json": {
              "version_major": 2,
              "version_minor": 0,
              "model_id": "207ce7179bc64331821646d73291628e"
            }
          },
          "metadata": {}
        },
        {
          "output_type": "display_data",
          "data": {
            "text/plain": [
              "Generating splits...:   0%|          | 0/2 [00:00<?, ? splits/s]"
            ],
            "application/vnd.jupyter.widget-view+json": {
              "version_major": 2,
              "version_minor": 0,
              "model_id": "f2b61c98eea8405e8bae2c47636116f1"
            }
          },
          "metadata": {}
        },
        {
          "output_type": "display_data",
          "data": {
            "text/plain": [
              "Generating train examples...:   0%|          | 0/75750 [00:00<?, ? examples/s]"
            ],
            "application/vnd.jupyter.widget-view+json": {
              "version_major": 2,
              "version_minor": 0,
              "model_id": "bc693281c54148d38798722788f9c551"
            }
          },
          "metadata": {}
        },
        {
          "output_type": "display_data",
          "data": {
            "text/plain": [
              "Shuffling ~/tensorflow_datasets/food101/2.0.0.incompleteHKNYNL/food101-train.tfrecord*...:   0%|          | 0/…"
            ],
            "application/vnd.jupyter.widget-view+json": {
              "version_major": 2,
              "version_minor": 0,
              "model_id": "537d6be3dd4d4aec92bff5afcdc0fa2f"
            }
          },
          "metadata": {}
        },
        {
          "output_type": "display_data",
          "data": {
            "text/plain": [
              "Generating validation examples...:   0%|          | 0/25250 [00:00<?, ? examples/s]"
            ],
            "application/vnd.jupyter.widget-view+json": {
              "version_major": 2,
              "version_minor": 0,
              "model_id": "4813ff55663a44cb95b89f69b93d0582"
            }
          },
          "metadata": {}
        },
        {
          "output_type": "display_data",
          "data": {
            "text/plain": [
              "Shuffling ~/tensorflow_datasets/food101/2.0.0.incompleteHKNYNL/food101-validation.tfrecord*...:   0%|         …"
            ],
            "application/vnd.jupyter.widget-view+json": {
              "version_major": 2,
              "version_minor": 0,
              "model_id": "bc2f6b56621f47fea599cc0721aae291"
            }
          },
          "metadata": {}
        },
        {
          "output_type": "stream",
          "name": "stdout",
          "text": [
            "Dataset food101 downloaded and prepared to ~/tensorflow_datasets/food101/2.0.0. Subsequent calls will reuse this data.\n"
          ]
        }
      ]
    },
    {
      "cell_type": "code",
      "source": [
        "ds_info.features"
      ],
      "metadata": {
        "colab": {
          "base_uri": "https://localhost:8080/"
        },
        "id": "w6_wLS5F6Xnm",
        "outputId": "34dac04a-4a5e-46cb-c68d-b65aa4d6d55d"
      },
      "execution_count": 22,
      "outputs": [
        {
          "output_type": "execute_result",
          "data": {
            "text/plain": [
              "FeaturesDict({\n",
              "    'image': Image(shape=(None, None, 3), dtype=tf.uint8),\n",
              "    'label': ClassLabel(shape=(), dtype=tf.int64, num_classes=101),\n",
              "})"
            ]
          },
          "metadata": {},
          "execution_count": 22
        }
      ]
    },
    {
      "cell_type": "code",
      "source": [
        "class_names=ds_info.features['label'].names"
      ],
      "metadata": {
        "id": "sWaRBriv9I-P"
      },
      "execution_count": 23,
      "outputs": []
    },
    {
      "cell_type": "code",
      "source": [
        "class_names"
      ],
      "metadata": {
        "colab": {
          "base_uri": "https://localhost:8080/"
        },
        "id": "Dj4pewJD9Uma",
        "outputId": "16dfae68-107d-4f2e-ea1a-0b79c2e98404"
      },
      "execution_count": 24,
      "outputs": [
        {
          "output_type": "execute_result",
          "data": {
            "text/plain": [
              "['apple_pie',\n",
              " 'baby_back_ribs',\n",
              " 'baklava',\n",
              " 'beef_carpaccio',\n",
              " 'beef_tartare',\n",
              " 'beet_salad',\n",
              " 'beignets',\n",
              " 'bibimbap',\n",
              " 'bread_pudding',\n",
              " 'breakfast_burrito',\n",
              " 'bruschetta',\n",
              " 'caesar_salad',\n",
              " 'cannoli',\n",
              " 'caprese_salad',\n",
              " 'carrot_cake',\n",
              " 'ceviche',\n",
              " 'cheesecake',\n",
              " 'cheese_plate',\n",
              " 'chicken_curry',\n",
              " 'chicken_quesadilla',\n",
              " 'chicken_wings',\n",
              " 'chocolate_cake',\n",
              " 'chocolate_mousse',\n",
              " 'churros',\n",
              " 'clam_chowder',\n",
              " 'club_sandwich',\n",
              " 'crab_cakes',\n",
              " 'creme_brulee',\n",
              " 'croque_madame',\n",
              " 'cup_cakes',\n",
              " 'deviled_eggs',\n",
              " 'donuts',\n",
              " 'dumplings',\n",
              " 'edamame',\n",
              " 'eggs_benedict',\n",
              " 'escargots',\n",
              " 'falafel',\n",
              " 'filet_mignon',\n",
              " 'fish_and_chips',\n",
              " 'foie_gras',\n",
              " 'french_fries',\n",
              " 'french_onion_soup',\n",
              " 'french_toast',\n",
              " 'fried_calamari',\n",
              " 'fried_rice',\n",
              " 'frozen_yogurt',\n",
              " 'garlic_bread',\n",
              " 'gnocchi',\n",
              " 'greek_salad',\n",
              " 'grilled_cheese_sandwich',\n",
              " 'grilled_salmon',\n",
              " 'guacamole',\n",
              " 'gyoza',\n",
              " 'hamburger',\n",
              " 'hot_and_sour_soup',\n",
              " 'hot_dog',\n",
              " 'huevos_rancheros',\n",
              " 'hummus',\n",
              " 'ice_cream',\n",
              " 'lasagna',\n",
              " 'lobster_bisque',\n",
              " 'lobster_roll_sandwich',\n",
              " 'macaroni_and_cheese',\n",
              " 'macarons',\n",
              " 'miso_soup',\n",
              " 'mussels',\n",
              " 'nachos',\n",
              " 'omelette',\n",
              " 'onion_rings',\n",
              " 'oysters',\n",
              " 'pad_thai',\n",
              " 'paella',\n",
              " 'pancakes',\n",
              " 'panna_cotta',\n",
              " 'peking_duck',\n",
              " 'pho',\n",
              " 'pizza',\n",
              " 'pork_chop',\n",
              " 'poutine',\n",
              " 'prime_rib',\n",
              " 'pulled_pork_sandwich',\n",
              " 'ramen',\n",
              " 'ravioli',\n",
              " 'red_velvet_cake',\n",
              " 'risotto',\n",
              " 'samosa',\n",
              " 'sashimi',\n",
              " 'scallops',\n",
              " 'seaweed_salad',\n",
              " 'shrimp_and_grits',\n",
              " 'spaghetti_bolognese',\n",
              " 'spaghetti_carbonara',\n",
              " 'spring_rolls',\n",
              " 'steak',\n",
              " 'strawberry_shortcake',\n",
              " 'sushi',\n",
              " 'tacos',\n",
              " 'takoyaki',\n",
              " 'tiramisu',\n",
              " 'tuna_tartare',\n",
              " 'waffles']"
            ]
          },
          "metadata": {},
          "execution_count": 24
        }
      ]
    },
    {
      "cell_type": "markdown",
      "source": [
        "Exploring tha data sets.\n"
      ],
      "metadata": {
        "id": "NJYqAmhN9lBS"
      }
    },
    {
      "cell_type": "code",
      "source": [
        "# taking one sample of the dataset\n",
        "train_one_sample=train_data.take(1)\n",
        "train_one_sample"
      ],
      "metadata": {
        "colab": {
          "base_uri": "https://localhost:8080/"
        },
        "id": "Ex8toVuI9tI2",
        "outputId": "06428868-b9a9-4c0d-d38a-ad1f5cfd3967"
      },
      "execution_count": 25,
      "outputs": [
        {
          "output_type": "execute_result",
          "data": {
            "text/plain": [
              "<TakeDataset element_spec=(TensorSpec(shape=(None, None, 3), dtype=tf.uint8, name=None), TensorSpec(shape=(), dtype=tf.int64, name=None))>"
            ]
          },
          "metadata": {},
          "execution_count": 25
        }
      ]
    },
    {
      "cell_type": "code",
      "source": [
        "#lets find some info image tensor and lable by using a loop\n",
        "for image,label in train_one_sample:\n",
        "  print(f\"\"\"\n",
        "  image shape:{image.shape}\n",
        "  image dtypw: {image.dtype}\n",
        "  Target class from Food101 (tensor form): {label}\n",
        "  class_name in(str form):{class_names[label.numpy()]}\n",
        "  \"\"\")"
      ],
      "metadata": {
        "colab": {
          "base_uri": "https://localhost:8080/"
        },
        "id": "9CMFHM_w9--B",
        "outputId": "8026be0a-edca-4604-8825-2dda58a48bb0"
      },
      "execution_count": 26,
      "outputs": [
        {
          "output_type": "stream",
          "name": "stdout",
          "text": [
            "\n",
            "  image shape:(512, 512, 3)\n",
            "  image dtypw: <dtype: 'uint8'>\n",
            "  Target class from Food101 (tensor form): 56\n",
            "  class_name in(str form):huevos_rancheros\n",
            "  \n"
          ]
        }
      ]
    },
    {
      "cell_type": "code",
      "source": [
        "# What are the min and max values?\n",
        "tf.reduce_min(image), tf.reduce_max(image)"
      ],
      "metadata": {
        "colab": {
          "base_uri": "https://localhost:8080/"
        },
        "id": "OIvY1hcJ_B3a",
        "outputId": "0422ebb4-50dc-4d2c-d260-a2953f868562"
      },
      "execution_count": 27,
      "outputs": [
        {
          "output_type": "execute_result",
          "data": {
            "text/plain": [
              "(<tf.Tensor: shape=(), dtype=uint8, numpy=0>,\n",
              " <tf.Tensor: shape=(), dtype=uint8, numpy=255>)"
            ]
          },
          "metadata": {},
          "execution_count": 27
        }
      ]
    },
    {
      "cell_type": "code",
      "source": [
        "# ploting a random image tensor\n",
        "\n",
        "import matplotlib.pyplot as plt\n",
        "plt.figure(figsize=(4,6))\n",
        "plt.imshow(image)\n",
        "plt.title(class_names[label.numpy()])\n",
        "plt.axis(False);\n"
      ],
      "metadata": {
        "colab": {
          "base_uri": "https://localhost:8080/",
          "height": 270
        },
        "id": "hC0s9Tfh_YQi",
        "outputId": "adbdd490-e044-4974-d8b8-6c17c0dff185"
      },
      "execution_count": 28,
      "outputs": [
        {
          "output_type": "display_data",
          "data": {
            "text/plain": [
              "<Figure size 288x432 with 1 Axes>"
            ],
            "image/png": "[encoded data removed]"
          },
          "metadata": {
            "needs_background": "light"
          }
        }
      ]
    },
    {
      "cell_type": "markdown",
      "source": [
        "# creating preprocessing functions:"
      ],
      "metadata": {
        "id": "pJdUsWYQCz1V"
      }
    },
    {
      "cell_type": "code",
      "source": [
        "def preprocess_img(image,label,img_shape=224):\n",
        "  image=tf.image.resize(image,[img_shape,img_shape])\n",
        "  return tf.cast(image,tf.float32),label"
      ],
      "metadata": {
        "id": "bilABvUgCcVa"
      },
      "execution_count": 29,
      "outputs": []
    },
    {
      "cell_type": "code",
      "source": [
        "preprocessed_img=preprocess_img(image,label)[0]"
      ],
      "metadata": {
        "id": "wb3y4MuOJS6j"
      },
      "execution_count": 30,
      "outputs": []
    },
    {
      "cell_type": "code",
      "source": [
        "print(f\"\"\"\n",
        "image before preprocessing: {image[:2]}\n",
        "image_shape before preprocessing: {image.shape}\n",
        "d type: {image.dtype}\n",
        "image after preprocessing: {preprocessed_img[:2]}\n",
        "image shape after preprocessing: {preprocessed_img.shape}\n",
        "d type after preprocessing: {preprocessed_img.dtype}\n",
        "\"\"\")"
      ],
      "metadata": {
        "colab": {
          "base_uri": "https://localhost:8080/"
        },
        "id": "L2Bbv_TPK2oj",
        "outputId": "19dd33b0-cc5f-4827-a6c5-c25e38e298df"
      },
      "execution_count": 31,
      "outputs": [
        {
          "output_type": "stream",
          "name": "stdout",
          "text": [
            "\n",
            "image before preprocessing: [[[233 253 251]\n",
            "  [231 253 250]\n",
            "  [228 254 251]\n",
            "  ...\n",
            "  [ 85  82  89]\n",
            "  [ 68  67  75]\n",
            "  [ 57  57  67]]\n",
            "\n",
            " [[232 254 252]\n",
            "  [229 254 251]\n",
            "  [226 255 251]\n",
            "  ...\n",
            "  [121 116 120]\n",
            "  [100  99 104]\n",
            "  [ 86  85  91]]]\n",
            "image_shape before preprocessing: (512, 512, 3)\n",
            "d type: <dtype: 'uint8'>\n",
            "image after preprocessing: [[[230.65816 253.64285 251.     ]\n",
            "  [222.99998 254.97449 252.19388]\n",
            "  [207.06633 255.      250.36734]\n",
            "  ...\n",
            "  [140.66287 129.52519 121.22428]\n",
            "  [121.14268 115.26515 116.95397]\n",
            "  [ 83.95363  83.08119  89.63737]]\n",
            "\n",
            " [[221.47449 254.37755 253.33163]\n",
            "  [214.5102  255.      253.92348]\n",
            "  [198.41327 254.58673 251.96939]\n",
            "  ...\n",
            "  [208.66318 195.82143 173.40823]\n",
            "  [197.03056 190.1071  174.83162]\n",
            "  [175.54036 171.6169  161.21384]]]\n",
            "image shape after preprocessing: (224, 224, 3)\n",
            "d type after preprocessing: <dtype: 'float32'>\n",
            "\n"
          ]
        }
      ]
    },
    {
      "cell_type": "code",
      "source": [
        "# ploting a  image tensor after preprocessing\n",
        "\n",
        "import matplotlib.pyplot as plt\n",
        "plt.figure(figsize=(4,6))\n",
        "plt.imshow(preprocessed_img/255.)\n",
        "plt.title(class_names[label])\n",
        "plt.axis(False)\n",
        "\n"
      ],
      "metadata": {
        "colab": {
          "base_uri": "https://localhost:8080/",
          "height": 287
        },
        "id": "44E9ON05NSg6",
        "outputId": "3723f3f2-0b7a-4c67-bda0-5b631d8eba53"
      },
      "execution_count": 32,
      "outputs": [
        {
          "output_type": "execute_result",
          "data": {
            "text/plain": [
              "(-0.5, 223.5, 223.5, -0.5)"
            ]
          },
          "metadata": {},
          "execution_count": 32
        },
        {
          "output_type": "display_data",
          "data": {
            "text/plain": [
              "<Figure size 288x432 with 1 Axes>"
            ],
            "image/png": "[encoded data removed]"
          },
          "metadata": {
            "needs_background": "light"
          }
        }
      ]
    },
    {
      "cell_type": "code",
      "source": [
        "# map preprocessing function to training data ( and parallelise it)\n",
        "train_data=train_data.map(map_func=preprocess_img,num_parallel_calls=tf.data.AUTOTUNE)\n",
        "train_data=train_data.shuffle(buffer_size=100).batch(batch_size=32).prefetch(buffer_size=tf.data.AUTOTUNE)\n",
        "\n",
        "#map preprocessing function to test data \n",
        "test_data=test_data.map(map_func=preprocess_img,num_parallel_calls=tf.data.AUTOTUNE)\n",
        "test_data=test_data.batch(32).prefetch(buffer_size=tf.data.AUTOTUNE)\n",
        "\n"
      ],
      "metadata": {
        "id": "Ui7HG5R-x7GB"
      },
      "execution_count": 33,
      "outputs": []
    },
    {
      "cell_type": "code",
      "source": [
        "train_data,test_data"
      ],
      "metadata": {
        "colab": {
          "base_uri": "https://localhost:8080/"
        },
        "id": "likFhO4WfW4Y",
        "outputId": "8f12c8df-ea4e-4461-dbee-0175255cc0ab"
      },
      "execution_count": 34,
      "outputs": [
        {
          "output_type": "execute_result",
          "data": {
            "text/plain": [
              "(<PrefetchDataset element_spec=(TensorSpec(shape=(None, 224, 224, 3), dtype=tf.float32, name=None), TensorSpec(shape=(None,), dtype=tf.int64, name=None))>,\n",
              " <PrefetchDataset element_spec=(TensorSpec(shape=(None, 224, 224, 3), dtype=tf.float32, name=None), TensorSpec(shape=(None,), dtype=tf.int64, name=None))>)"
            ]
          },
          "metadata": {},
          "execution_count": 34
        }
      ]
    },
    {
      "cell_type": "code",
      "source": [
        "# creating tensorboard_callbacks\n",
        "# we had imported the callback function form the helper functions allready\n",
        "checkpoint_path=\"model_checkpoint/cp.ckpt\"\n",
        "model_checkpoint=tf.keras.callbacks.ModelCheckpoint(checkpoint_path,\n",
        "                                                   moniter=\"val_accuracy\",\n",
        "                                                   save_weights_only=True,\n",
        "                                                   save_best_only=True,\n",
        "                                                   verbose=0)"
      ],
      "metadata": {
        "id": "gTlq8LVCfbxx"
      },
      "execution_count": 35,
      "outputs": []
    },
    {
      "cell_type": "code",
      "source": [
        "# Turn on mixed precision training\n",
        "from tensorflow.keras import mixed_precision\n",
        "mixed_precision.set_global_policy(policy=\"mixed_float16\") # set global policy to mixed precision "
      ],
      "metadata": {
        "id": "20Pt8hPcg44A"
      },
      "execution_count": 36,
      "outputs": []
    },
    {
      "cell_type": "markdown",
      "source": [
        "# Building a feature Extractor Model"
      ],
      "metadata": {
        "id": "pOK-42BPkGkL"
      }
    },
    {
      "cell_type": "code",
      "source": [
        "\n",
        "from tensorflow.keras import layers\n",
        "input_shape=(224,224,3)\n",
        "base_model=tf.keras.applications.EfficientNetV2S(include_top=False)\n",
        "base_model.trainable=False\n",
        "\n",
        "inputs=layers.Input(shape=input_shape,name='input_layer')\n",
        "# as we are using the efficientnet model we dont need to rescale \n",
        "x=base_model(inputs,training=False)\n",
        "x=layers.GlobalAveragePooling2D(name='pooling_layer')(x)\n",
        "x=layers.Dense(len(class_names))(x)\n",
        "\n",
        "# Separate activation of output layer so we can output float32 activations\n",
        "outputs = layers.Activation(\"softmax\", dtype=tf.float32, name=\"softmax_float32\")(x) \n",
        "model = tf.keras.Model(inputs, outputs)\n",
        "\n",
        "#model compiling\n",
        "model.compile(loss='sparse_categorical_crossentropy',\n",
        "              optimizer=tf.keras.optimizers.Adam(),\n",
        "              metrics=['accuracy'])"
      ],
      "metadata": {
        "colab": {
          "base_uri": "https://localhost:8080/"
        },
        "id": "hNhuvQepkQQ8",
        "outputId": "e2001132-6743-4fe4-ec10-16da7fade719"
      },
      "execution_count": 37,
      "outputs": [
        {
          "output_type": "stream",
          "name": "stdout",
          "text": [
            "Downloading data from https://storage.googleapis.com/tensorflow/keras-applications/efficientnet_v2/efficientnetv2-s_notop.h5\n",
            "82420632/82420632 [==============================] - 5s 0us/step\n"
          ]
        }
      ]
    },
    {
      "cell_type": "code",
      "source": [
        "model.summary()"
      ],
      "metadata": {
        "colab": {
          "base_uri": "https://localhost:8080/"
        },
        "id": "5Up_XN8LoSrW",
        "outputId": "f709e745-15a4-4778-bf90-97a101bb87b2"
      },
      "execution_count": 38,
      "outputs": [
        {
          "output_type": "stream",
          "name": "stdout",
          "text": [
            "Model: \"model\"\n",
            "_________________________________________________________________\n",
            " Layer (type)                Output Shape              Param #   \n",
            "=================================================================\n",
            " input_layer (InputLayer)    [(None, 224, 224, 3)]     0         \n",
            "                                                                 \n",
            " efficientnetv2-s (Functiona  (None, None, None, 1280)  20331360 \n",
            " l)                                                              \n",
            "                                                                 \n",
            " pooling_layer (GlobalAverag  (None, 1280)             0         \n",
            " ePooling2D)                                                     \n",
            "                                                                 \n",
            " dense (Dense)               (None, 101)               129381    \n",
            "                                                                 \n",
            " softmax_float32 (Activation  (None, 101)              0         \n",
            " )                                                               \n",
            "                                                                 \n",
            "=================================================================\n",
            "Total params: 20,460,741\n",
            "Trainable params: 129,381\n",
            "Non-trainable params: 20,331,360\n",
            "_________________________________________________________________\n"
          ]
        }
      ]
    },
    {
      "cell_type": "code",
      "source": [
        "for layer in model.layers:\n",
        "  print(layer.name,layer.trainable,layer.dtype,layer.dtype_policy)"
      ],
      "metadata": {
        "colab": {
          "base_uri": "https://localhost:8080/"
        },
        "id": "EP32dw8RqMeZ",
        "outputId": "6a1b57ea-2f94-4f71-c8cf-1cd360bc6fc1"
      },
      "execution_count": 39,
      "outputs": [
        {
          "output_type": "stream",
          "name": "stdout",
          "text": [
            "input_layer True float32 <Policy \"float32\">\n",
            "efficientnetv2-s False float32 <Policy \"mixed_float16\">\n",
            "pooling_layer True float32 <Policy \"mixed_float16\">\n",
            "dense True float32 <Policy \"mixed_float16\">\n",
            "softmax_float32 True float32 <Policy \"float32\">\n"
          ]
        }
      ]
    },
    {
      "cell_type": "code",
      "source": [
        "for layer in model.layers[1].layers[:30]: # only check the first 20 layers to save output space\n",
        "    print(layer.name, layer.trainable, layer.dtype, layer.dtype_policy)"
      ],
      "metadata": {
        "colab": {
          "base_uri": "https://localhost:8080/"
        },
        "id": "8t3niZfps1yF",
        "outputId": "70c6a83b-add3-40c6-ec45-cbc67603fe60"
      },
      "execution_count": 40,
      "outputs": [
        {
          "output_type": "stream",
          "name": "stdout",
          "text": [
            "input_1 False float32 <Policy \"float32\">\n",
            "rescaling False float32 <Policy \"mixed_float16\">\n",
            "stem_conv False float32 <Policy \"mixed_float16\">\n",
            "stem_bn False float32 <Policy \"mixed_float16\">\n",
            "stem_activation False float32 <Policy \"mixed_float16\">\n",
            "block1a_project_conv False float32 <Policy \"mixed_float16\">\n",
            "block1a_project_bn False float32 <Policy \"mixed_float16\">\n",
            "block1a_project_activation False float32 <Policy \"mixed_float16\">\n",
            "block1a_add False float32 <Policy \"mixed_float16\">\n",
            "block1b_project_conv False float32 <Policy \"mixed_float16\">\n",
            "block1b_project_bn False float32 <Policy \"mixed_float16\">\n",
            "block1b_project_activation False float32 <Policy \"mixed_float16\">\n",
            "block1b_drop False float32 <Policy \"mixed_float16\">\n",
            "block1b_add False float32 <Policy \"mixed_float16\">\n",
            "block2a_expand_conv False float32 <Policy \"mixed_float16\">\n",
            "block2a_expand_bn False float32 <Policy \"mixed_float16\">\n",
            "block2a_expand_activation False float32 <Policy \"mixed_float16\">\n",
            "block2a_project_conv False float32 <Policy \"mixed_float16\">\n",
            "block2a_project_bn False float32 <Policy \"mixed_float16\">\n",
            "block2b_expand_conv False float32 <Policy \"mixed_float16\">\n",
            "block2b_expand_bn False float32 <Policy \"mixed_float16\">\n",
            "block2b_expand_activation False float32 <Policy \"mixed_float16\">\n",
            "block2b_project_conv False float32 <Policy \"mixed_float16\">\n",
            "block2b_project_bn False float32 <Policy \"mixed_float16\">\n",
            "block2b_drop False float32 <Policy \"mixed_float16\">\n",
            "block2b_add False float32 <Policy \"mixed_float16\">\n",
            "block2c_expand_conv False float32 <Policy \"mixed_float16\">\n",
            "block2c_expand_bn False float32 <Policy \"mixed_float16\">\n",
            "block2c_expand_activation False float32 <Policy \"mixed_float16\">\n",
            "block2c_project_conv False float32 <Policy \"mixed_float16\">\n"
          ]
        }
      ]
    },
    {
      "cell_type": "code",
      "source": [
        "# fit the feature extraction model\n",
        "history_101=model.fit(train_data,\n",
        "                      epochs=5,\n",
        "                      steps_per_epoch=len(train_data),\n",
        "                      validation_data=train_data,\n",
        "                      validation_steps=int(0.15*len(test_data)),\n",
        "                      callbacks=[create_tensorboard_callback(dir_name='training_logs',\n",
        "                                                             experiment_name='efficientnetV2S 101 food class'),model_checkpoint])"
      ],
      "metadata": {
        "colab": {
          "base_uri": "https://localhost:8080/"
        },
        "id": "3zsLV-ugtzPq",
        "outputId": "eb2ae1cf-6a56-4312-b247-81a5ad282ce8"
      },
      "execution_count": 41,
      "outputs": [
        {
          "output_type": "stream",
          "name": "stdout",
          "text": [
            "Saving TensorBoard log files to: training_logs/efficientnetV2S 101 food class/20221124-120129\n",
            "Epoch 1/5\n",
            "2368/2368 [==============================] - 225s 86ms/step - loss: 1.7660 - accuracy: 0.5626 - val_loss: 1.3771 - val_accuracy: 0.6441\n",
            "Epoch 2/5\n",
            "2368/2368 [==============================] - 200s 84ms/step - loss: 1.2895 - accuracy: 0.6655 - val_loss: 1.2079 - val_accuracy: 0.6886\n",
            "Epoch 3/5\n",
            "2368/2368 [==============================] - 201s 85ms/step - loss: 1.1584 - accuracy: 0.6964 - val_loss: 1.1128 - val_accuracy: 0.7137\n",
            "Epoch 4/5\n",
            "2368/2368 [==============================] - 199s 84ms/step - loss: 1.0748 - accuracy: 0.7177 - val_loss: 1.0418 - val_accuracy: 0.7307\n",
            "Epoch 5/5\n",
            "2368/2368 [==============================] - 200s 84ms/step - loss: 1.0120 - accuracy: 0.7328 - val_loss: 0.9941 - val_accuracy: 0.7421\n"
          ]
        }
      ]
    },
    {
      "cell_type": "code",
      "source": [
        "from helper_function import plot_loss_curves\n",
        "plot_loss_curves(history_101)"
      ],
      "metadata": {
        "colab": {
          "base_uri": "https://localhost:8080/",
          "height": 573
        },
        "id": "laEV3MBW1EN5",
        "outputId": "7cc8baea-f949-44d6-d236-56e39410c17e"
      },
      "execution_count": 42,
      "outputs": [
        {
          "output_type": "display_data",
          "data": {
            "text/plain": [
              "<Figure size 432x288 with 1 Axes>"
            ],
            "image/png": "[encoded data removed]"
          },
          "metadata": {
            "needs_background": "light"
          }
        },
        {
          "output_type": "display_data",
          "data": {
            "text/plain": [
              "<Figure size 432x288 with 1 Axes>"
            ],
            "image/png": "[encoded data removed]"
          },
          "metadata": {
            "needs_background": "light"
          }
        }
      ]
    },
    {
      "cell_type": "code",
      "source": [
        "# fine tuning the model - first \n",
        "for layer_number,layer in enumerate(base_model.layers):\n",
        "  print(layer_number,layer.name,layer.trainable)"
      ],
      "metadata": {
        "colab": {
          "base_uri": "https://localhost:8080/"
        },
        "id": "sUSZ6-Hl1a7A",
        "outputId": "23129314-187a-45a3-bde1-f588d52d7157"
      },
      "execution_count": 43,
      "outputs": [
        {
          "output_type": "stream",
          "name": "stdout",
          "text": [
            "0 input_1 False\n",
            "1 rescaling False\n",
            "2 stem_conv False\n",
            "3 stem_bn False\n",
            "4 stem_activation False\n",
            "5 block1a_project_conv False\n",
            "6 block1a_project_bn False\n",
            "7 block1a_project_activation False\n",
            "8 block1a_add False\n",
            "9 block1b_project_conv False\n",
            "10 block1b_project_bn False\n",
            "11 block1b_project_activation False\n",
            "12 block1b_drop False\n",
            "13 block1b_add False\n",
            "14 block2a_expand_conv False\n",
            "15 block2a_expand_bn False\n",
            "16 block2a_expand_activation False\n",
            "17 block2a_project_conv False\n",
            "18 block2a_project_bn False\n",
            "19 block2b_expand_conv False\n",
            "20 block2b_expand_bn False\n",
            "21 block2b_expand_activation False\n",
            "22 block2b_project_conv False\n",
            "23 block2b_project_bn False\n",
            "24 block2b_drop False\n",
            "25 block2b_add False\n",
            "26 block2c_expand_conv False\n",
            "27 block2c_expand_bn False\n",
            "28 block2c_expand_activation False\n",
            "29 block2c_project_conv False\n",
            "30 block2c_project_bn False\n",
            "31 block2c_drop False\n",
            "32 block2c_add False\n",
            "33 block2d_expand_conv False\n",
            "34 block2d_expand_bn False\n",
            "35 block2d_expand_activation False\n",
            "36 block2d_project_conv False\n",
            "37 block2d_project_bn False\n",
            "38 block2d_drop False\n",
            "39 block2d_add False\n",
            "40 block3a_expand_conv False\n",
            "41 block3a_expand_bn False\n",
            "42 block3a_expand_activation False\n",
            "43 block3a_project_conv False\n",
            "44 block3a_project_bn False\n",
            "45 block3b_expand_conv False\n",
            "46 block3b_expand_bn False\n",
            "47 block3b_expand_activation False\n",
            "48 block3b_project_conv False\n",
            "49 block3b_project_bn False\n",
            "50 block3b_drop False\n",
            "51 block3b_add False\n",
            "52 block3c_expand_conv False\n",
            "53 block3c_expand_bn False\n",
            "54 block3c_expand_activation False\n",
            "55 block3c_project_conv False\n",
            "56 block3c_project_bn False\n",
            "57 block3c_drop False\n",
            "58 block3c_add False\n",
            "59 block3d_expand_conv False\n",
            "60 block3d_expand_bn False\n",
            "61 block3d_expand_activation False\n",
            "62 block3d_project_conv False\n",
            "63 block3d_project_bn False\n",
            "64 block3d_drop False\n",
            "65 block3d_add False\n",
            "66 block4a_expand_conv False\n",
            "67 block4a_expand_bn False\n",
            "68 block4a_expand_activation False\n",
            "69 block4a_dwconv2 False\n",
            "70 block4a_bn False\n",
            "71 block4a_activation False\n",
            "72 block4a_se_squeeze False\n",
            "73 block4a_se_reshape False\n",
            "74 block4a_se_reduce False\n",
            "75 block4a_se_expand False\n",
            "76 block4a_se_excite False\n",
            "77 block4a_project_conv False\n",
            "78 block4a_project_bn False\n",
            "79 block4b_expand_conv False\n",
            "80 block4b_expand_bn False\n",
            "81 block4b_expand_activation False\n",
            "82 block4b_dwconv2 False\n",
            "83 block4b_bn False\n",
            "84 block4b_activation False\n",
            "85 block4b_se_squeeze False\n",
            "86 block4b_se_reshape False\n",
            "87 block4b_se_reduce False\n",
            "88 block4b_se_expand False\n",
            "89 block4b_se_excite False\n",
            "90 block4b_project_conv False\n",
            "91 block4b_project_bn False\n",
            "92 block4b_drop False\n",
            "93 block4b_add False\n",
            "94 block4c_expand_conv False\n",
            "95 block4c_expand_bn False\n",
            "96 block4c_expand_activation False\n",
            "97 block4c_dwconv2 False\n",
            "98 block4c_bn False\n",
            "99 block4c_activation False\n",
            "100 block4c_se_squeeze False\n",
            "101 block4c_se_reshape False\n",
            "102 block4c_se_reduce False\n",
            "103 block4c_se_expand False\n",
            "104 block4c_se_excite False\n",
            "105 block4c_project_conv False\n",
            "106 block4c_project_bn False\n",
            "107 block4c_drop False\n",
            "108 block4c_add False\n",
            "109 block4d_expand_conv False\n",
            "110 block4d_expand_bn False\n",
            "111 block4d_expand_activation False\n",
            "112 block4d_dwconv2 False\n",
            "113 block4d_bn False\n",
            "114 block4d_activation False\n",
            "115 block4d_se_squeeze False\n",
            "116 block4d_se_reshape False\n",
            "117 block4d_se_reduce False\n",
            "118 block4d_se_expand False\n",
            "119 block4d_se_excite False\n",
            "120 block4d_project_conv False\n",
            "121 block4d_project_bn False\n",
            "122 block4d_drop False\n",
            "123 block4d_add False\n",
            "124 block4e_expand_conv False\n",
            "125 block4e_expand_bn False\n",
            "126 block4e_expand_activation False\n",
            "127 block4e_dwconv2 False\n",
            "128 block4e_bn False\n",
            "129 block4e_activation False\n",
            "130 block4e_se_squeeze False\n",
            "131 block4e_se_reshape False\n",
            "132 block4e_se_reduce False\n",
            "133 block4e_se_expand False\n",
            "134 block4e_se_excite False\n",
            "135 block4e_project_conv False\n",
            "136 block4e_project_bn False\n",
            "137 block4e_drop False\n",
            "138 block4e_add False\n",
            "139 block4f_expand_conv False\n",
            "140 block4f_expand_bn False\n",
            "141 block4f_expand_activation False\n",
            "142 block4f_dwconv2 False\n",
            "143 block4f_bn False\n",
            "144 block4f_activation False\n",
            "145 block4f_se_squeeze False\n",
            "146 block4f_se_reshape False\n",
            "147 block4f_se_reduce False\n",
            "148 block4f_se_expand False\n",
            "149 block4f_se_excite False\n",
            "150 block4f_project_conv False\n",
            "151 block4f_project_bn False\n",
            "152 block4f_drop False\n",
            "153 block4f_add False\n",
            "154 block5a_expand_conv False\n",
            "155 block5a_expand_bn False\n",
            "156 block5a_expand_activation False\n",
            "157 block5a_dwconv2 False\n",
            "158 block5a_bn False\n",
            "159 block5a_activation False\n",
            "160 block5a_se_squeeze False\n",
            "161 block5a_se_reshape False\n",
            "162 block5a_se_reduce False\n",
            "163 block5a_se_expand False\n",
            "164 block5a_se_excite False\n",
            "165 block5a_project_conv False\n",
            "166 block5a_project_bn False\n",
            "167 block5b_expand_conv False\n",
            "168 block5b_expand_bn False\n",
            "169 block5b_expand_activation False\n",
            "170 block5b_dwconv2 False\n",
            "171 block5b_bn False\n",
            "172 block5b_activation False\n",
            "173 block5b_se_squeeze False\n",
            "174 block5b_se_reshape False\n",
            "175 block5b_se_reduce False\n",
            "176 block5b_se_expand False\n",
            "177 block5b_se_excite False\n",
            "178 block5b_project_conv False\n",
            "179 block5b_project_bn False\n",
            "180 block5b_drop False\n",
            "181 block5b_add False\n",
            "182 block5c_expand_conv False\n",
            "183 block5c_expand_bn False\n",
            "184 block5c_expand_activation False\n",
            "185 block5c_dwconv2 False\n",
            "186 block5c_bn False\n",
            "187 block5c_activation False\n",
            "188 block5c_se_squeeze False\n",
            "189 block5c_se_reshape False\n",
            "190 block5c_se_reduce False\n",
            "191 block5c_se_expand False\n",
            "192 block5c_se_excite False\n",
            "193 block5c_project_conv False\n",
            "194 block5c_project_bn False\n",
            "195 block5c_drop False\n",
            "196 block5c_add False\n",
            "197 block5d_expand_conv False\n",
            "198 block5d_expand_bn False\n",
            "199 block5d_expand_activation False\n",
            "200 block5d_dwconv2 False\n",
            "201 block5d_bn False\n",
            "202 block5d_activation False\n",
            "203 block5d_se_squeeze False\n",
            "204 block5d_se_reshape False\n",
            "205 block5d_se_reduce False\n",
            "206 block5d_se_expand False\n",
            "207 block5d_se_excite False\n",
            "208 block5d_project_conv False\n",
            "209 block5d_project_bn False\n",
            "210 block5d_drop False\n",
            "211 block5d_add False\n",
            "212 block5e_expand_conv False\n",
            "213 block5e_expand_bn False\n",
            "214 block5e_expand_activation False\n",
            "215 block5e_dwconv2 False\n",
            "216 block5e_bn False\n",
            "217 block5e_activation False\n",
            "218 block5e_se_squeeze False\n",
            "219 block5e_se_reshape False\n",
            "220 block5e_se_reduce False\n",
            "221 block5e_se_expand False\n",
            "222 block5e_se_excite False\n",
            "223 block5e_project_conv False\n",
            "224 block5e_project_bn False\n",
            "225 block5e_drop False\n",
            "226 block5e_add False\n",
            "227 block5f_expand_conv False\n",
            "228 block5f_expand_bn False\n",
            "229 block5f_expand_activation False\n",
            "230 block5f_dwconv2 False\n",
            "231 block5f_bn False\n",
            "232 block5f_activation False\n",
            "233 block5f_se_squeeze False\n",
            "234 block5f_se_reshape False\n",
            "235 block5f_se_reduce False\n",
            "236 block5f_se_expand False\n",
            "237 block5f_se_excite False\n",
            "238 block5f_project_conv False\n",
            "239 block5f_project_bn False\n",
            "240 block5f_drop False\n",
            "241 block5f_add False\n",
            "242 block5g_expand_conv False\n",
            "243 block5g_expand_bn False\n",
            "244 block5g_expand_activation False\n",
            "245 block5g_dwconv2 False\n",
            "246 block5g_bn False\n",
            "247 block5g_activation False\n",
            "248 block5g_se_squeeze False\n",
            "249 block5g_se_reshape False\n",
            "250 block5g_se_reduce False\n",
            "251 block5g_se_expand False\n",
            "252 block5g_se_excite False\n",
            "253 block5g_project_conv False\n",
            "254 block5g_project_bn False\n",
            "255 block5g_drop False\n",
            "256 block5g_add False\n",
            "257 block5h_expand_conv False\n",
            "258 block5h_expand_bn False\n",
            "259 block5h_expand_activation False\n",
            "260 block5h_dwconv2 False\n",
            "261 block5h_bn False\n",
            "262 block5h_activation False\n",
            "263 block5h_se_squeeze False\n",
            "264 block5h_se_reshape False\n",
            "265 block5h_se_reduce False\n",
            "266 block5h_se_expand False\n",
            "267 block5h_se_excite False\n",
            "268 block5h_project_conv False\n",
            "269 block5h_project_bn False\n",
            "270 block5h_drop False\n",
            "271 block5h_add False\n",
            "272 block5i_expand_conv False\n",
            "273 block5i_expand_bn False\n",
            "274 block5i_expand_activation False\n",
            "275 block5i_dwconv2 False\n",
            "276 block5i_bn False\n",
            "277 block5i_activation False\n",
            "278 block5i_se_squeeze False\n",
            "279 block5i_se_reshape False\n",
            "280 block5i_se_reduce False\n",
            "281 block5i_se_expand False\n",
            "282 block5i_se_excite False\n",
            "283 block5i_project_conv False\n",
            "284 block5i_project_bn False\n",
            "285 block5i_drop False\n",
            "286 block5i_add False\n",
            "287 block6a_expand_conv False\n",
            "288 block6a_expand_bn False\n",
            "289 block6a_expand_activation False\n",
            "290 block6a_dwconv2 False\n",
            "291 block6a_bn False\n",
            "292 block6a_activation False\n",
            "293 block6a_se_squeeze False\n",
            "294 block6a_se_reshape False\n",
            "295 block6a_se_reduce False\n",
            "296 block6a_se_expand False\n",
            "297 block6a_se_excite False\n",
            "298 block6a_project_conv False\n",
            "299 block6a_project_bn False\n",
            "300 block6b_expand_conv False\n",
            "301 block6b_expand_bn False\n",
            "302 block6b_expand_activation False\n",
            "303 block6b_dwconv2 False\n",
            "304 block6b_bn False\n",
            "305 block6b_activation False\n",
            "306 block6b_se_squeeze False\n",
            "307 block6b_se_reshape False\n",
            "308 block6b_se_reduce False\n",
            "309 block6b_se_expand False\n",
            "310 block6b_se_excite False\n",
            "311 block6b_project_conv False\n",
            "312 block6b_project_bn False\n",
            "313 block6b_drop False\n",
            "314 block6b_add False\n",
            "315 block6c_expand_conv False\n",
            "316 block6c_expand_bn False\n",
            "317 block6c_expand_activation False\n",
            "318 block6c_dwconv2 False\n",
            "319 block6c_bn False\n",
            "320 block6c_activation False\n",
            "321 block6c_se_squeeze False\n",
            "322 block6c_se_reshape False\n",
            "323 block6c_se_reduce False\n",
            "324 block6c_se_expand False\n",
            "325 block6c_se_excite False\n",
            "326 block6c_project_conv False\n",
            "327 block6c_project_bn False\n",
            "328 block6c_drop False\n",
            "329 block6c_add False\n",
            "330 block6d_expand_conv False\n",
            "331 block6d_expand_bn False\n",
            "332 block6d_expand_activation False\n",
            "333 block6d_dwconv2 False\n",
            "334 block6d_bn False\n",
            "335 block6d_activation False\n",
            "336 block6d_se_squeeze False\n",
            "337 block6d_se_reshape False\n",
            "338 block6d_se_reduce False\n",
            "339 block6d_se_expand False\n",
            "340 block6d_se_excite False\n",
            "341 block6d_project_conv False\n",
            "342 block6d_project_bn False\n",
            "343 block6d_drop False\n",
            "344 block6d_add False\n",
            "345 block6e_expand_conv False\n",
            "346 block6e_expand_bn False\n",
            "347 block6e_expand_activation False\n",
            "348 block6e_dwconv2 False\n",
            "349 block6e_bn False\n",
            "350 block6e_activation False\n",
            "351 block6e_se_squeeze False\n",
            "352 block6e_se_reshape False\n",
            "353 block6e_se_reduce False\n",
            "354 block6e_se_expand False\n",
            "355 block6e_se_excite False\n",
            "356 block6e_project_conv False\n",
            "357 block6e_project_bn False\n",
            "358 block6e_drop False\n",
            "359 block6e_add False\n",
            "360 block6f_expand_conv False\n",
            "361 block6f_expand_bn False\n",
            "362 block6f_expand_activation False\n",
            "363 block6f_dwconv2 False\n",
            "364 block6f_bn False\n",
            "365 block6f_activation False\n",
            "366 block6f_se_squeeze False\n",
            "367 block6f_se_reshape False\n",
            "368 block6f_se_reduce False\n",
            "369 block6f_se_expand False\n",
            "370 block6f_se_excite False\n",
            "371 block6f_project_conv False\n",
            "372 block6f_project_bn False\n",
            "373 block6f_drop False\n",
            "374 block6f_add False\n",
            "375 block6g_expand_conv False\n",
            "376 block6g_expand_bn False\n",
            "377 block6g_expand_activation False\n",
            "378 block6g_dwconv2 False\n",
            "379 block6g_bn False\n",
            "380 block6g_activation False\n",
            "381 block6g_se_squeeze False\n",
            "382 block6g_se_reshape False\n",
            "383 block6g_se_reduce False\n",
            "384 block6g_se_expand False\n",
            "385 block6g_se_excite False\n",
            "386 block6g_project_conv False\n",
            "387 block6g_project_bn False\n",
            "388 block6g_drop False\n",
            "389 block6g_add False\n",
            "390 block6h_expand_conv False\n",
            "391 block6h_expand_bn False\n",
            "392 block6h_expand_activation False\n",
            "393 block6h_dwconv2 False\n",
            "394 block6h_bn False\n",
            "395 block6h_activation False\n",
            "396 block6h_se_squeeze False\n",
            "397 block6h_se_reshape False\n",
            "398 block6h_se_reduce False\n",
            "399 block6h_se_expand False\n",
            "400 block6h_se_excite False\n",
            "401 block6h_project_conv False\n",
            "402 block6h_project_bn False\n",
            "403 block6h_drop False\n",
            "404 block6h_add False\n",
            "405 block6i_expand_conv False\n",
            "406 block6i_expand_bn False\n",
            "407 block6i_expand_activation False\n",
            "408 block6i_dwconv2 False\n",
            "409 block6i_bn False\n",
            "410 block6i_activation False\n",
            "411 block6i_se_squeeze False\n",
            "412 block6i_se_reshape False\n",
            "413 block6i_se_reduce False\n",
            "414 block6i_se_expand False\n",
            "415 block6i_se_excite False\n",
            "416 block6i_project_conv False\n",
            "417 block6i_project_bn False\n",
            "418 block6i_drop False\n",
            "419 block6i_add False\n",
            "420 block6j_expand_conv False\n",
            "421 block6j_expand_bn False\n",
            "422 block6j_expand_activation False\n",
            "423 block6j_dwconv2 False\n",
            "424 block6j_bn False\n",
            "425 block6j_activation False\n",
            "426 block6j_se_squeeze False\n",
            "427 block6j_se_reshape False\n",
            "428 block6j_se_reduce False\n",
            "429 block6j_se_expand False\n",
            "430 block6j_se_excite False\n",
            "431 block6j_project_conv False\n",
            "432 block6j_project_bn False\n",
            "433 block6j_drop False\n",
            "434 block6j_add False\n",
            "435 block6k_expand_conv False\n",
            "436 block6k_expand_bn False\n",
            "437 block6k_expand_activation False\n",
            "438 block6k_dwconv2 False\n",
            "439 block6k_bn False\n",
            "440 block6k_activation False\n",
            "441 block6k_se_squeeze False\n",
            "442 block6k_se_reshape False\n",
            "443 block6k_se_reduce False\n",
            "444 block6k_se_expand False\n",
            "445 block6k_se_excite False\n",
            "446 block6k_project_conv False\n",
            "447 block6k_project_bn False\n",
            "448 block6k_drop False\n",
            "449 block6k_add False\n",
            "450 block6l_expand_conv False\n",
            "451 block6l_expand_bn False\n",
            "452 block6l_expand_activation False\n",
            "453 block6l_dwconv2 False\n",
            "454 block6l_bn False\n",
            "455 block6l_activation False\n",
            "456 block6l_se_squeeze False\n",
            "457 block6l_se_reshape False\n",
            "458 block6l_se_reduce False\n",
            "459 block6l_se_expand False\n",
            "460 block6l_se_excite False\n",
            "461 block6l_project_conv False\n",
            "462 block6l_project_bn False\n",
            "463 block6l_drop False\n",
            "464 block6l_add False\n",
            "465 block6m_expand_conv False\n",
            "466 block6m_expand_bn False\n",
            "467 block6m_expand_activation False\n",
            "468 block6m_dwconv2 False\n",
            "469 block6m_bn False\n",
            "470 block6m_activation False\n",
            "471 block6m_se_squeeze False\n",
            "472 block6m_se_reshape False\n",
            "473 block6m_se_reduce False\n",
            "474 block6m_se_expand False\n",
            "475 block6m_se_excite False\n",
            "476 block6m_project_conv False\n",
            "477 block6m_project_bn False\n",
            "478 block6m_drop False\n",
            "479 block6m_add False\n",
            "480 block6n_expand_conv False\n",
            "481 block6n_expand_bn False\n",
            "482 block6n_expand_activation False\n",
            "483 block6n_dwconv2 False\n",
            "484 block6n_bn False\n",
            "485 block6n_activation False\n",
            "486 block6n_se_squeeze False\n",
            "487 block6n_se_reshape False\n",
            "488 block6n_se_reduce False\n",
            "489 block6n_se_expand False\n",
            "490 block6n_se_excite False\n",
            "491 block6n_project_conv False\n",
            "492 block6n_project_bn False\n",
            "493 block6n_drop False\n",
            "494 block6n_add False\n",
            "495 block6o_expand_conv False\n",
            "496 block6o_expand_bn False\n",
            "497 block6o_expand_activation False\n",
            "498 block6o_dwconv2 False\n",
            "499 block6o_bn False\n",
            "500 block6o_activation False\n",
            "501 block6o_se_squeeze False\n",
            "502 block6o_se_reshape False\n",
            "503 block6o_se_reduce False\n",
            "504 block6o_se_expand False\n",
            "505 block6o_se_excite False\n",
            "506 block6o_project_conv False\n",
            "507 block6o_project_bn False\n",
            "508 block6o_drop False\n",
            "509 block6o_add False\n",
            "510 top_conv False\n",
            "511 top_bn False\n",
            "512 top_activation False\n"
          ]
        }
      ]
    },
    {
      "cell_type": "code",
      "source": [
        "model.save('/content/drive/MyDrive/tensorflow_models/food101_partial_mode')"
      ],
      "metadata": {
        "colab": {
          "base_uri": "https://localhost:8080/"
        },
        "id": "UOP1c30NtbaF",
        "outputId": "b7ce7cbe-295f-4ed5-dd25-615b56c8a2ef"
      },
      "execution_count": 44,
      "outputs": [
        {
          "output_type": "stream",
          "name": "stderr",
          "text": [
            "WARNING:absl:Found untraced functions such as _jit_compiled_convolution_op, _jit_compiled_convolution_op, _jit_compiled_convolution_op, _jit_compiled_convolution_op, _jit_compiled_convolution_op while saving (showing 5 of 170). These functions will not be directly callable after loading.\n"
          ]
        }
      ]
    },
    {
      "cell_type": "markdown",
      "source": [
        "loading the model from google drive for further use"
      ],
      "metadata": {
        "id": "jQqj1UzxuX2B"
      }
    },
    {
      "cell_type": "code",
      "source": [
        "model_2=tf.keras.models.load_model('/content/drive/MyDrive/tensorflow_models/food101_partial_mode')"
      ],
      "metadata": {
        "id": "XeWs8JhIuPLe"
      },
      "execution_count": 45,
      "outputs": []
    },
    {
      "cell_type": "code",
      "source": [
        "model_2_results=model_2.evaluate(test_data)\n",
        "model_2_results"
      ],
      "metadata": {
        "colab": {
          "base_uri": "https://localhost:8080/"
        },
        "id": "BQf8rd-wu3zL",
        "outputId": "048b9fed-b28b-43ab-acac-d484b4ac8c39"
      },
      "execution_count": 46,
      "outputs": [
        {
          "output_type": "stream",
          "name": "stdout",
          "text": [
            "790/790 [==============================] - 66s 79ms/step - loss: 1.0221 - accuracy: 0.7219\n"
          ]
        },
        {
          "output_type": "execute_result",
          "data": {
            "text/plain": [
              "[1.0221136808395386, 0.7218613624572754]"
            ]
          },
          "metadata": {},
          "execution_count": 46
        }
      ]
    },
    {
      "cell_type": "code",
      "source": [
        "# setting all the layers trainable\n",
        "for layer in model_2.layers:\n",
        "  layer.trainable=True\n",
        "  print(layer.name, layer.trainable, layer.dtype, layer.dtype_policy)"
      ],
      "metadata": {
        "colab": {
          "base_uri": "https://localhost:8080/"
        },
        "id": "KA-EkOLjvbFc",
        "outputId": "feea6c0c-eedf-4338-ce8c-b0d98bce3799"
      },
      "execution_count": 47,
      "outputs": [
        {
          "output_type": "stream",
          "name": "stdout",
          "text": [
            "input_layer True float32 <Policy \"float32\">\n",
            "efficientnetv2-s True float32 <Policy \"mixed_float16\">\n",
            "pooling_layer True float32 <Policy \"mixed_float16\">\n",
            "dense True float32 <Policy \"mixed_float16\">\n",
            "softmax_float32 True float32 <Policy \"float32\">\n"
          ]
        }
      ]
    },
    {
      "cell_type": "code",
      "source": [
        "# checking\n",
        "# Check the layers in the base model and see what dtype policy they're using\n",
        "for layer in model_2.layers[1].layers[:50]:\n",
        "    print(layer.name, layer.trainable, layer.dtype, layer.dtype_policy)"
      ],
      "metadata": {
        "colab": {
          "base_uri": "https://localhost:8080/"
        },
        "id": "hOgtK705v5qi",
        "outputId": "3ebb9a92-6746-4189-d387-dd7efbdbc05a"
      },
      "execution_count": 48,
      "outputs": [
        {
          "output_type": "stream",
          "name": "stdout",
          "text": [
            "input_1 True float32 <Policy \"float32\">\n",
            "rescaling True float32 <Policy \"mixed_float16\">\n",
            "stem_conv True float32 <Policy \"mixed_float16\">\n",
            "stem_bn True float32 <Policy \"mixed_float16\">\n",
            "stem_activation True float32 <Policy \"mixed_float16\">\n",
            "block1a_project_conv True float32 <Policy \"mixed_float16\">\n",
            "block1a_project_bn True float32 <Policy \"mixed_float16\">\n",
            "block1a_project_activation True float32 <Policy \"mixed_float16\">\n",
            "block1a_add True float32 <Policy \"mixed_float16\">\n",
            "block1b_project_conv True float32 <Policy \"mixed_float16\">\n",
            "block1b_project_bn True float32 <Policy \"mixed_float16\">\n",
            "block1b_project_activation True float32 <Policy \"mixed_float16\">\n",
            "block1b_drop True float32 <Policy \"mixed_float16\">\n",
            "block1b_add True float32 <Policy \"mixed_float16\">\n",
            "block2a_expand_conv True float32 <Policy \"mixed_float16\">\n",
            "block2a_expand_bn True float32 <Policy \"mixed_float16\">\n",
            "block2a_expand_activation True float32 <Policy \"mixed_float16\">\n",
            "block2a_project_conv True float32 <Policy \"mixed_float16\">\n",
            "block2a_project_bn True float32 <Policy \"mixed_float16\">\n",
            "block2b_expand_conv True float32 <Policy \"mixed_float16\">\n",
            "block2b_expand_bn True float32 <Policy \"mixed_float16\">\n",
            "block2b_expand_activation True float32 <Policy \"mixed_float16\">\n",
            "block2b_project_conv True float32 <Policy \"mixed_float16\">\n",
            "block2b_project_bn True float32 <Policy \"mixed_float16\">\n",
            "block2b_drop True float32 <Policy \"mixed_float16\">\n",
            "block2b_add True float32 <Policy \"mixed_float16\">\n",
            "block2c_expand_conv True float32 <Policy \"mixed_float16\">\n",
            "block2c_expand_bn True float32 <Policy \"mixed_float16\">\n",
            "block2c_expand_activation True float32 <Policy \"mixed_float16\">\n",
            "block2c_project_conv True float32 <Policy \"mixed_float16\">\n",
            "block2c_project_bn True float32 <Policy \"mixed_float16\">\n",
            "block2c_drop True float32 <Policy \"mixed_float16\">\n",
            "block2c_add True float32 <Policy \"mixed_float16\">\n",
            "block2d_expand_conv True float32 <Policy \"mixed_float16\">\n",
            "block2d_expand_bn True float32 <Policy \"mixed_float16\">\n",
            "block2d_expand_activation True float32 <Policy \"mixed_float16\">\n",
            "block2d_project_conv True float32 <Policy \"mixed_float16\">\n",
            "block2d_project_bn True float32 <Policy \"mixed_float16\">\n",
            "block2d_drop True float32 <Policy \"mixed_float16\">\n",
            "block2d_add True float32 <Policy \"mixed_float16\">\n",
            "block3a_expand_conv True float32 <Policy \"mixed_float16\">\n",
            "block3a_expand_bn True float32 <Policy \"mixed_float16\">\n",
            "block3a_expand_activation True float32 <Policy \"mixed_float16\">\n",
            "block3a_project_conv True float32 <Policy \"mixed_float16\">\n",
            "block3a_project_bn True float32 <Policy \"mixed_float16\">\n",
            "block3b_expand_conv True float32 <Policy \"mixed_float16\">\n",
            "block3b_expand_bn True float32 <Policy \"mixed_float16\">\n",
            "block3b_expand_activation True float32 <Policy \"mixed_float16\">\n",
            "block3b_project_conv True float32 <Policy \"mixed_float16\">\n",
            "block3b_project_bn True float32 <Policy \"mixed_float16\">\n"
          ]
        }
      ]
    },
    {
      "cell_type": "markdown",
      "source": [
        "This training might take longer hours ,so it will be good to add some more callbacks like early stoping callbacks ,checkpoint and Reducelronplatue."
      ],
      "metadata": {
        "id": "9bbrTmZnwWZC"
      }
    },
    {
      "cell_type": "code",
      "source": [
        "# early stpoing callbacks\n",
        "early_stopping=tf.keras.callbacks.EarlyStopping(monitor='val_loss',\n",
        "                                                patience=3)"
      ],
      "metadata": {
        "id": "0oA7apblwObp"
      },
      "execution_count": 49,
      "outputs": []
    },
    {
      "cell_type": "code",
      "source": [
        "checkpoint_path = \"fine_tune_checkpoints/\"\n",
        "model_checkpoint = tf.keras.callbacks.ModelCheckpoint(checkpoint_path,\n",
        "                                                      save_best_only=True,\n",
        "                                                      monitor=\"val_loss\")"
      ],
      "metadata": {
        "id": "T8eUKTI0xXJ6"
      },
      "execution_count": 50,
      "outputs": []
    },
    {
      "cell_type": "code",
      "source": [
        "# Creating learning rate reduction callback\n",
        "reduce_lr = tf.keras.callbacks.ReduceLROnPlateau(monitor=\"val_loss\",  \n",
        "                                                 factor=0.2, # multiply the learning rate by 0.2 (reduce by 5x)\n",
        "                                                 patience=2,\n",
        "                                                 verbose=1, # print out when learning rate goes down \n",
        "                                                 min_lr=1e-7)"
      ],
      "metadata": {
        "id": "u5XpgaL7xbY8"
      },
      "execution_count": 51,
      "outputs": []
    },
    {
      "cell_type": "code",
      "source": [
        "# compiling the model\n",
        "model_2.compile(loss='sparse_categorical_crossentropy',\n",
        "                optimizer=tf.keras.optimizers.Adam(learning_rate=0.0001),\n",
        "                metrics=['accuracy'])"
      ],
      "metadata": {
        "id": "qR3dKjssxnvE"
      },
      "execution_count": 52,
      "outputs": []
    },
    {
      "cell_type": "code",
      "source": [
        "# fiting the model\n",
        "history_101_fine_tune=model_2.fit(train_data,\n",
        "                                  epochs=100,\n",
        "                                  steps_per_epoch=len(train_data),\n",
        "                                  validation_data=test_data,\n",
        "                                  validation_steps=int(0.15*len(test_data)),\n",
        "                                  callbacks=[create_tensorboard_callback(\"training_logs\", \"efficient2vs_101_classes_all_data_fine\"),\n",
        "                                             model_checkpoint,\n",
        "                                             early_stopping,\n",
        "                                             reduce_lr])"
      ],
      "metadata": {
        "colab": {
          "base_uri": "https://localhost:8080/"
        },
        "id": "JqBI-eFAyG7y",
        "outputId": "fb435c81-ef62-4243-9e80-95626c054d68"
      },
      "execution_count": 53,
      "outputs": [
        {
          "output_type": "stream",
          "name": "stdout",
          "text": [
            "Saving TensorBoard log files to: training_logs/efficient2vs_101_classes_all_data_fine/20221124-122301\n",
            "Epoch 1/100\n",
            "2368/2368 [==============================] - ETA: 0s - loss: 0.8703 - accuracy: 0.7638"
          ]
        },
        {
          "output_type": "stream",
          "name": "stderr",
          "text": [
            "WARNING:absl:Found untraced functions such as _jit_compiled_convolution_op, _jit_compiled_convolution_op, _jit_compiled_convolution_op, _jit_compiled_convolution_op, _jit_compiled_convolution_op while saving (showing 5 of 170). These functions will not be directly callable after loading.\n"
          ]
        },
        {
          "output_type": "stream",
          "name": "stdout",
          "text": [
            "\b\b\b\b\b\b\b\b\b\b\b\b\b\b\b\b\b\b\b\b\b\b\b\b\b\b\b\b\b\b\b\b\b\b\b\b\b\b\b\b\b\b\b\b\b\b\b\b\b\b\b\b\b\b\b\b\b\b\b\b\b\b\b\b\b\b\b\b\b\b\b\b\b\b\b\b\b\b\b\b\b\b\b\b\b\b\r2368/2368 [==============================] - 704s 284ms/step - loss: 0.8703 - accuracy: 0.7638 - val_loss: 0.6196 - val_accuracy: 0.8297 - lr: 1.0000e-04\n",
            "Epoch 2/100\n",
            "2368/2368 [==============================] - 563s 237ms/step - loss: 0.3422 - accuracy: 0.9025 - val_loss: 0.7155 - val_accuracy: 0.8130 - lr: 1.0000e-04\n",
            "Epoch 3/100\n",
            "2368/2368 [==============================] - ETA: 0s - loss: 0.1546 - accuracy: 0.9523\n",
            "Epoch 3: ReduceLROnPlateau reducing learning rate to 1.9999999494757503e-05.\n",
            "2368/2368 [==============================] - 563s 237ms/step - loss: 0.1546 - accuracy: 0.9523 - val_loss: 0.7620 - val_accuracy: 0.8218 - lr: 1.0000e-04\n",
            "Epoch 4/100\n",
            "2368/2368 [==============================] - 563s 237ms/step - loss: 0.0383 - accuracy: 0.9884 - val_loss: 0.7124 - val_accuracy: 0.8583 - lr: 2.0000e-05\n"
          ]
        }
      ]
    },
    {
      "cell_type": "code",
      "source": [
        "model_2_fine_tune_results=model_2.evaluate(test_data)\n",
        "model_2_fine_tune_results"
      ],
      "metadata": {
        "colab": {
          "base_uri": "https://localhost:8080/"
        },
        "id": "iyl_m1m69IwF",
        "outputId": "540c0d80-88e4-4d89-afbb-e4f3a2562e1d"
      },
      "execution_count": 54,
      "outputs": [
        {
          "output_type": "stream",
          "name": "stdout",
          "text": [
            "790/790 [==============================] - 61s 77ms/step - loss: 0.7515 - accuracy: 0.8487\n"
          ]
        },
        {
          "output_type": "execute_result",
          "data": {
            "text/plain": [
              "[0.7514693140983582, 0.8486732840538025]"
            ]
          },
          "metadata": {},
          "execution_count": 54
        }
      ]
    },
    {
      "cell_type": "code",
      "source": [
        "#lets save this model\n",
        "model_2.save('/content/drive/MyDrive/tensorflow_models/food_101_efficientnetv2s_fullmode')"
      ],
      "metadata": {
        "colab": {
          "base_uri": "https://localhost:8080/"
        },
        "id": "Lk80EjLj-oTM",
        "outputId": "89ef9140-700a-4abc-ace2-37769f50b31d"
      },
      "execution_count": 55,
      "outputs": [
        {
          "output_type": "stream",
          "name": "stderr",
          "text": [
            "WARNING:absl:Found untraced functions such as _jit_compiled_convolution_op, _jit_compiled_convolution_op, _jit_compiled_convolution_op, _jit_compiled_convolution_op, _jit_compiled_convolution_op while saving (showing 5 of 170). These functions will not be directly callable after loading.\n"
          ]
        }
      ]
    },
    {
      "cell_type": "code",
      "source": [
        "loaded_model=tf.keras.models.load_model('/content/drive/MyDrive/tensorflow_models/food_101_efficientnetv2s_fullmode')"
      ],
      "metadata": {
        "id": "7fLGjLz9DYPe"
      },
      "execution_count": 56,
      "outputs": []
    },
    {
      "cell_type": "code",
      "source": [
        "# Make predictions with model\n",
        "pred_probs = loaded_model.predict(test_data, verbose=1) # set verbosity to see how long it will take "
      ],
      "metadata": {
        "colab": {
          "base_uri": "https://localhost:8080/"
        },
        "id": "i-ADkXVr-7Gc",
        "outputId": "c2d51596-1e23-4331-c651-fbf6397607ee"
      },
      "execution_count": 57,
      "outputs": [
        {
          "output_type": "stream",
          "name": "stdout",
          "text": [
            "790/790 [==============================] - 63s 75ms/step\n"
          ]
        }
      ]
    },
    {
      "cell_type": "code",
      "source": [
        "# We get one prediction probability per class\n",
        "print(f\"Number of prediction probabilities for sample 0: {len(pred_probs[0])}\")\n",
        "print(f\"What prediction probability sample 0 looks like:\\n {pred_probs[0]}\")\n",
        "print(f'the class with highest prediction probability by the model for sample 0 is: {pred_probs[0].argmax()}')"
      ],
      "metadata": {
        "colab": {
          "base_uri": "https://localhost:8080/"
        },
        "id": "eMTrv0Su_gKM",
        "outputId": "fea56f74-4134-4eea-bbe2-c66522afc086"
      },
      "execution_count": 58,
      "outputs": [
        {
          "output_type": "stream",
          "name": "stdout",
          "text": [
            "Number of prediction probabilities for sample 0: 101\n",
            "What prediction probability sample 0 looks like:\n",
            " [7.62705898e-10 8.38805208e-14 3.80244144e-15 8.21098777e-13\n",
            " 1.00814860e-11 3.30559191e-11 9.88354093e-14 3.55707516e-17\n",
            " 5.24121302e-11 3.97176007e-11 1.26402185e-07 3.07284363e-16\n",
            " 5.24277866e-09 3.27395666e-10 8.12017387e-09 9.14078044e-14\n",
            " 9.04373337e-07 1.53724308e-11 9.42531032e-18 2.14647224e-12\n",
            " 1.04548258e-16 1.14943832e-09 5.47378143e-08 8.08368834e-13\n",
            " 8.50225076e-15 4.25980431e-13 1.03796615e-12 7.52349238e-10\n",
            " 1.74454872e-14 9.99992013e-01 5.90701994e-08 1.41659739e-09\n",
            " 1.79614628e-15 9.72450154e-18 5.35583577e-10 9.57945610e-14\n",
            " 1.68124683e-13 4.86484876e-13 1.15481312e-17 3.92548771e-11\n",
            " 6.62155936e-15 5.37037996e-18 3.76717581e-12 5.68418995e-17\n",
            " 1.61927500e-16 1.02617977e-10 1.26184588e-12 3.50192769e-17\n",
            " 1.44324409e-15 1.25655118e-14 1.07866972e-16 1.34040687e-13\n",
            " 7.41358109e-17 1.08777917e-12 7.30963933e-20 1.12230895e-12\n",
            " 2.37093819e-13 4.54408126e-12 2.03314943e-09 5.22708373e-16\n",
            " 2.24814059e-16 6.02899798e-15 4.73221510e-15 9.87014803e-10\n",
            " 1.30112400e-16 8.99906573e-14 4.82699113e-13 5.26015592e-13\n",
            " 1.45150861e-16 2.29799198e-13 8.01599225e-17 6.81740238e-16\n",
            " 2.32511255e-08 1.14943832e-09 6.95393924e-14 6.05990320e-20\n",
            " 3.70877114e-12 1.41277845e-14 9.27918390e-18 2.03530032e-15\n",
            " 3.46216247e-15 2.57286067e-15 3.73112305e-11 5.51753601e-07\n",
            " 3.02520411e-16 2.15747530e-17 3.44969441e-13 5.38650513e-11\n",
            " 3.41362115e-18 7.60536166e-16 6.30506656e-16 1.53632538e-15\n",
            " 1.04705743e-19 1.20841346e-14 6.26534620e-06 1.02402470e-11\n",
            " 2.42206581e-14 1.02402470e-11 9.07506403e-10 3.07559755e-10\n",
            " 4.35426362e-10]\n",
            "the class with highest prediction probability by the model for sample 0 is: 29\n"
          ]
        }
      ]
    },
    {
      "cell_type": "code",
      "source": [
        "pred_classes=pred_probs.argmax(axis=1)\n",
        "pred_classes[:10]"
      ],
      "metadata": {
        "colab": {
          "base_uri": "https://localhost:8080/"
        },
        "id": "Xe_fwJ09_2r1",
        "outputId": "db1c331c-ff34-4ead-a600-0a8dea5b92f4"
      },
      "execution_count": 59,
      "outputs": [
        {
          "output_type": "execute_result",
          "data": {
            "text/plain": [
              "array([29, 81, 91, 53, 97, 36, 10, 31,  3,  0])"
            ]
          },
          "metadata": {},
          "execution_count": 59
        }
      ]
    },
    {
      "cell_type": "code",
      "source": [
        "y_labels=[]\n",
        "for images,labels in test_data.unbatch():\n",
        "  y_labels.append(labels.numpy().argmax())"
      ],
      "metadata": {
        "id": "W6eOzbYW_6gV"
      },
      "execution_count": 60,
      "outputs": []
    },
    {
      "cell_type": "code",
      "source": [
        "print(y_labels[:10])\n",
        "# How many labels are there? (should be the same as how many prediction probabilities we have)\n",
        "len(y_labels)"
      ],
      "metadata": {
        "colab": {
          "base_uri": "https://localhost:8080/"
        },
        "id": "1FVfnwUPAKFq",
        "outputId": "93bf4670-ee86-4563-d517-e6f53c26dd9d"
      },
      "execution_count": 61,
      "outputs": [
        {
          "output_type": "stream",
          "name": "stdout",
          "text": [
            "[0, 0, 0, 0, 0, 0, 0, 0, 0, 0]\n"
          ]
        },
        {
          "output_type": "execute_result",
          "data": {
            "text/plain": [
              "25250"
            ]
          },
          "metadata": {},
          "execution_count": 61
        }
      ]
    },
    {
      "cell_type": "code",
      "source": [],
      "metadata": {
        "id": "xch7Dmv0H4wG"
      },
      "execution_count": 61,
      "outputs": []
    },
    {
      "cell_type": "code",
      "source": [
        "from helper_function import load_and_prep_image,pred_and_plot"
      ],
      "metadata": {
        "id": "Yt2tnAEZFEW7"
      },
      "execution_count": 62,
      "outputs": []
    },
    {
      "cell_type": "code",
      "source": [
        "!wget https://images-gmi-pmc.edge-generalmills.com/9aaa5c61-860a-427f-a745-b5221f6b909e.jpg\n",
        "pred_and_plot(model_2,'9aaa5c61-860a-427f-a745-b5221f6b909e.jpg',class_names)"
      ],
      "metadata": {
        "colab": {
          "base_uri": "https://localhost:8080/",
          "height": 472
        },
        "id": "wC33hJtQJMjb",
        "outputId": "269bf43d-5259-4e3b-e6ef-a230a22ec5ff"
      },
      "execution_count": 64,
      "outputs": [
        {
          "output_type": "stream",
          "name": "stdout",
          "text": [
            "--2022-11-24 13:09:07--  https://images-gmi-pmc.edge-generalmills.com/9aaa5c61-860a-427f-a745-b5221f6b909e.jpg\n",
            "Resolving images-gmi-pmc.edge-generalmills.com (images-gmi-pmc.edge-generalmills.com)... 152.195.60.25\n",
            "Connecting to images-gmi-pmc.edge-generalmills.com (images-gmi-pmc.edge-generalmills.com)|152.195.60.25|:443... connected.\n",
            "HTTP request sent, awaiting response... 200 OK\n",
            "Length: 66164 (65K) [image/jpg]\n",
            "Saving to: ‘9aaa5c61-860a-427f-a745-b5221f6b909e.jpg.2’\n",
            "\n",
            "\r          9aaa5c61-   0%[                    ]       0  --.-KB/s               \r9aaa5c61-860a-427f- 100%[===================>]  64.61K  --.-KB/s    in 0.001s  \n",
            "\n",
            "2022-11-24 13:09:07 (61.8 MB/s) - ‘9aaa5c61-860a-427f-a745-b5221f6b909e.jpg.2’ saved [66164/66164]\n",
            "\n",
            "1/1 [==============================] - 3s 3s/step\n"
          ]
        },
        {
          "output_type": "display_data",
          "data": {
            "text/plain": [
              "<Figure size 432x288 with 1 Axes>"
            ],
            "image/png": "[encoded data removed]"
          },
          "metadata": {
            "needs_background": "light"
          }
        }
      ]
    },
    {
      "cell_type": "code",
      "source": [
        "!wget https://emilybites.com/wp-content/uploads/2021/06/Turkey-Sausage-Breakfast-Burritos-5b.jpg\n",
        "pred_and_plot(model_2,'Turkey-Sausage-Breakfast-Burritos-5b.jpg',class_names)\n"
      ],
      "metadata": {
        "colab": {
          "base_uri": "https://localhost:8080/",
          "height": 472
        },
        "id": "tanSLNiZJB6s",
        "outputId": "ffdf41ff-65ae-4105-9d19-28d99decc19f"
      },
      "execution_count": 66,
      "outputs": [
        {
          "output_type": "stream",
          "name": "stdout",
          "text": [
            "--2022-11-24 13:10:52--  https://emilybites.com/wp-content/uploads/2021/06/Turkey-Sausage-Breakfast-Burritos-5b.jpg\n",
            "Resolving emilybites.com (emilybites.com)... 151.101.130.159\n",
            "Connecting to emilybites.com (emilybites.com)|151.101.130.159|:443... connected.\n",
            "HTTP request sent, awaiting response... 200 OK\n",
            "Length: 114842 (112K) [image/jpeg]\n",
            "Saving to: ‘Turkey-Sausage-Breakfast-Burritos-5b.jpg’\n",
            "\n",
            "\r          Turkey-Sa   0%[                    ]       0  --.-KB/s               \rTurkey-Sausage-Brea 100%[===================>] 112.15K  --.-KB/s    in 0.003s  \n",
            "\n",
            "2022-11-24 13:10:52 (37.8 MB/s) - ‘Turkey-Sausage-Breakfast-Burritos-5b.jpg’ saved [114842/114842]\n",
            "\n",
            "1/1 [==============================] - 0s 41ms/step\n"
          ]
        },
        {
          "output_type": "display_data",
          "data": {
            "text/plain": [
              "<Figure size 432x288 with 1 Axes>"
            ],
            "image/png": "[encoded data removed]"
          },
          "metadata": {
            "needs_background": "light"
          }
        }
      ]
    },
    {
      "cell_type": "code",
      "source": [
        "#Predict 100 images\n",
        "import numpy as np\n",
        "n=100\n",
        "for img, label in test_data.unbatch():\n",
        "  if n>=0:\n",
        "    img = tf.image.resize(img, [224, 224])\n",
        "    img = tf.cast(img, dtype = tf.float32) \n",
        "    img = tf.expand_dims(img, axis =0)\n",
        "    pred_prob = model_2.predict(img)\n",
        "    pred = np.array(tf.argmax(pred_prob, axis = 1))\n",
        "    pred_class=class_names[pred_prob.argmax()]\n",
        "    print(label, pred)\n",
        "    n=-1\n",
        "    \n",
        "  else:\n",
        "    break  "
      ],
      "metadata": {
        "colab": {
          "base_uri": "https://localhost:8080/"
        },
        "id": "7Nw_fVYOQZXg",
        "outputId": "bb7e77af-4a98-4858-9b22-7044ea04db04"
      },
      "execution_count": 67,
      "outputs": [
        {
          "output_type": "stream",
          "name": "stdout",
          "text": [
            "1/1 [==============================] - 0s 75ms/step\n",
            "tf.Tensor(29, shape=(), dtype=int64) [29]\n"
          ]
        }
      ]
    }
  ]
}
