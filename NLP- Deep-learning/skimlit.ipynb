{
  "nbformat": 4,
  "nbformat_minor": 0,
  "metadata": {
    "colab": {
      "provenance": [],
      "toc_visible": true
    },
    "kernelspec": {
      "name": "python3",
      "display_name": "Python 3"
    },
    "language_info": {
      "name": "python"
    },
    "gpuClass": "standard"
  },
  "cells": [
    {
      "cell_type": "markdown",
      "source": [
        "# NLP project -Skimlit:\n",
        " **contents** \n",
        "\n",
        "1.   Aim of the project\n",
        "2.   preparing the datasets\n",
        "3.   Model-0: Baseline Model\n",
        "4. Model-1: Conv1D Model\n",
        "\n",
        "   *   preparing datasets for DL model\n",
        "   *   creating coustom text embedding\n",
        "\n",
        "5. Model-2: Feature extraction Model\n",
        "6. Model-3: Conv1D with charcter embeddings\n",
        "7. Model-4: Combining pretrained token Embedings+Charcter embeddings\n",
        "8. Model-5 Transfer Learning token embeddins +charcter embedding+ positional embedding\n",
        "      \n",
        "      *   Creating positional embedding\n",
        "      *   Building the embedded model\n",
        "\n",
        "9. Model-6: Coustom Token embedded Conv1d+char embedding+ Positional embedding\n",
        "10. Comparing all the Model results\n",
        "11. Saving the best performing model\n",
        "12. Evaluating the mdel with test data\n",
        "13. Making sample predictions.\n",
        "\n",
        "\n",
        "\n",
        "\n",
        "\n",
        "\n",
        "\n",
        "\n",
        "\n",
        "\n",
        "\n",
        "\n",
        "\n",
        "\n",
        "\n"
      ],
      "metadata": {
        "id": "ayA9qtXDCUyn"
      }
    },
    {
      "cell_type": "markdown",
      "source": [
        "# Aim of the project:\n",
        "In this project i'm trying to replicate the deep learning model behind the 2017 paper [link text](https://arxiv.org/abs/1710.06071) with its 10% of data.\n",
        "The number of RCT papers released is continuing to increase, those without structured abstracts can be hard to read and in turn slow down researchers moving through the literature,so we are creating an NLP model  to classify abstract sentences into the role they play (e.g. objective, methods, results, etc) to enable researchers to skim through the literature  and dive deeper when necessary."
      ],
      "metadata": {
        "id": "QDpPDdWIGSBS"
      }
    },
    {
      "cell_type": "code",
      "source": [
        "!nvidia-smi"
      ],
      "metadata": {
        "colab": {
          "base_uri": "https://localhost:8080/"
        },
        "id": "9mw5VIOu0aRx",
        "outputId": "d12cce75-a4ce-41db-edc4-f8e33b536abc"
      },
      "execution_count": 1,
      "outputs": [
        {
          "output_type": "stream",
          "name": "stdout",
          "text": [
            "Wed Jan  4 12:28:25 2023       \n",
            "+-----------------------------------------------------------------------------+\n",
            "| NVIDIA-SMI 460.32.03    Driver Version: 460.32.03    CUDA Version: 11.2     |\n",
            "|-------------------------------+----------------------+----------------------+\n",
            "| GPU  Name        Persistence-M| Bus-Id        Disp.A | Volatile Uncorr. ECC |\n",
            "| Fan  Temp  Perf  Pwr:Usage/Cap|         Memory-Usage | GPU-Util  Compute M. |\n",
            "|                               |                      |               MIG M. |\n",
            "|===============================+======================+======================|\n",
            "|   0  Tesla T4            Off  | 00000000:00:04.0 Off |                    0 |\n",
            "| N/A   45C    P0    25W /  70W |      0MiB / 15109MiB |      0%      Default |\n",
            "|                               |                      |                  N/A |\n",
            "+-------------------------------+----------------------+----------------------+\n",
            "                                                                               \n",
            "+-----------------------------------------------------------------------------+\n",
            "| Processes:                                                                  |\n",
            "|  GPU   GI   CI        PID   Type   Process name                  GPU Memory |\n",
            "|        ID   ID                                                   Usage      |\n",
            "|=============================================================================|\n",
            "|  No running processes found                                                 |\n",
            "+-----------------------------------------------------------------------------+\n"
          ]
        }
      ]
    },
    {
      "cell_type": "code",
      "execution_count": 2,
      "metadata": {
        "colab": {
          "base_uri": "https://localhost:8080/"
        },
        "id": "lKo6wQaOYIiW",
        "outputId": "84e48e53-3b94-472e-fadd-8826b4565115"
      },
      "outputs": [
        {
          "output_type": "stream",
          "name": "stdout",
          "text": [
            "Cloning into 'pubmed-rct'...\n",
            "remote: Enumerating objects: 33, done.\u001b[K\n",
            "remote: Counting objects: 100% (8/8), done.\u001b[K\n",
            "remote: Compressing objects: 100% (3/3), done.\u001b[K\n",
            "remote: Total 33 (delta 5), reused 5 (delta 5), pack-reused 25\u001b[K\n",
            "Unpacking objects: 100% (33/33), done.\n",
            "Checking out files: 100% (13/13), done.\n",
            "PubMed_200k_RCT\n",
            "PubMed_200k_RCT_numbers_replaced_with_at_sign\n",
            "PubMed_20k_RCT\n",
            "PubMed_20k_RCT_numbers_replaced_with_at_sign\n",
            "README.md\n"
          ]
        }
      ],
      "source": [
        "#geting the data for the project\n",
        "!git clone https://github.com/Franck-Dernoncourt/pubmed-rct.git\n",
        "!ls pubmed-rct"
      ]
    },
    {
      "cell_type": "code",
      "source": [
        "!ls pubmed-rct/PubMed_20k_RCT_numbers_replaced_with_at_sign"
      ],
      "metadata": {
        "colab": {
          "base_uri": "https://localhost:8080/"
        },
        "id": "3QfsY7phdM7B",
        "outputId": "cb8f7d62-e13b-4cef-fd17-4d5843ccb89e"
      },
      "execution_count": 3,
      "outputs": [
        {
          "output_type": "stream",
          "name": "stdout",
          "text": [
            "dev.txt  test.txt  train.txt\n"
          ]
        }
      ]
    },
    {
      "cell_type": "code",
      "source": [
        "data_dir='pubmed-rct/PubMed_20k_RCT_numbers_replaced_with_at_sign/'"
      ],
      "metadata": {
        "id": "urItG2tFfO8-"
      },
      "execution_count": 4,
      "outputs": []
    },
    {
      "cell_type": "code",
      "source": [
        "#ckecking all the file names in the directory \n",
        "import os\n",
        "filenames=[data_dir+ filename for filename in os.listdir(data_dir)]\n",
        "filenames"
      ],
      "metadata": {
        "colab": {
          "base_uri": "https://localhost:8080/"
        },
        "id": "g8GDBYK3ezG0",
        "outputId": "3253fbdc-d5d8-42a1-bd46-2efb59123296"
      },
      "execution_count": 5,
      "outputs": [
        {
          "output_type": "execute_result",
          "data": {
            "text/plain": [
              "['pubmed-rct/PubMed_20k_RCT_numbers_replaced_with_at_sign/dev.txt',\n",
              " 'pubmed-rct/PubMed_20k_RCT_numbers_replaced_with_at_sign/train.txt',\n",
              " 'pubmed-rct/PubMed_20k_RCT_numbers_replaced_with_at_sign/test.txt']"
            ]
          },
          "metadata": {},
          "execution_count": 5
        }
      ]
    },
    {
      "cell_type": "code",
      "source": [
        "#creating a fuction to read the line in the document \n",
        "def get_lines(filename):\n",
        "  with open (filename,'r') as f:\n",
        "    return f.readlines()"
      ],
      "metadata": {
        "id": "WWAyXLIBf7eF"
      },
      "execution_count": 6,
      "outputs": []
    },
    {
      "cell_type": "code",
      "source": [
        "train_lines=get_lines(data_dir+'train.txt')\n",
        "train_lines[:30]"
      ],
      "metadata": {
        "colab": {
          "base_uri": "https://localhost:8080/"
        },
        "id": "6Uzc-eb_iTiJ",
        "outputId": "0a0ad359-c109-4428-f30c-43944e3f80ed"
      },
      "execution_count": 7,
      "outputs": [
        {
          "output_type": "execute_result",
          "data": {
            "text/plain": [
              "['###24293578\\n',\n",
              " 'OBJECTIVE\\tTo investigate the efficacy of @ weeks of daily low-dose oral prednisolone in improving pain , mobility , and systemic low-grade inflammation in the short term and whether the effect would be sustained at @ weeks in older adults with moderate to severe knee osteoarthritis ( OA ) .\\n',\n",
              " 'METHODS\\tA total of @ patients with primary knee OA were randomized @:@ ; @ received @ mg/day of prednisolone and @ received placebo for @ weeks .\\n',\n",
              " 'METHODS\\tOutcome measures included pain reduction and improvement in function scores and systemic inflammation markers .\\n',\n",
              " 'METHODS\\tPain was assessed using the visual analog pain scale ( @-@ mm ) .\\n',\n",
              " 'METHODS\\tSecondary outcome measures included the Western Ontario and McMaster Universities Osteoarthritis Index scores , patient global assessment ( PGA ) of the severity of knee OA , and @-min walk distance ( @MWD ) .\\n',\n",
              " 'METHODS\\tSerum levels of interleukin @ ( IL-@ ) , IL-@ , tumor necrosis factor ( TNF ) - , and high-sensitivity C-reactive protein ( hsCRP ) were measured .\\n',\n",
              " 'RESULTS\\tThere was a clinically relevant reduction in the intervention group compared to the placebo group for knee pain , physical function , PGA , and @MWD at @ weeks .\\n',\n",
              " 'RESULTS\\tThe mean difference between treatment arms ( @ % CI ) was @ ( @-@ @ ) , p < @ ; @ ( @-@ @ ) , p < @ ; @ ( @-@ @ ) , p < @ ; and @ ( @-@ @ ) , p < @ , respectively .\\n',\n",
              " 'RESULTS\\tFurther , there was a clinically relevant reduction in the serum levels of IL-@ , IL-@ , TNF - , and hsCRP at @ weeks in the intervention group when compared to the placebo group .\\n',\n",
              " 'RESULTS\\tThese differences remained significant at @ weeks .\\n',\n",
              " 'RESULTS\\tThe Outcome Measures in Rheumatology Clinical Trials-Osteoarthritis Research Society International responder rate was @ % in the intervention group and @ % in the placebo group ( p < @ ) .\\n',\n",
              " 'CONCLUSIONS\\tLow-dose oral prednisolone had both a short-term and a longer sustained effect resulting in less knee pain , better physical function , and attenuation of systemic inflammation in older patients with knee OA ( ClinicalTrials.gov identifier NCT@ ) .\\n',\n",
              " '\\n',\n",
              " '###24854809\\n',\n",
              " 'BACKGROUND\\tEmotional eating is associated with overeating and the development of obesity .\\n',\n",
              " 'BACKGROUND\\tYet , empirical evidence for individual ( trait ) differences in emotional eating and cognitive mechanisms that contribute to eating during sad mood remain equivocal .\\n',\n",
              " 'OBJECTIVE\\tThe aim of this study was to test if attention bias for food moderates the effect of self-reported emotional eating during sad mood ( vs neutral mood ) on actual food intake .\\n',\n",
              " 'OBJECTIVE\\tIt was expected that emotional eating is predictive of elevated attention for food and higher food intake after an experimentally induced sad mood and that attentional maintenance on food predicts food intake during a sad versus a neutral mood .\\n',\n",
              " 'METHODS\\tParticipants ( N = @ ) were randomly assigned to one of the two experimental mood induction conditions ( sad/neutral ) .\\n',\n",
              " 'METHODS\\tAttentional biases for high caloric foods were measured by eye tracking during a visual probe task with pictorial food and neutral stimuli .\\n',\n",
              " 'METHODS\\tSelf-reported emotional eating was assessed with the Dutch Eating Behavior Questionnaire ( DEBQ ) and ad libitum food intake was tested by a disguised food offer .\\n',\n",
              " 'RESULTS\\tHierarchical multivariate regression modeling showed that self-reported emotional eating did not account for changes in attention allocation for food or food intake in either condition .\\n',\n",
              " 'RESULTS\\tYet , attention maintenance on food cues was significantly related to increased intake specifically in the neutral condition , but not in the sad mood condition .\\n',\n",
              " 'CONCLUSIONS\\tThe current findings show that self-reported emotional eating ( based on the DEBQ ) might not validly predict who overeats when sad , at least not in a laboratory setting with healthy women .\\n',\n",
              " 'CONCLUSIONS\\tResults further suggest that attention maintenance on food relates to eating motivation when in a neutral affective state , and might therefore be a cognitive mechanism contributing to increased food intake in general , but maybe not during sad mood .\\n',\n",
              " '\\n',\n",
              " '###25165090\\n',\n",
              " 'BACKGROUND\\tAlthough working smoke alarms halve deaths in residential fires , many households do not keep alarms operational .\\n',\n",
              " 'BACKGROUND\\tWe tested whether theory-based education increases alarm operability .\\n']"
            ]
          },
          "metadata": {},
          "execution_count": 7
        }
      ]
    },
    {
      "cell_type": "code",
      "source": [
        "train_lines[:3]"
      ],
      "metadata": {
        "colab": {
          "base_uri": "https://localhost:8080/"
        },
        "id": "zH5LlHhpq2xo",
        "outputId": "33e8910c-6c45-4ca3-bd6a-cbf724ef0fd8"
      },
      "execution_count": 8,
      "outputs": [
        {
          "output_type": "execute_result",
          "data": {
            "text/plain": [
              "['###24293578\\n',\n",
              " 'OBJECTIVE\\tTo investigate the efficacy of @ weeks of daily low-dose oral prednisolone in improving pain , mobility , and systemic low-grade inflammation in the short term and whether the effect would be sustained at @ weeks in older adults with moderate to severe knee osteoarthritis ( OA ) .\\n',\n",
              " 'METHODS\\tA total of @ patients with primary knee OA were randomized @:@ ; @ received @ mg/day of prednisolone and @ received placebo for @ weeks .\\n']"
            ]
          },
          "metadata": {},
          "execution_count": 8
        }
      ]
    },
    {
      "cell_type": "code",
      "source": [
        "def preprocess_text_with_linenumber(filename):\n",
        "  input_lines=get_lines(filename)\n",
        "  abstract_lines=\"\"\n",
        "  abstract_samples=[]\n",
        "\n",
        "  #loop through each line in the target file\n",
        "  for line in input_lines:\n",
        "    if line.startswith('###'):\n",
        "      abstract_id=line\n",
        "      abstract_lines=\"\"\n",
        "    elif line.isspace():\n",
        "      abstract_line_split= abstract_lines.splitlines() # spliting abstract lines into seperate lines\n",
        "      #iterate through each line and counting at the same time\n",
        "      for abstract_line_number,abstract_line in enumerate(abstract_line_split):\n",
        "        line_data={}\n",
        "        target_text_split=abstract_line.split('\\t')\n",
        "        line_data['target']=target_text_split[0]\n",
        "        line_data['text']=target_text_split[1]\n",
        "        line_data['line_number']=abstract_line_number\n",
        "        line_data['total_number_of_lines']=len(abstract_line_split)-1\n",
        "        abstract_samples.append(line_data)\n",
        "\n",
        "    else:\n",
        "      abstract_lines+=line\n",
        "\n",
        "  return abstract_samples\n"
      ],
      "metadata": {
        "id": "aKYr2TNAlTdi"
      },
      "execution_count": 9,
      "outputs": []
    },
    {
      "cell_type": "code",
      "source": [
        "train_samples = preprocess_text_with_linenumber(data_dir + \"train.txt\")\n",
        "train_samples[:20]"
      ],
      "metadata": {
        "colab": {
          "base_uri": "https://localhost:8080/"
        },
        "id": "VbANbsCHvgRe",
        "outputId": "e3c29c53-2655-4389-9a35-a1563ab327bd"
      },
      "execution_count": 10,
      "outputs": [
        {
          "output_type": "execute_result",
          "data": {
            "text/plain": [
              "[{'target': 'OBJECTIVE',\n",
              "  'text': 'To investigate the efficacy of @ weeks of daily low-dose oral prednisolone in improving pain , mobility , and systemic low-grade inflammation in the short term and whether the effect would be sustained at @ weeks in older adults with moderate to severe knee osteoarthritis ( OA ) .',\n",
              "  'line_number': 0,\n",
              "  'total_number_of_lines': 11},\n",
              " {'target': 'METHODS',\n",
              "  'text': 'A total of @ patients with primary knee OA were randomized @:@ ; @ received @ mg/day of prednisolone and @ received placebo for @ weeks .',\n",
              "  'line_number': 1,\n",
              "  'total_number_of_lines': 11},\n",
              " {'target': 'METHODS',\n",
              "  'text': 'Outcome measures included pain reduction and improvement in function scores and systemic inflammation markers .',\n",
              "  'line_number': 2,\n",
              "  'total_number_of_lines': 11},\n",
              " {'target': 'METHODS',\n",
              "  'text': 'Pain was assessed using the visual analog pain scale ( @-@ mm ) .',\n",
              "  'line_number': 3,\n",
              "  'total_number_of_lines': 11},\n",
              " {'target': 'METHODS',\n",
              "  'text': 'Secondary outcome measures included the Western Ontario and McMaster Universities Osteoarthritis Index scores , patient global assessment ( PGA ) of the severity of knee OA , and @-min walk distance ( @MWD ) .',\n",
              "  'line_number': 4,\n",
              "  'total_number_of_lines': 11},\n",
              " {'target': 'METHODS',\n",
              "  'text': 'Serum levels of interleukin @ ( IL-@ ) , IL-@ , tumor necrosis factor ( TNF ) - , and high-sensitivity C-reactive protein ( hsCRP ) were measured .',\n",
              "  'line_number': 5,\n",
              "  'total_number_of_lines': 11},\n",
              " {'target': 'RESULTS',\n",
              "  'text': 'There was a clinically relevant reduction in the intervention group compared to the placebo group for knee pain , physical function , PGA , and @MWD at @ weeks .',\n",
              "  'line_number': 6,\n",
              "  'total_number_of_lines': 11},\n",
              " {'target': 'RESULTS',\n",
              "  'text': 'The mean difference between treatment arms ( @ % CI ) was @ ( @-@ @ ) , p < @ ; @ ( @-@ @ ) , p < @ ; @ ( @-@ @ ) , p < @ ; and @ ( @-@ @ ) , p < @ , respectively .',\n",
              "  'line_number': 7,\n",
              "  'total_number_of_lines': 11},\n",
              " {'target': 'RESULTS',\n",
              "  'text': 'Further , there was a clinically relevant reduction in the serum levels of IL-@ , IL-@ , TNF - , and hsCRP at @ weeks in the intervention group when compared to the placebo group .',\n",
              "  'line_number': 8,\n",
              "  'total_number_of_lines': 11},\n",
              " {'target': 'RESULTS',\n",
              "  'text': 'These differences remained significant at @ weeks .',\n",
              "  'line_number': 9,\n",
              "  'total_number_of_lines': 11},\n",
              " {'target': 'RESULTS',\n",
              "  'text': 'The Outcome Measures in Rheumatology Clinical Trials-Osteoarthritis Research Society International responder rate was @ % in the intervention group and @ % in the placebo group ( p < @ ) .',\n",
              "  'line_number': 10,\n",
              "  'total_number_of_lines': 11},\n",
              " {'target': 'CONCLUSIONS',\n",
              "  'text': 'Low-dose oral prednisolone had both a short-term and a longer sustained effect resulting in less knee pain , better physical function , and attenuation of systemic inflammation in older patients with knee OA ( ClinicalTrials.gov identifier NCT@ ) .',\n",
              "  'line_number': 11,\n",
              "  'total_number_of_lines': 11},\n",
              " {'target': 'BACKGROUND',\n",
              "  'text': 'Emotional eating is associated with overeating and the development of obesity .',\n",
              "  'line_number': 0,\n",
              "  'total_number_of_lines': 10},\n",
              " {'target': 'BACKGROUND',\n",
              "  'text': 'Yet , empirical evidence for individual ( trait ) differences in emotional eating and cognitive mechanisms that contribute to eating during sad mood remain equivocal .',\n",
              "  'line_number': 1,\n",
              "  'total_number_of_lines': 10},\n",
              " {'target': 'OBJECTIVE',\n",
              "  'text': 'The aim of this study was to test if attention bias for food moderates the effect of self-reported emotional eating during sad mood ( vs neutral mood ) on actual food intake .',\n",
              "  'line_number': 2,\n",
              "  'total_number_of_lines': 10},\n",
              " {'target': 'OBJECTIVE',\n",
              "  'text': 'It was expected that emotional eating is predictive of elevated attention for food and higher food intake after an experimentally induced sad mood and that attentional maintenance on food predicts food intake during a sad versus a neutral mood .',\n",
              "  'line_number': 3,\n",
              "  'total_number_of_lines': 10},\n",
              " {'target': 'METHODS',\n",
              "  'text': 'Participants ( N = @ ) were randomly assigned to one of the two experimental mood induction conditions ( sad/neutral ) .',\n",
              "  'line_number': 4,\n",
              "  'total_number_of_lines': 10},\n",
              " {'target': 'METHODS',\n",
              "  'text': 'Attentional biases for high caloric foods were measured by eye tracking during a visual probe task with pictorial food and neutral stimuli .',\n",
              "  'line_number': 5,\n",
              "  'total_number_of_lines': 10},\n",
              " {'target': 'METHODS',\n",
              "  'text': 'Self-reported emotional eating was assessed with the Dutch Eating Behavior Questionnaire ( DEBQ ) and ad libitum food intake was tested by a disguised food offer .',\n",
              "  'line_number': 6,\n",
              "  'total_number_of_lines': 10},\n",
              " {'target': 'RESULTS',\n",
              "  'text': 'Hierarchical multivariate regression modeling showed that self-reported emotional eating did not account for changes in attention allocation for food or food intake in either condition .',\n",
              "  'line_number': 7,\n",
              "  'total_number_of_lines': 10}]"
            ]
          },
          "metadata": {},
          "execution_count": 10
        }
      ]
    },
    {
      "cell_type": "code",
      "source": [
        "# Get data from file and preprocess it\n",
        "%%time\n",
        "val_samples = preprocess_text_with_linenumber(data_dir + \"dev.txt\") \n",
        "test_samples = preprocess_text_with_linenumber(data_dir + \"test.txt\")\n",
        "len(train_samples), len(val_samples), len(test_samples)"
      ],
      "metadata": {
        "colab": {
          "base_uri": "https://localhost:8080/"
        },
        "id": "MxnizvIOxTtN",
        "outputId": "df84a8da-8b67-4a61-8a7d-bec667634841"
      },
      "execution_count": 11,
      "outputs": [
        {
          "output_type": "stream",
          "name": "stdout",
          "text": [
            "CPU times: user 147 ms, sys: 18.3 ms, total: 166 ms\n",
            "Wall time: 219 ms\n"
          ]
        },
        {
          "output_type": "execute_result",
          "data": {
            "text/plain": [
              "(180040, 30212, 30135)"
            ]
          },
          "metadata": {},
          "execution_count": 11
        }
      ]
    },
    {
      "cell_type": "code",
      "source": [
        "import pandas as pd\n",
        "train_df=pd.DataFrame(train_samples)\n",
        "test_df=pd.DataFrame(test_samples)\n",
        "val_df=pd.DataFrame(val_samples)\n",
        "train_df.head(10)\n"
      ],
      "metadata": {
        "id": "cdxanng4xoYc",
        "colab": {
          "base_uri": "https://localhost:8080/",
          "height": 363
        },
        "outputId": "c37887ed-9c47-4b1e-beac-a44f9176aef5"
      },
      "execution_count": 12,
      "outputs": [
        {
          "output_type": "execute_result",
          "data": {
            "text/plain": [
              "      target                                               text  line_number  \\\n",
              "0  OBJECTIVE  To investigate the efficacy of @ weeks of dail...            0   \n",
              "1    METHODS  A total of @ patients with primary knee OA wer...            1   \n",
              "2    METHODS  Outcome measures included pain reduction and i...            2   \n",
              "3    METHODS  Pain was assessed using the visual analog pain...            3   \n",
              "4    METHODS  Secondary outcome measures included the Wester...            4   \n",
              "5    METHODS  Serum levels of interleukin @ ( IL-@ ) , IL-@ ...            5   \n",
              "6    RESULTS  There was a clinically relevant reduction in t...            6   \n",
              "7    RESULTS  The mean difference between treatment arms ( @...            7   \n",
              "8    RESULTS  Further , there was a clinically relevant redu...            8   \n",
              "9    RESULTS  These differences remained significant at @ we...            9   \n",
              "\n",
              "   total_number_of_lines  \n",
              "0                     11  \n",
              "1                     11  \n",
              "2                     11  \n",
              "3                     11  \n",
              "4                     11  \n",
              "5                     11  \n",
              "6                     11  \n",
              "7                     11  \n",
              "8                     11  \n",
              "9                     11  "
            ],
            "text/html": [
              "\n",
              "  <div id=\"df-a063e45f-f694-42d3-b5df-dcf23ca159b0\">\n",
              "    <div class=\"colab-df-container\">\n",
              "      <div>\n",
              "<style scoped>\n",
              "    .dataframe tbody tr th:only-of-type {\n",
              "        vertical-align: middle;\n",
              "    }\n",
              "\n",
              "    .dataframe tbody tr th {\n",
              "        vertical-align: top;\n",
              "    }\n",
              "\n",
              "    .dataframe thead th {\n",
              "        text-align: right;\n",
              "    }\n",
              "</style>\n",
              "<table border=\"1\" class=\"dataframe\">\n",
              "  <thead>\n",
              "    <tr style=\"text-align: right;\">\n",
              "      <th></th>\n",
              "      <th>target</th>\n",
              "      <th>text</th>\n",
              "      <th>line_number</th>\n",
              "      <th>total_number_of_lines</th>\n",
              "    </tr>\n",
              "  </thead>\n",
              "  <tbody>\n",
              "    <tr>\n",
              "      <th>0</th>\n",
              "      <td>OBJECTIVE</td>\n",
              "      <td>To investigate the efficacy of @ weeks of dail...</td>\n",
              "      <td>0</td>\n",
              "      <td>11</td>\n",
              "    </tr>\n",
              "    <tr>\n",
              "      <th>1</th>\n",
              "      <td>METHODS</td>\n",
              "      <td>A total of @ patients with primary knee OA wer...</td>\n",
              "      <td>1</td>\n",
              "      <td>11</td>\n",
              "    </tr>\n",
              "    <tr>\n",
              "      <th>2</th>\n",
              "      <td>METHODS</td>\n",
              "      <td>Outcome measures included pain reduction and i...</td>\n",
              "      <td>2</td>\n",
              "      <td>11</td>\n",
              "    </tr>\n",
              "    <tr>\n",
              "      <th>3</th>\n",
              "      <td>METHODS</td>\n",
              "      <td>Pain was assessed using the visual analog pain...</td>\n",
              "      <td>3</td>\n",
              "      <td>11</td>\n",
              "    </tr>\n",
              "    <tr>\n",
              "      <th>4</th>\n",
              "      <td>METHODS</td>\n",
              "      <td>Secondary outcome measures included the Wester...</td>\n",
              "      <td>4</td>\n",
              "      <td>11</td>\n",
              "    </tr>\n",
              "    <tr>\n",
              "      <th>5</th>\n",
              "      <td>METHODS</td>\n",
              "      <td>Serum levels of interleukin @ ( IL-@ ) , IL-@ ...</td>\n",
              "      <td>5</td>\n",
              "      <td>11</td>\n",
              "    </tr>\n",
              "    <tr>\n",
              "      <th>6</th>\n",
              "      <td>RESULTS</td>\n",
              "      <td>There was a clinically relevant reduction in t...</td>\n",
              "      <td>6</td>\n",
              "      <td>11</td>\n",
              "    </tr>\n",
              "    <tr>\n",
              "      <th>7</th>\n",
              "      <td>RESULTS</td>\n",
              "      <td>The mean difference between treatment arms ( @...</td>\n",
              "      <td>7</td>\n",
              "      <td>11</td>\n",
              "    </tr>\n",
              "    <tr>\n",
              "      <th>8</th>\n",
              "      <td>RESULTS</td>\n",
              "      <td>Further , there was a clinically relevant redu...</td>\n",
              "      <td>8</td>\n",
              "      <td>11</td>\n",
              "    </tr>\n",
              "    <tr>\n",
              "      <th>9</th>\n",
              "      <td>RESULTS</td>\n",
              "      <td>These differences remained significant at @ we...</td>\n",
              "      <td>9</td>\n",
              "      <td>11</td>\n",
              "    </tr>\n",
              "  </tbody>\n",
              "</table>\n",
              "</div>\n",
              "      <button class=\"colab-df-convert\" onclick=\"convertToInteractive('df-a063e45f-f694-42d3-b5df-dcf23ca159b0')\"\n",
              "              title=\"Convert this dataframe to an interactive table.\"\n",
              "              style=\"display:none;\">\n",
              "        \n",
              "  <svg xmlns=\"http://www.w3.org/2000/svg\" height=\"24px\"viewBox=\"0 0 24 24\"\n",
              "       width=\"24px\">\n",
              "    <path d=\"M0 0h24v24H0V0z\" fill=\"none\"/>\n",
              "    <path d=\"M18.56 5.44l.94 2.06.94-2.06 2.06-.94-2.06-.94-.94-2.06-.94 2.06-2.06.94zm-11 1L8.5 8.5l.94-2.06 2.06-.94-2.06-.94L8.5 2.5l-.94 2.06-2.06.94zm10 10l.94 2.06.94-2.06 2.06-.94-2.06-.94-.94-2.06-.94 2.06-2.06.94z\"/><path d=\"M17.41 7.96l-1.37-1.37c-.4-.4-.92-.59-1.43-.59-.52 0-1.04.2-1.43.59L10.3 9.45l-7.72 7.72c-.78.78-.78 2.05 0 2.83L4 21.41c.39.39.9.59 1.41.59.51 0 1.02-.2 1.41-.59l7.78-7.78 2.81-2.81c.8-.78.8-2.07 0-2.86zM5.41 20L4 18.59l7.72-7.72 1.47 1.35L5.41 20z\"/>\n",
              "  </svg>\n",
              "      </button>\n",
              "      \n",
              "  <style>\n",
              "    .colab-df-container {\n",
              "      display:flex;\n",
              "      flex-wrap:wrap;\n",
              "      gap: 12px;\n",
              "    }\n",
              "\n",
              "    .colab-df-convert {\n",
              "      background-color: #E8F0FE;\n",
              "      border: none;\n",
              "      border-radius: 50%;\n",
              "      cursor: pointer;\n",
              "      display: none;\n",
              "      fill: #1967D2;\n",
              "      height: 32px;\n",
              "      padding: 0 0 0 0;\n",
              "      width: 32px;\n",
              "    }\n",
              "\n",
              "    .colab-df-convert:hover {\n",
              "      background-color: #E2EBFA;\n",
              "      box-shadow: 0px 1px 2px rgba(60, 64, 67, 0.3), 0px 1px 3px 1px rgba(60, 64, 67, 0.15);\n",
              "      fill: #174EA6;\n",
              "    }\n",
              "\n",
              "    [theme=dark] .colab-df-convert {\n",
              "      background-color: #3B4455;\n",
              "      fill: #D2E3FC;\n",
              "    }\n",
              "\n",
              "    [theme=dark] .colab-df-convert:hover {\n",
              "      background-color: #434B5C;\n",
              "      box-shadow: 0px 1px 3px 1px rgba(0, 0, 0, 0.15);\n",
              "      filter: drop-shadow(0px 1px 2px rgba(0, 0, 0, 0.3));\n",
              "      fill: #FFFFFF;\n",
              "    }\n",
              "  </style>\n",
              "\n",
              "      <script>\n",
              "        const buttonEl =\n",
              "          document.querySelector('#df-a063e45f-f694-42d3-b5df-dcf23ca159b0 button.colab-df-convert');\n",
              "        buttonEl.style.display =\n",
              "          google.colab.kernel.accessAllowed ? 'block' : 'none';\n",
              "\n",
              "        async function convertToInteractive(key) {\n",
              "          const element = document.querySelector('#df-a063e45f-f694-42d3-b5df-dcf23ca159b0');\n",
              "          const dataTable =\n",
              "            await google.colab.kernel.invokeFunction('convertToInteractive',\n",
              "                                                     [key], {});\n",
              "          if (!dataTable) return;\n",
              "\n",
              "          const docLinkHtml = 'Like what you see? Visit the ' +\n",
              "            '<a target=\"_blank\" href=https://colab.research.google.com/notebooks/data_table.ipynb>data table notebook</a>'\n",
              "            + ' to learn more about interactive tables.';\n",
              "          element.innerHTML = '';\n",
              "          dataTable['output_type'] = 'display_data';\n",
              "          await google.colab.output.renderOutput(dataTable, element);\n",
              "          const docLink = document.createElement('div');\n",
              "          docLink.innerHTML = docLinkHtml;\n",
              "          element.appendChild(docLink);\n",
              "        }\n",
              "      </script>\n",
              "    </div>\n",
              "  </div>\n",
              "  "
            ]
          },
          "metadata": {},
          "execution_count": 12
        }
      ]
    },
    {
      "cell_type": "code",
      "source": [
        "# Distribution of labels in training data\n",
        "train_df.target.value_counts()"
      ],
      "metadata": {
        "colab": {
          "base_uri": "https://localhost:8080/"
        },
        "id": "U2QNKEt5FRds",
        "outputId": "faddbb1a-34e9-49dd-da2e-c5a98c8b9e98"
      },
      "execution_count": 13,
      "outputs": [
        {
          "output_type": "execute_result",
          "data": {
            "text/plain": [
              "METHODS        59353\n",
              "RESULTS        57953\n",
              "CONCLUSIONS    27168\n",
              "BACKGROUND     21727\n",
              "OBJECTIVE      13839\n",
              "Name: target, dtype: int64"
            ]
          },
          "metadata": {},
          "execution_count": 13
        }
      ]
    },
    {
      "cell_type": "code",
      "source": [
        "test_df.target.value_counts()"
      ],
      "metadata": {
        "colab": {
          "base_uri": "https://localhost:8080/"
        },
        "id": "hXU6pINQFXxl",
        "outputId": "b4802ff0-cb95-4a67-b81d-57b302ace478"
      },
      "execution_count": 14,
      "outputs": [
        {
          "output_type": "execute_result",
          "data": {
            "text/plain": [
              "METHODS        9897\n",
              "RESULTS        9713\n",
              "CONCLUSIONS    4571\n",
              "BACKGROUND     3621\n",
              "OBJECTIVE      2333\n",
              "Name: target, dtype: int64"
            ]
          },
          "metadata": {},
          "execution_count": 14
        }
      ]
    },
    {
      "cell_type": "code",
      "source": [
        "train_df.total_number_of_lines.plot.hist(bins=14)"
      ],
      "metadata": {
        "colab": {
          "base_uri": "https://localhost:8080/",
          "height": 283
        },
        "id": "KfiUkEJEF67V",
        "outputId": "3dd8c157-a53e-400b-8f8c-5652b3c64637"
      },
      "execution_count": 15,
      "outputs": [
        {
          "output_type": "execute_result",
          "data": {
            "text/plain": [
              "<matplotlib.axes._subplots.AxesSubplot at 0x7fc5af957670>"
            ]
          },
          "metadata": {},
          "execution_count": 15
        },
        {
          "output_type": "display_data",
          "data": {
            "text/plain": [
              "<Figure size 432x288 with 1 Axes>"
            ],
            "image/png": "[encoded data removed]"
          },
          "metadata": {
            "needs_background": "light"
          }
        }
      ]
    },
    {
      "cell_type": "code",
      "source": [
        "\n",
        "# Convert abstract text lines into lists \n",
        "train_sentences = train_df[\"text\"].tolist()\n",
        "val_sentences = val_df[\"text\"].tolist()\n",
        "test_sentences = test_df[\"text\"].tolist()\n",
        "len(train_sentences), len(val_sentences), len(test_sentences)"
      ],
      "metadata": {
        "colab": {
          "base_uri": "https://localhost:8080/"
        },
        "id": "PgC_JljbHUqM",
        "outputId": "aeb568cf-7c37-480f-9a10-c3df0a5bc16c"
      },
      "execution_count": 16,
      "outputs": [
        {
          "output_type": "execute_result",
          "data": {
            "text/plain": [
              "(180040, 30212, 30135)"
            ]
          },
          "metadata": {},
          "execution_count": 16
        }
      ]
    },
    {
      "cell_type": "code",
      "source": [
        "train_sentences[:10]"
      ],
      "metadata": {
        "colab": {
          "base_uri": "https://localhost:8080/"
        },
        "id": "WO4dcTXGHX3b",
        "outputId": "4dd746f4-1e55-4d18-d46b-f3bd39b00ace"
      },
      "execution_count": 17,
      "outputs": [
        {
          "output_type": "execute_result",
          "data": {
            "text/plain": [
              "['To investigate the efficacy of @ weeks of daily low-dose oral prednisolone in improving pain , mobility , and systemic low-grade inflammation in the short term and whether the effect would be sustained at @ weeks in older adults with moderate to severe knee osteoarthritis ( OA ) .',\n",
              " 'A total of @ patients with primary knee OA were randomized @:@ ; @ received @ mg/day of prednisolone and @ received placebo for @ weeks .',\n",
              " 'Outcome measures included pain reduction and improvement in function scores and systemic inflammation markers .',\n",
              " 'Pain was assessed using the visual analog pain scale ( @-@ mm ) .',\n",
              " 'Secondary outcome measures included the Western Ontario and McMaster Universities Osteoarthritis Index scores , patient global assessment ( PGA ) of the severity of knee OA , and @-min walk distance ( @MWD ) .',\n",
              " 'Serum levels of interleukin @ ( IL-@ ) , IL-@ , tumor necrosis factor ( TNF ) - , and high-sensitivity C-reactive protein ( hsCRP ) were measured .',\n",
              " 'There was a clinically relevant reduction in the intervention group compared to the placebo group for knee pain , physical function , PGA , and @MWD at @ weeks .',\n",
              " 'The mean difference between treatment arms ( @ % CI ) was @ ( @-@ @ ) , p < @ ; @ ( @-@ @ ) , p < @ ; @ ( @-@ @ ) , p < @ ; and @ ( @-@ @ ) , p < @ , respectively .',\n",
              " 'Further , there was a clinically relevant reduction in the serum levels of IL-@ , IL-@ , TNF - , and hsCRP at @ weeks in the intervention group when compared to the placebo group .',\n",
              " 'These differences remained significant at @ weeks .']"
            ]
          },
          "metadata": {},
          "execution_count": 17
        }
      ]
    },
    {
      "cell_type": "code",
      "source": [
        "# one hot encoding the labels \n",
        "from sklearn.preprocessing  import OneHotEncoder\n",
        "one_hot_encoder=OneHotEncoder(sparse=False)\n",
        "train_labels_one_hot=one_hot_encoder.fit_transform(train_df['target'].to_numpy().reshape(-1,1))\n",
        "val_labels_one_hot=one_hot_encoder.fit_transform(val_df['target'].to_numpy().reshape(-1,1))\n",
        "test_labes_one_hot=one_hot_encoder.fit_transform(test_df['target'].to_numpy().reshape(-1,1))\n",
        "train_labels_one_hot"
      ],
      "metadata": {
        "colab": {
          "base_uri": "https://localhost:8080/"
        },
        "id": "Ei3jGLUfHfE0",
        "outputId": "56f7b4d1-1602-489e-8fb4-533c6a3aa2b3"
      },
      "execution_count": 18,
      "outputs": [
        {
          "output_type": "execute_result",
          "data": {
            "text/plain": [
              "array([[0., 0., 0., 1., 0.],\n",
              "       [0., 0., 1., 0., 0.],\n",
              "       [0., 0., 1., 0., 0.],\n",
              "       ...,\n",
              "       [0., 0., 0., 0., 1.],\n",
              "       [0., 1., 0., 0., 0.],\n",
              "       [0., 1., 0., 0., 0.]])"
            ]
          },
          "metadata": {},
          "execution_count": 18
        }
      ]
    },
    {
      "cell_type": "code",
      "source": [
        "#label encoding\n",
        "from sklearn.preprocessing import LabelEncoder\n",
        "label_encoder=LabelEncoder()\n",
        "train_labels_encoded=label_encoder.fit_transform(train_df['target'].to_numpy())\n",
        "val_labels_encoded=label_encoder.fit_transform(val_df['target'].to_numpy())\n",
        "test_labels_encoded=label_encoder.fit_transform(test_df['target'].to_numpy())\n",
        "\n",
        "train_labels_encoded[:10]\n"
      ],
      "metadata": {
        "colab": {
          "base_uri": "https://localhost:8080/"
        },
        "id": "DUHcJSrNMTu2",
        "outputId": "161d4e21-d901-48b9-b1ba-2f658c12e5bd"
      },
      "execution_count": 19,
      "outputs": [
        {
          "output_type": "execute_result",
          "data": {
            "text/plain": [
              "array([3, 2, 2, 2, 2, 2, 4, 4, 4, 4])"
            ]
          },
          "metadata": {},
          "execution_count": 19
        }
      ]
    },
    {
      "cell_type": "code",
      "source": [
        "#getting class names and its length\n",
        "num_classes=len(label_encoder.classes_)\n",
        "class_names=label_encoder.classes_\n",
        "num_classes,class_names"
      ],
      "metadata": {
        "colab": {
          "base_uri": "https://localhost:8080/"
        },
        "id": "VhTcWgClQOmk",
        "outputId": "5ca895a6-2031-4310-ceab-698b720eae69"
      },
      "execution_count": 20,
      "outputs": [
        {
          "output_type": "execute_result",
          "data": {
            "text/plain": [
              "(5, array(['BACKGROUND', 'CONCLUSIONS', 'METHODS', 'OBJECTIVE', 'RESULTS'],\n",
              "       dtype=object))"
            ]
          },
          "metadata": {},
          "execution_count": 20
        }
      ]
    },
    {
      "cell_type": "markdown",
      "source": [
        "# MODEL:0 Baseline model"
      ],
      "metadata": {
        "id": "ffv_kfwUQyqS"
      }
    },
    {
      "cell_type": "code",
      "source": [
        "from sklearn.feature_extraction.text import TfidfVectorizer\n",
        "from sklearn.naive_bayes import MultinomialNB\n",
        "from sklearn.pipeline import Pipeline\n",
        "\n",
        "model_0=Pipeline([\n",
        "    ('tf-idf',TfidfVectorizer()),\n",
        "    ('clf',MultinomialNB())\n",
        "])\n",
        "\n",
        "model_0.fit(X=train_sentences,y=train_labels_encoded);"
      ],
      "metadata": {
        "id": "jZuMiwkcQo6O"
      },
      "execution_count": 21,
      "outputs": []
    },
    {
      "cell_type": "code",
      "source": [
        "\n",
        "# Evaluate baseline on validation dataset\n",
        "model_0.score(X=val_sentences,\n",
        "              y=val_labels_encoded)"
      ],
      "metadata": {
        "colab": {
          "base_uri": "https://localhost:8080/"
        },
        "id": "9FbE-5PWTSSq",
        "outputId": "e2362f12-7e28-4936-bc6a-ac59010246ed"
      },
      "execution_count": 22,
      "outputs": [
        {
          "output_type": "execute_result",
          "data": {
            "text/plain": [
              "0.7218323844829869"
            ]
          },
          "metadata": {},
          "execution_count": 22
        }
      ]
    },
    {
      "cell_type": "code",
      "source": [
        "#making predictions\n",
        "baseline_preds=model_0.predict(val_sentences)\n",
        "baseline_preds"
      ],
      "metadata": {
        "colab": {
          "base_uri": "https://localhost:8080/"
        },
        "id": "zC_I6sgsTE50",
        "outputId": "c7d1b96f-0551-4c3e-95a7-57e43f61906e"
      },
      "execution_count": 23,
      "outputs": [
        {
          "output_type": "execute_result",
          "data": {
            "text/plain": [
              "array([4, 1, 3, ..., 4, 4, 1])"
            ]
          },
          "metadata": {},
          "execution_count": 23
        }
      ]
    },
    {
      "cell_type": "code",
      "source": [
        "from sklearn.metrics import accuracy_score,precision_recall_fscore_support\n",
        "\n",
        "def calculate_results(y_true,y_pred):\n",
        "  model_accuracy=accuracy_score(y_true,y_pred)*100\n",
        "  model_precision,model_recall,model_f1,_=precision_recall_fscore_support(y_true,y_pred,average='weighted')\n",
        "  model_results={'accuracy': model_accuracy,\n",
        "                 'precison': model_precision,\n",
        "                 'recall': model_recall,\n",
        "                 'f1 score':model_f1}\n",
        "\n",
        "  return model_results"
      ],
      "metadata": {
        "id": "bnnoG9E8UZ1z"
      },
      "execution_count": 24,
      "outputs": []
    },
    {
      "cell_type": "code",
      "source": [
        "\n",
        "# Calculate baseline results\n",
        "baseline_results = calculate_results(y_true=val_labels_encoded,\n",
        "                                     y_pred=baseline_preds)\n",
        "baseline_results"
      ],
      "metadata": {
        "colab": {
          "base_uri": "https://localhost:8080/"
        },
        "id": "B4nIX1q1UcLD",
        "outputId": "bac6cc9b-f4bf-4807-950c-2b9cbde46c60"
      },
      "execution_count": 25,
      "outputs": [
        {
          "output_type": "execute_result",
          "data": {
            "text/plain": [
              "{'accuracy': 72.1832384482987,\n",
              " 'precison': 0.7186466952323352,\n",
              " 'recall': 0.7218323844829869,\n",
              " 'f1 score': 0.6989250353450294}"
            ]
          },
          "metadata": {},
          "execution_count": 25
        }
      ]
    },
    {
      "cell_type": "markdown",
      "source": [
        "##preparing datasets for DL models:"
      ],
      "metadata": {
        "id": "jLUHAhTc06B7"
      }
    },
    {
      "cell_type": "code",
      "source": [
        "# importing necessary libraries for the process;\n",
        "import tensorflow as tf\n",
        "import numpy as np\n",
        "import pandas as pd\n",
        "from tensorflow.keras import layers\n",
        "import matplotlib.pyplot as plt\n"
      ],
      "metadata": {
        "id": "Cp0QDLaSbPCs"
      },
      "execution_count": 26,
      "outputs": []
    },
    {
      "cell_type": "code",
      "source": [
        "# finding the average sentance length \n",
        "sent_length=[len(sentance.split())for sentance in train_sentences]\n",
        "avg_length=np.mean(sent_length)\n",
        "avg_length"
      ],
      "metadata": {
        "colab": {
          "base_uri": "https://localhost:8080/"
        },
        "id": "OeaqEjnD1v_n",
        "outputId": "b56c2d19-10d1-4053-afa7-460d1f42be8b"
      },
      "execution_count": 27,
      "outputs": [
        {
          "output_type": "execute_result",
          "data": {
            "text/plain": [
              "26.338269273494777"
            ]
          },
          "metadata": {},
          "execution_count": 27
        }
      ]
    },
    {
      "cell_type": "code",
      "source": [
        "# finding the ditribution of the sentemce length\n",
        "plt.hist(sent_length,bins=8);"
      ],
      "metadata": {
        "colab": {
          "base_uri": "https://localhost:8080/",
          "height": 265
        },
        "id": "UaSRS38J3asj",
        "outputId": "c8c8c634-7e9e-421e-8381-7c521bb8678f"
      },
      "execution_count": 28,
      "outputs": [
        {
          "output_type": "display_data",
          "data": {
            "text/plain": [
              "<Figure size 432x288 with 1 Axes>"
            ],
            "image/png": "[encoded data removed]"
          },
          "metadata": {
            "needs_background": "light"
          }
        }
      ]
    },
    {
      "cell_type": "code",
      "source": [
        "output_seq_length=int(np.percentile(sent_length,95))\n",
        "output_seq_length"
      ],
      "metadata": {
        "colab": {
          "base_uri": "https://localhost:8080/"
        },
        "id": "1GYJRpMl4AmV",
        "outputId": "1fa33ff2-df5f-412a-efb3-4ac8d695b4f8"
      },
      "execution_count": 29,
      "outputs": [
        {
          "output_type": "execute_result",
          "data": {
            "text/plain": [
              "55"
            ]
          },
          "metadata": {},
          "execution_count": 29
        }
      ]
    },
    {
      "cell_type": "code",
      "source": [
        "max(sent_length)"
      ],
      "metadata": {
        "colab": {
          "base_uri": "https://localhost:8080/"
        },
        "id": "8orX1oA55wjM",
        "outputId": "f8e8d5cc-17bc-4037-fbca-634db5554d43"
      },
      "execution_count": 30,
      "outputs": [
        {
          "output_type": "execute_result",
          "data": {
            "text/plain": [
              "296"
            ]
          },
          "metadata": {},
          "execution_count": 30
        }
      ]
    },
    {
      "cell_type": "code",
      "source": [
        "#creating textvectoriser layers\n",
        "max_tokens=68000 # vocabulary size of pubmed 20k\n",
        "\n",
        "# Create text vectorizer\n",
        "from tensorflow.keras.layers import TextVectorization\n",
        "text_vectorizer=TextVectorization(max_tokens=max_tokens,\n",
        "                               output_sequence_length=55)\n"
      ],
      "metadata": {
        "id": "y2tOyH4B5z4W"
      },
      "execution_count": 31,
      "outputs": []
    },
    {
      "cell_type": "code",
      "source": [
        "\n",
        "\n",
        "# Adapt text vectorizer to training sentences\n",
        "text_vectorizer.adapt(train_sentences)"
      ],
      "metadata": {
        "id": "8ag194xpLbsC"
      },
      "execution_count": 32,
      "outputs": []
    },
    {
      "cell_type": "code",
      "source": [
        "import random\n",
        "random_sentence=random.choice(test_sentences)\n",
        "print(f'text:\\n {random_sentence}')\n",
        "print(f'\\n length of sentence : {len(random_sentence.split())}')\n",
        "print(f\"\\nVectorized text:\\n{text_vectorizer([random_sentence])}\")"
      ],
      "metadata": {
        "colab": {
          "base_uri": "https://localhost:8080/"
        },
        "id": "D4yeRDotMCZq",
        "outputId": "23826b28-0e89-45b0-b140-f102117c6489"
      },
      "execution_count": 33,
      "outputs": [
        {
          "output_type": "stream",
          "name": "stdout",
          "text": [
            "text:\n",
            " HbA@c predicted incident diabetes .\n",
            "\n",
            " length of sentence : 5\n",
            "\n",
            "Vectorized text:\n",
            "[[ 615  830 1959  223    0    0    0    0    0    0    0    0    0    0\n",
            "     0    0    0    0    0    0    0    0    0    0    0    0    0    0\n",
            "     0    0    0    0    0    0    0    0    0    0    0    0    0    0\n",
            "     0    0    0    0    0    0    0    0    0    0    0    0    0]]\n"
          ]
        }
      ]
    },
    {
      "cell_type": "code",
      "source": [
        "# How many words in our training vocabulary?\n",
        "rct_20k_text_vocab = text_vectorizer.get_vocabulary()\n",
        "print(f\"Number of words in vocabulary: {len(rct_20k_text_vocab)}\"), \n",
        "print(f\"Most common words in the vocabulary: {rct_20k_text_vocab[:10]}\")\n",
        "print(f\"Least common words in the vocabulary: {rct_20k_text_vocab[-10:]}\")"
      ],
      "metadata": {
        "colab": {
          "base_uri": "https://localhost:8080/"
        },
        "id": "YFTIqMzRONb8",
        "outputId": "9544e31d-54c8-4d1b-def0-477ff17b9d73"
      },
      "execution_count": 34,
      "outputs": [
        {
          "output_type": "stream",
          "name": "stdout",
          "text": [
            "Number of words in vocabulary: 64841\n",
            "Most common words in the vocabulary: ['', '[UNK]', 'the', 'and', 'of', 'in', 'to', 'with', 'a', 'were']\n",
            "Least common words in the vocabulary: ['aarm', 'aaqol', 'aaq', 'aanhui', 'aana', 'aainduced', 'aaigroup', 'aachener', 'aachen', 'aaacp']\n"
          ]
        }
      ]
    },
    {
      "cell_type": "markdown",
      "source": [
        "## Creating a coustom text embedding"
      ],
      "metadata": {
        "id": "eC7VpJY3O6PB"
      }
    },
    {
      "cell_type": "code",
      "source": [
        "token_embedding=layers.Embedding(input_dim=len(rct_20k_text_vocab),\n",
        "                                 output_dim=256,\n",
        "                                 mask_zero=True,\n",
        "                                 name='tkn_embedding')"
      ],
      "metadata": {
        "id": "2JKZeh6COyoZ"
      },
      "execution_count": 35,
      "outputs": []
    },
    {
      "cell_type": "code",
      "source": [
        "# Show example embedding\n",
        "print(f\"Sentence before vectorization:\\n{random_sentence}\\n\")\n",
        "vectorized_sentence = text_vectorizer([random_sentence])\n",
        "print(f\"Sentence after vectorization (before embedding):\\n{vectorized_sentence}\\n\")\n",
        "embedded_sentence = token_embedding(vectorized_sentence)\n",
        "print(f\"Sentence after embedding:\\n{embedded_sentence}\\n\")\n",
        "print(f\"Embedded sentence shape: {embedded_sentence.shape}\")"
      ],
      "metadata": {
        "colab": {
          "base_uri": "https://localhost:8080/"
        },
        "id": "DVG1_krgSCEC",
        "outputId": "a4579429-4703-41c2-c837-5f88592fc870"
      },
      "execution_count": 36,
      "outputs": [
        {
          "output_type": "stream",
          "name": "stdout",
          "text": [
            "Sentence before vectorization:\n",
            "HbA@c predicted incident diabetes .\n",
            "\n",
            "Sentence after vectorization (before embedding):\n",
            "[[ 615  830 1959  223    0    0    0    0    0    0    0    0    0    0\n",
            "     0    0    0    0    0    0    0    0    0    0    0    0    0    0\n",
            "     0    0    0    0    0    0    0    0    0    0    0    0    0    0\n",
            "     0    0    0    0    0    0    0    0    0    0    0    0    0]]\n",
            "\n",
            "Sentence after embedding:\n",
            "[[[-0.01543163 -0.04310838 -0.03288016 ...  0.01162178 -0.00314282\n",
            "    0.00769762]\n",
            "  [-0.02897182  0.00126554  0.04983903 ... -0.04222799  0.0412941\n",
            "   -0.01885979]\n",
            "  [-0.03601081 -0.0115069   0.0053718  ...  0.01722449 -0.03135728\n",
            "   -0.04280579]\n",
            "  ...\n",
            "  [ 0.03784006 -0.02228273 -0.01575689 ...  0.04930656  0.00076063\n",
            "    0.01381648]\n",
            "  [ 0.03784006 -0.02228273 -0.01575689 ...  0.04930656  0.00076063\n",
            "    0.01381648]\n",
            "  [ 0.03784006 -0.02228273 -0.01575689 ...  0.04930656  0.00076063\n",
            "    0.01381648]]]\n",
            "\n",
            "Embedded sentence shape: (1, 55, 256)\n"
          ]
        }
      ]
    },
    {
      "cell_type": "code",
      "source": [
        "# turining datasets into tesorflow datasets\n",
        "train_datasets=tf.data.Dataset.from_tensor_slices((train_sentences,train_labels_one_hot))\n",
        "valid_datasets=tf.data.Dataset.from_tensor_slices((val_sentences,val_labels_one_hot))\n",
        "test_dataset = tf.data.Dataset.from_tensor_slices((test_sentences, test_labes_one_hot))\n",
        "\n",
        "train_datasets\n",
        "     "
      ],
      "metadata": {
        "colab": {
          "base_uri": "https://localhost:8080/"
        },
        "id": "HoSJRLYgTx9C",
        "outputId": "e49321d5-78fe-4e22-923f-39c74f8c14e3"
      },
      "execution_count": 37,
      "outputs": [
        {
          "output_type": "execute_result",
          "data": {
            "text/plain": [
              "<TensorSliceDataset element_spec=(TensorSpec(shape=(), dtype=tf.string, name=None), TensorSpec(shape=(5,), dtype=tf.float64, name=None))>"
            ]
          },
          "metadata": {},
          "execution_count": 37
        }
      ]
    },
    {
      "cell_type": "code",
      "source": [
        "# Take the TensorSliceDataset's and turn them into prefetched batches\n",
        "train_dataset = train_datasets.batch(32).prefetch(tf.data.AUTOTUNE)\n",
        "valid_dataset = valid_datasets.batch(32).prefetch(tf.data.AUTOTUNE)\n",
        "test_dataset = test_dataset.batch(32).prefetch(tf.data.AUTOTUNE)\n",
        "\n",
        "train_dataset"
      ],
      "metadata": {
        "colab": {
          "base_uri": "https://localhost:8080/"
        },
        "id": "ntaDjv46gFY6",
        "outputId": "15fc5155-8f87-4a52-9a99-85166e8a65c1"
      },
      "execution_count": 38,
      "outputs": [
        {
          "output_type": "execute_result",
          "data": {
            "text/plain": [
              "<PrefetchDataset element_spec=(TensorSpec(shape=(None,), dtype=tf.string, name=None), TensorSpec(shape=(None, 5), dtype=tf.float64, name=None))>"
            ]
          },
          "metadata": {},
          "execution_count": 38
        }
      ]
    },
    {
      "cell_type": "markdown",
      "source": [
        "# Model 1 -conV1D"
      ],
      "metadata": {
        "id": "xIQZNOHLwvhq"
      }
    },
    {
      "cell_type": "code",
      "source": [
        "inputs=layers.Input(shape=(1,),dtype=tf.string)\n",
        "text_vectors=text_vectorizer(inputs)\n",
        "token_embeddings=token_embedding(text_vectors)\n",
        "x=layers.Conv1D(64,kernel_size=5,padding='same',activation='relu')(token_embeddings)\n",
        "x=layers.Conv1D(64,kernel_size=5,padding='same',activation='relu')(x)\n",
        "x=layers.GlobalMaxPool1D()(x)\n",
        "outputs = layers.Dense(num_classes, activation=\"softmax\")(x)\n",
        "\n",
        "model_1=tf.keras.Model(inputs,outputs)\n",
        "\n",
        "#compiling\n",
        "model_1.compile(loss='categorical_crossentropy',\n",
        "                optimizer=tf.keras.optimizers.Adam(),\n",
        "                metrics=['accuracy'])"
      ],
      "metadata": {
        "id": "oM73ZhV_g82m"
      },
      "execution_count": 39,
      "outputs": []
    },
    {
      "cell_type": "code",
      "source": [
        "model_1.summary()"
      ],
      "metadata": {
        "colab": {
          "base_uri": "https://localhost:8080/"
        },
        "id": "xO7vt2hl0KBY",
        "outputId": "ebc1d128-0e65-4fc8-ab06-11c4b97f89fd"
      },
      "execution_count": 40,
      "outputs": [
        {
          "output_type": "stream",
          "name": "stdout",
          "text": [
            "Model: \"model\"\n",
            "_________________________________________________________________\n",
            " Layer (type)                Output Shape              Param #   \n",
            "=================================================================\n",
            " input_1 (InputLayer)        [(None, 1)]               0         \n",
            "                                                                 \n",
            " text_vectorization (TextVec  (None, 55)               0         \n",
            " torization)                                                     \n",
            "                                                                 \n",
            " tkn_embedding (Embedding)   (None, 55, 256)           16599296  \n",
            "                                                                 \n",
            " conv1d (Conv1D)             (None, 55, 64)            81984     \n",
            "                                                                 \n",
            " conv1d_1 (Conv1D)           (None, 55, 64)            20544     \n",
            "                                                                 \n",
            " global_max_pooling1d (Globa  (None, 64)               0         \n",
            " lMaxPooling1D)                                                  \n",
            "                                                                 \n",
            " dense (Dense)               (None, 5)                 325       \n",
            "                                                                 \n",
            "=================================================================\n",
            "Total params: 16,702,149\n",
            "Trainable params: 16,702,149\n",
            "Non-trainable params: 0\n",
            "_________________________________________________________________\n"
          ]
        }
      ]
    },
    {
      "cell_type": "code",
      "source": [
        "# Fit the model\n",
        "model_1_history = model_1.fit(train_dataset,\n",
        "                              steps_per_epoch=int(0.2 * len(train_dataset)), # only fit on 10% of batches for faster training time\n",
        "                              epochs=5,\n",
        "                              validation_data=valid_dataset,\n",
        "                              validation_steps=int(0.2 * len(valid_dataset))) \n"
      ],
      "metadata": {
        "colab": {
          "base_uri": "https://localhost:8080/"
        },
        "id": "0I20XyDj0q8n",
        "outputId": "cdd863a4-ba0b-4321-b710-0c0015fd1bcd"
      },
      "execution_count": 41,
      "outputs": [
        {
          "output_type": "stream",
          "name": "stdout",
          "text": [
            "Epoch 1/5\n",
            "1125/1125 [==============================] - 24s 14ms/step - loss: 0.6952 - accuracy: 0.7353 - val_loss: 0.5381 - val_accuracy: 0.7989\n",
            "Epoch 2/5\n",
            "1125/1125 [==============================] - 15s 13ms/step - loss: 0.5367 - accuracy: 0.8039 - val_loss: 0.5078 - val_accuracy: 0.8064\n",
            "Epoch 3/5\n",
            "1125/1125 [==============================] - 15s 13ms/step - loss: 0.5307 - accuracy: 0.8050 - val_loss: 0.4828 - val_accuracy: 0.8168\n",
            "Epoch 4/5\n",
            "1125/1125 [==============================] - 20s 18ms/step - loss: 0.4935 - accuracy: 0.8171 - val_loss: 0.4754 - val_accuracy: 0.8242\n",
            "Epoch 5/5\n",
            "1125/1125 [==============================] - 17s 15ms/step - loss: 0.4907 - accuracy: 0.8214 - val_loss: 0.4789 - val_accuracy: 0.8229\n"
          ]
        }
      ]
    },
    {
      "cell_type": "code",
      "source": [
        "model_1.evaluate(valid_dataset)"
      ],
      "metadata": {
        "colab": {
          "base_uri": "https://localhost:8080/"
        },
        "id": "I8bGG3e51IkG",
        "outputId": "ee42b728-36e5-47d7-cb93-0a6f9242cb0f"
      },
      "execution_count": 42,
      "outputs": [
        {
          "output_type": "stream",
          "name": "stdout",
          "text": [
            "945/945 [==============================] - 3s 3ms/step - loss: 0.4846 - accuracy: 0.8215\n"
          ]
        },
        {
          "output_type": "execute_result",
          "data": {
            "text/plain": [
              "[0.48460653424263, 0.8214947581291199]"
            ]
          },
          "metadata": {},
          "execution_count": 42
        }
      ]
    },
    {
      "cell_type": "code",
      "source": [
        "model_1_pred_probs=model_1.predict(valid_dataset)\n",
        "# Convert pred probs to classes\n",
        "model_1_preds = tf.argmax(model_1_pred_probs, axis=1)\n",
        "model_1_preds"
      ],
      "metadata": {
        "colab": {
          "base_uri": "https://localhost:8080/"
        },
        "id": "-OVRVKvk1TQ9",
        "outputId": "e21b95e1-4be7-4390-dc31-a674dc589d61"
      },
      "execution_count": 43,
      "outputs": [
        {
          "output_type": "stream",
          "name": "stdout",
          "text": [
            "945/945 [==============================] - 2s 2ms/step\n"
          ]
        },
        {
          "output_type": "execute_result",
          "data": {
            "text/plain": [
              "<tf.Tensor: shape=(30212,), dtype=int64, numpy=array([0, 0, 3, ..., 4, 4, 1])>"
            ]
          },
          "metadata": {},
          "execution_count": 43
        }
      ]
    },
    {
      "cell_type": "code",
      "source": [
        "model_1_results=calculate_results(y_true=val_labels_encoded,\n",
        "                                  y_pred=model_1_preds)\n",
        "model_1_results"
      ],
      "metadata": {
        "colab": {
          "base_uri": "https://localhost:8080/"
        },
        "id": "dV-tyfXZ1mHl",
        "outputId": "80d9a7e2-f8fe-4f5b-d0d5-95a852c4f2dd"
      },
      "execution_count": 44,
      "outputs": [
        {
          "output_type": "execute_result",
          "data": {
            "text/plain": [
              "{'accuracy': 82.1494770289951,\n",
              " 'precison': 0.8209034686158704,\n",
              " 'recall': 0.821494770289951,\n",
              " 'f1 score': 0.818209239015451}"
            ]
          },
          "metadata": {},
          "execution_count": 44
        }
      ]
    },
    {
      "cell_type": "markdown",
      "source": [
        "# Model-2 Feature extraction model with pretrained token embeddings"
      ],
      "metadata": {
        "id": "dhEJvNAv4kLv"
      }
    },
    {
      "cell_type": "code",
      "source": [
        "import tensorflow_hub as hub"
      ],
      "metadata": {
        "id": "3GL9nX6i20sh"
      },
      "execution_count": 45,
      "outputs": []
    },
    {
      "cell_type": "code",
      "source": [
        "tf_hub_embedding_layer = hub.KerasLayer(\"https://tfhub.dev/google/universal-sentence-encoder/4\",\n",
        "                                        trainable=False,\n",
        "                                        name=\"universal_sentence_encoder\")"
      ],
      "metadata": {
        "id": "h9u9m2qW43Ly"
      },
      "execution_count": 46,
      "outputs": []
    },
    {
      "cell_type": "code",
      "source": [
        "# Test out the embedding on a random sentence\n",
        "random_training_sentence = random.choice(train_sentences)\n",
        "print(f\"Random training sentence:\\n{random_training_sentence}\\n\")\n",
        "use_embedded_sentence = tf_hub_embedding_layer([random_training_sentence])\n",
        "print(f\"Sentence after embedding:\\n{use_embedded_sentence[0][:30]} (truncated output)...\\n\")\n",
        "print(f\"Length of sentence embedding:\\n{len(use_embedded_sentence[0])}\")"
      ],
      "metadata": {
        "colab": {
          "base_uri": "https://localhost:8080/"
        },
        "id": "C2PmacTE5AZ1",
        "outputId": "15879c17-1344-43f2-9b4a-330f96176e26"
      },
      "execution_count": 47,
      "outputs": [
        {
          "output_type": "stream",
          "name": "stdout",
          "text": [
            "Random training sentence:\n",
            "Statistical analysis was performed using a split plot model of repeated measures analysis of variance .\n",
            "\n",
            "Sentence after embedding:\n",
            "[-0.02038876 -0.06841031  0.00275054  0.01841585 -0.01394176 -0.0487159\n",
            " -0.05845594 -0.01425251  0.04796767  0.0773197   0.01405929 -0.05945059\n",
            "  0.00292387  0.05843642 -0.05823619 -0.04901077  0.06152319  0.0258544\n",
            "  0.05495091 -0.01559523 -0.07581279  0.05258315 -0.0322306  -0.05134259\n",
            "  0.01534721  0.05841066  0.05093497  0.0407923  -0.03701919 -0.0262456 ] (truncated output)...\n",
            "\n",
            "Length of sentence embedding:\n",
            "512\n"
          ]
        }
      ]
    },
    {
      "cell_type": "code",
      "source": [
        "inputs=layers.Input(shape=[],dtype=tf.string)\n",
        "pretrained=tf_hub_embedding_layer(inputs)\n",
        "x=layers.Dense(128,activation='relu')(pretrained)\n",
        "x=layers.Dense(128,activation='relu')(x)\n",
        "\n",
        "outputs=layers.Dense(num_classes,activation='softmax')(x)\n",
        "\n",
        "model_2=tf.keras.Model(inputs,outputs)\n",
        "\n",
        "model_2.compile(loss='categorical_crossentropy',\n",
        "                optimizer=tf.keras.optimizers.Adam(),\n",
        "                metrics=['accuracy'])"
      ],
      "metadata": {
        "id": "wN-CIF4n5coC"
      },
      "execution_count": 48,
      "outputs": []
    },
    {
      "cell_type": "code",
      "source": [
        "# Fit the model\n",
        "model_2_history = model_2.fit(train_dataset,\n",
        "                              steps_per_epoch=int(0.2 * len(train_dataset)), # only fit on 10% of batches for faster training time\n",
        "                              epochs=5,\n",
        "                              validation_data=valid_dataset,\n",
        "                              validation_steps=int(0.2 * len(valid_dataset))) "
      ],
      "metadata": {
        "colab": {
          "base_uri": "https://localhost:8080/"
        },
        "id": "rwGMosas_QbR",
        "outputId": "aab4c1cb-0fb7-46fe-c95b-feee8dc1c34c"
      },
      "execution_count": 49,
      "outputs": [
        {
          "output_type": "stream",
          "name": "stdout",
          "text": [
            "Epoch 1/5\n",
            "1125/1125 [==============================] - 19s 14ms/step - loss: 0.8127 - accuracy: 0.6839 - val_loss: 0.7154 - val_accuracy: 0.7230\n",
            "Epoch 2/5\n",
            "1125/1125 [==============================] - 14s 13ms/step - loss: 0.6946 - accuracy: 0.7325 - val_loss: 0.6708 - val_accuracy: 0.7442\n",
            "Epoch 3/5\n",
            "1125/1125 [==============================] - 14s 13ms/step - loss: 0.6838 - accuracy: 0.7361 - val_loss: 0.6433 - val_accuracy: 0.7548\n",
            "Epoch 4/5\n",
            "1125/1125 [==============================] - 14s 13ms/step - loss: 0.6474 - accuracy: 0.7538 - val_loss: 0.6252 - val_accuracy: 0.7606\n",
            "Epoch 5/5\n",
            "1125/1125 [==============================] - 15s 13ms/step - loss: 0.6411 - accuracy: 0.7556 - val_loss: 0.6224 - val_accuracy: 0.7631\n"
          ]
        }
      ]
    },
    {
      "cell_type": "code",
      "source": [
        "model_2.evaluate(valid_dataset)"
      ],
      "metadata": {
        "colab": {
          "base_uri": "https://localhost:8080/"
        },
        "id": "9okle7Sv_vMQ",
        "outputId": "37ed0367-01fb-4b88-9b83-92909fddea1b"
      },
      "execution_count": 50,
      "outputs": [
        {
          "output_type": "stream",
          "name": "stdout",
          "text": [
            "945/945 [==============================] - 10s 11ms/step - loss: 0.6276 - accuracy: 0.7590\n"
          ]
        },
        {
          "output_type": "execute_result",
          "data": {
            "text/plain": [
              "[0.6276187300682068, 0.7590030431747437]"
            ]
          },
          "metadata": {},
          "execution_count": 50
        }
      ]
    },
    {
      "cell_type": "code",
      "source": [
        "model_2_pred_probs=model_2.predict(valid_dataset)\n",
        "model_2_pred=tf.argmax(model_2_pred_probs,axis=1)\n",
        "model_2_pred"
      ],
      "metadata": {
        "colab": {
          "base_uri": "https://localhost:8080/"
        },
        "id": "k4H2uyD3_zp7",
        "outputId": "d87f66e7-9d93-49da-e515-fc3e3e54197e"
      },
      "execution_count": 51,
      "outputs": [
        {
          "output_type": "stream",
          "name": "stdout",
          "text": [
            "945/945 [==============================] - 10s 10ms/step\n"
          ]
        },
        {
          "output_type": "execute_result",
          "data": {
            "text/plain": [
              "<tf.Tensor: shape=(30212,), dtype=int64, numpy=array([0, 0, 0, ..., 4, 4, 1])>"
            ]
          },
          "metadata": {},
          "execution_count": 51
        }
      ]
    },
    {
      "cell_type": "code",
      "source": [
        "model_2_results=calculate_results(y_true=val_labels_encoded,\n",
        "                                  y_pred=model_2_pred)\n",
        "model_2_results"
      ],
      "metadata": {
        "colab": {
          "base_uri": "https://localhost:8080/"
        },
        "id": "GaYBX3_WATf6",
        "outputId": "8192c30f-ada8-4fe2-fc08-83e39f7ad99b"
      },
      "execution_count": 52,
      "outputs": [
        {
          "output_type": "execute_result",
          "data": {
            "text/plain": [
              "{'accuracy': 75.90030451476235,\n",
              " 'precison': 0.7538063292252908,\n",
              " 'recall': 0.7590030451476235,\n",
              " 'f1 score': 0.7542831584438828}"
            ]
          },
          "metadata": {},
          "execution_count": 52
        }
      ]
    },
    {
      "cell_type": "markdown",
      "source": [
        "#Model 3: Conv1D with character embeddings"
      ],
      "metadata": {
        "id": "kx78fUhaLjGK"
      }
    },
    {
      "cell_type": "code",
      "source": [
        "#function to split sentence into characters\n",
        "def split_sen(text):\n",
        "  return \" \".join(list(text))\n",
        "\n",
        "\n",
        "# Test splitting non-character-level sequence into characters\n",
        "split_sen(random_training_sentence)"
      ],
      "metadata": {
        "colab": {
          "base_uri": "https://localhost:8080/",
          "height": 54
        },
        "id": "6zVji5FGBoEy",
        "outputId": "1ef3287b-7afa-4db3-e79a-858c2fa94c32"
      },
      "execution_count": 53,
      "outputs": [
        {
          "output_type": "execute_result",
          "data": {
            "text/plain": [
              "'S t a t i s t i c a l   a n a l y s i s   w a s   p e r f o r m e d   u s i n g   a   s p l i t   p l o t   m o d e l   o f   r e p e a t e d   m e a s u r e s   a n a l y s i s   o f   v a r i a n c e   .'"
            ],
            "application/vnd.google.colaboratory.intrinsic+json": {
              "type": "string"
            }
          },
          "metadata": {},
          "execution_count": 53
        }
      ]
    },
    {
      "cell_type": "code",
      "source": [
        "train_char=[split_sen(sentence) for sentence in train_sentences]\n",
        "val_char=[split_sen(sentence) for sentence in val_sentences]\n",
        "test_char=[split_sen(sentence) for sentence in test_sentences]\n",
        "print(train_char[0])"
      ],
      "metadata": {
        "colab": {
          "base_uri": "https://localhost:8080/"
        },
        "id": "boBACavjMYam",
        "outputId": "cdc3512a-ff70-4866-f607-8ccb746b038d"
      },
      "execution_count": 54,
      "outputs": [
        {
          "output_type": "stream",
          "name": "stdout",
          "text": [
            "T o   i n v e s t i g a t e   t h e   e f f i c a c y   o f   @   w e e k s   o f   d a i l y   l o w - d o s e   o r a l   p r e d n i s o l o n e   i n   i m p r o v i n g   p a i n   ,   m o b i l i t y   ,   a n d   s y s t e m i c   l o w - g r a d e   i n f l a m m a t i o n   i n   t h e   s h o r t   t e r m   a n d   w h e t h e r   t h e   e f f e c t   w o u l d   b e   s u s t a i n e d   a t   @   w e e k s   i n   o l d e r   a d u l t s   w i t h   m o d e r a t e   t o   s e v e r e   k n e e   o s t e o a r t h r i t i s   (   O A   )   .\n"
          ]
        }
      ]
    },
    {
      "cell_type": "code",
      "source": [
        "\n",
        "# What's the average character length?\n",
        "char_lens = [len(sentence) for sentence in train_sentences]\n",
        "mean_char_len = np.mean(char_lens)\n",
        "mean_char_len"
      ],
      "metadata": {
        "colab": {
          "base_uri": "https://localhost:8080/"
        },
        "id": "KunygvLpN3cY",
        "outputId": "16498f97-e4bc-4bd3-f834-4ab80bacc715"
      },
      "execution_count": 55,
      "outputs": [
        {
          "output_type": "execute_result",
          "data": {
            "text/plain": [
              "149.3662574983337"
            ]
          },
          "metadata": {},
          "execution_count": 55
        }
      ]
    },
    {
      "cell_type": "code",
      "source": [
        "plt.hist(char_lens,bins=50);"
      ],
      "metadata": {
        "colab": {
          "base_uri": "https://localhost:8080/",
          "height": 265
        },
        "id": "XAIxs_wkN5SM",
        "outputId": "85fe6cf4-6a28-4e5d-dad2-4d0be492893e"
      },
      "execution_count": 56,
      "outputs": [
        {
          "output_type": "display_data",
          "data": {
            "text/plain": [
              "<Figure size 432x288 with 1 Axes>"
            ],
            "image/png": "[encoded data removed]"
          },
          "metadata": {
            "needs_background": "light"
          }
        }
      ]
    },
    {
      "cell_type": "code",
      "source": [
        "# output sequence length\n",
        "output_seq_char_len = int(np.percentile(char_lens, 95))\n",
        "output_seq_char_len"
      ],
      "metadata": {
        "colab": {
          "base_uri": "https://localhost:8080/"
        },
        "id": "U3juH5VVPF9G",
        "outputId": "09026666-ab29-447c-f412-a172b46d5aeb"
      },
      "execution_count": 57,
      "outputs": [
        {
          "output_type": "execute_result",
          "data": {
            "text/plain": [
              "290"
            ]
          },
          "metadata": {},
          "execution_count": 57
        }
      ]
    },
    {
      "cell_type": "code",
      "source": [
        "#getting all keyboard charcters  character level embeddings\n",
        "import string\n",
        "alphabets=string.ascii_lowercase + string.digits + string.punctuation\n",
        "alphabets"
      ],
      "metadata": {
        "colab": {
          "base_uri": "https://localhost:8080/",
          "height": 36
        },
        "id": "B-IgOKg4Pb3-",
        "outputId": "5d3c20af-3a18-4257-82f8-ef5e5a4f4b77"
      },
      "execution_count": 58,
      "outputs": [
        {
          "output_type": "execute_result",
          "data": {
            "text/plain": [
              "'abcdefghijklmnopqrstuvwxyz0123456789!\"#$%&\\'()*+,-./:;<=>?@[\\\\]^_`{|}~'"
            ],
            "application/vnd.google.colaboratory.intrinsic+json": {
              "type": "string"
            }
          },
          "metadata": {},
          "execution_count": 58
        }
      ]
    },
    {
      "cell_type": "code",
      "source": [
        "#creating  tocken vectorizer\n",
        "num_char_length=len(alphabets)\n",
        "char_vectorizer=TextVectorization(max_tokens=num_char_length,\n",
        "                                  output_sequence_length=output_seq_char_len,\n",
        "                                  standardize=\"lower_and_strip_punctuation\",\n",
        "                                  name='char_vectorizer')"
      ],
      "metadata": {
        "id": "3HrRARq3QzDP"
      },
      "execution_count": 59,
      "outputs": []
    },
    {
      "cell_type": "code",
      "source": [
        "char_vectorizer.adapt(train_char)"
      ],
      "metadata": {
        "id": "_9Xo8u0GTkAX"
      },
      "execution_count": 60,
      "outputs": []
    },
    {
      "cell_type": "code",
      "source": [
        "\n",
        "# Check character vocabulary characteristics\n",
        "char_vocab = char_vectorizer.get_vocabulary()\n",
        "print(f\"Number of different characters in character vocab: {len(char_vocab)}\")\n",
        "print(f\"5 most common characters: {char_vocab[:5]}\")\n",
        "print(f\"5 least common characters: {char_vocab[-5:]}\")\n",
        "     "
      ],
      "metadata": {
        "colab": {
          "base_uri": "https://localhost:8080/"
        },
        "id": "sD-LI8WITw1H",
        "outputId": "01563abb-5477-4555-be4e-2f16df14b369"
      },
      "execution_count": 61,
      "outputs": [
        {
          "output_type": "stream",
          "name": "stdout",
          "text": [
            "Number of different characters in character vocab: 28\n",
            "5 most common characters: ['', '[UNK]', 'e', 't', 'i']\n",
            "5 least common characters: ['k', 'x', 'z', 'q', 'j']\n"
          ]
        }
      ]
    },
    {
      "cell_type": "markdown",
      "source": [
        "### Creating a character level embedding"
      ],
      "metadata": {
        "id": "cQx6ppd8AsYD"
      }
    },
    {
      "cell_type": "code",
      "source": [
        "char_embedding=layers.Embedding(input_dim=num_char_length,\n",
        "                                output_dim=25,\n",
        "                                mask_zero=False,\n",
        "                                name='char_embedding')\n",
        "\n"
      ],
      "metadata": {
        "id": "4nJrNOy3UaLm"
      },
      "execution_count": 62,
      "outputs": []
    },
    {
      "cell_type": "code",
      "source": [
        "#building the con!d model with char embedding.\n",
        "inputs=layers.Input(shape=(1,),dtype=tf.string)\n",
        "char_vect=char_vectorizer(inputs)\n",
        "char_embd=char_embedding(char_vect)\n",
        "x=layers.Conv1D(64,kernel_size=5,padding='same',activation='relu')(char_embd)\n",
        "x=layers.Conv1D(64,kernel_size=5,padding='same',activation='relu')(x)\n",
        "x = layers.GlobalMaxPool1D()(x)\n",
        "outputs=layers.Dense(num_classes,activation='softmax')(x)\n",
        "\n",
        "model_3=tf.keras.Model(inputs,outputs,name=\"model_3_conv1D_char_embedding\")\n",
        "\n",
        "\n",
        "# Compile model\n",
        "model_3.compile(loss=\"categorical_crossentropy\",\n",
        "                optimizer=tf.keras.optimizers.Adam(),\n",
        "                metrics=[\"accuracy\"])\n"
      ],
      "metadata": {
        "id": "B4rcq2McBtPl"
      },
      "execution_count": 63,
      "outputs": []
    },
    {
      "cell_type": "code",
      "source": [
        "model_3.summary()"
      ],
      "metadata": {
        "colab": {
          "base_uri": "https://localhost:8080/"
        },
        "id": "WY5eTk4uD2zs",
        "outputId": "b23c93df-7c75-42ca-ee44-171d48d6a597"
      },
      "execution_count": 64,
      "outputs": [
        {
          "output_type": "stream",
          "name": "stdout",
          "text": [
            "Model: \"model_3_conv1D_char_embedding\"\n",
            "_________________________________________________________________\n",
            " Layer (type)                Output Shape              Param #   \n",
            "=================================================================\n",
            " input_3 (InputLayer)        [(None, 1)]               0         \n",
            "                                                                 \n",
            " char_vectorizer (TextVector  (None, 290)              0         \n",
            " ization)                                                        \n",
            "                                                                 \n",
            " char_embedding (Embedding)  (None, 290, 25)           1700      \n",
            "                                                                 \n",
            " conv1d_2 (Conv1D)           (None, 290, 64)           8064      \n",
            "                                                                 \n",
            " conv1d_3 (Conv1D)           (None, 290, 64)           20544     \n",
            "                                                                 \n",
            " global_max_pooling1d_1 (Glo  (None, 64)               0         \n",
            " balMaxPooling1D)                                                \n",
            "                                                                 \n",
            " dense_4 (Dense)             (None, 5)                 325       \n",
            "                                                                 \n",
            "=================================================================\n",
            "Total params: 30,633\n",
            "Trainable params: 30,633\n",
            "Non-trainable params: 0\n",
            "_________________________________________________________________\n"
          ]
        }
      ]
    },
    {
      "cell_type": "code",
      "source": [
        "#creating the char datasets for better performance usinfg tf.data\n",
        "train_char_datasets=tf.data.Dataset.from_tensor_slices((train_char, train_labels_one_hot)).batch(32).prefetch(tf.data.AUTOTUNE)\n",
        "val_char_datasets=tf.data.Dataset.from_tensor_slices((val_char,val_labels_one_hot)).batch(32).prefetch(tf.data.AUTOTUNE)\n",
        "test_char_datasets=tf.data.Dataset.from_tensor_slices((test_char,test_labes_one_hot)).batch(32).prefetch(tf.data.AUTOTUNE)"
      ],
      "metadata": {
        "id": "ZQl5VAZ6EAPp"
      },
      "execution_count": 65,
      "outputs": []
    },
    {
      "cell_type": "code",
      "source": [
        "\n",
        "# Fit the model on chars only\n",
        "model_3_history = model_3.fit(train_char_datasets,\n",
        "                              steps_per_epoch=int(0.2 * len(train_char_datasets)),\n",
        "                              epochs=5,\n",
        "                              validation_data=val_char_datasets,\n",
        "                              validation_steps=int(0.2 * len(val_char_datasets)))"
      ],
      "metadata": {
        "colab": {
          "base_uri": "https://localhost:8080/"
        },
        "id": "Y5XR8Dc4Gggj",
        "outputId": "40288d71-b7cd-4413-8f2a-3a5f8d33ed3d"
      },
      "execution_count": 66,
      "outputs": [
        {
          "output_type": "stream",
          "name": "stdout",
          "text": [
            "Epoch 1/5\n",
            "1125/1125 [==============================] - 7s 6ms/step - loss: 1.0934 - accuracy: 0.5621 - val_loss: 0.8826 - val_accuracy: 0.6607\n",
            "Epoch 2/5\n",
            "1125/1125 [==============================] - 6s 6ms/step - loss: 0.8346 - accuracy: 0.6766 - val_loss: 0.7681 - val_accuracy: 0.7037\n",
            "Epoch 3/5\n",
            "1125/1125 [==============================] - 6s 6ms/step - loss: 0.7695 - accuracy: 0.7052 - val_loss: 0.7068 - val_accuracy: 0.7293\n",
            "Epoch 4/5\n",
            "1125/1125 [==============================] - 6s 6ms/step - loss: 0.7171 - accuracy: 0.7265 - val_loss: 0.6771 - val_accuracy: 0.7421\n",
            "Epoch 5/5\n",
            "1125/1125 [==============================] - 7s 6ms/step - loss: 0.6948 - accuracy: 0.7378 - val_loss: 0.6925 - val_accuracy: 0.7328\n"
          ]
        }
      ]
    },
    {
      "cell_type": "code",
      "source": [
        "model_3.evaluate(val_char_datasets)"
      ],
      "metadata": {
        "colab": {
          "base_uri": "https://localhost:8080/"
        },
        "id": "BWal_P-6HK5i",
        "outputId": "e18b4c18-2aba-4157-f89c-31a0ec0e4b60"
      },
      "execution_count": 67,
      "outputs": [
        {
          "output_type": "stream",
          "name": "stdout",
          "text": [
            "945/945 [==============================] - 4s 5ms/step - loss: 0.7028 - accuracy: 0.7294\n"
          ]
        },
        {
          "output_type": "execute_result",
          "data": {
            "text/plain": [
              "[0.7028109431266785, 0.7293790578842163]"
            ]
          },
          "metadata": {},
          "execution_count": 67
        }
      ]
    },
    {
      "cell_type": "code",
      "source": [
        "# Make predictions with character model only\n",
        "model_3_pred_probs = model_3.predict(val_char_datasets)\n",
        "model_3_preds = tf.argmax(model_3_pred_probs, axis=1)\n",
        "model_3_preds"
      ],
      "metadata": {
        "colab": {
          "base_uri": "https://localhost:8080/"
        },
        "id": "pk4lPWIUHSlQ",
        "outputId": "8b1410f4-da5d-44cd-98a2-fda1106b5159"
      },
      "execution_count": 68,
      "outputs": [
        {
          "output_type": "stream",
          "name": "stdout",
          "text": [
            "945/945 [==============================] - 3s 3ms/step\n"
          ]
        },
        {
          "output_type": "execute_result",
          "data": {
            "text/plain": [
              "<tf.Tensor: shape=(30212,), dtype=int64, numpy=array([1, 1, 3, ..., 4, 4, 1])>"
            ]
          },
          "metadata": {},
          "execution_count": 68
        }
      ]
    },
    {
      "cell_type": "code",
      "source": [
        "\n",
        "#Conv1D char only model results\n",
        "model_3_results=calculate_results(y_true=val_labels_encoded,\n",
        "                                  y_pred=model_3_preds)\n",
        "model_3_results\n"
      ],
      "metadata": {
        "colab": {
          "base_uri": "https://localhost:8080/"
        },
        "id": "JMjMzMtXHjjp",
        "outputId": "6f507ea8-e33e-4764-cf30-511fcfcfee11"
      },
      "execution_count": 69,
      "outputs": [
        {
          "output_type": "execute_result",
          "data": {
            "text/plain": [
              "{'accuracy': 72.93790546802596,\n",
              " 'precison': 0.7325282702116884,\n",
              " 'recall': 0.7293790546802595,\n",
              " 'f1 score': 0.7225810987280227}"
            ]
          },
          "metadata": {},
          "execution_count": 69
        }
      ]
    },
    {
      "cell_type": "code",
      "source": [
        "from tensorflow.keras.utils import plot_model\n",
        "plot_model(model_3)"
      ],
      "metadata": {
        "id": "CKs3fbp8PBfr",
        "outputId": "5ea5feaa-192a-4791-a493-e70b8f5d2e21",
        "colab": {
          "base_uri": "https://localhost:8080/",
          "height": 661
        }
      },
      "execution_count": 70,
      "outputs": [
        {
          "output_type": "execute_result",
          "data": {
            "image/png": "[encoded data removed]",
            "text/plain": [
              "<IPython.core.display.Image object>"
            ]
          },
          "metadata": {},
          "execution_count": 70
        }
      ]
    },
    {
      "cell_type": "code",
      "source": [
        "baseline_results"
      ],
      "metadata": {
        "colab": {
          "base_uri": "https://localhost:8080/"
        },
        "id": "QO6CDMG4L8-o",
        "outputId": "c822bdc6-3534-4210-ae67-fa097fd559cd"
      },
      "execution_count": 71,
      "outputs": [
        {
          "output_type": "execute_result",
          "data": {
            "text/plain": [
              "{'accuracy': 72.1832384482987,\n",
              " 'precison': 0.7186466952323352,\n",
              " 'recall': 0.7218323844829869,\n",
              " 'f1 score': 0.6989250353450294}"
            ]
          },
          "metadata": {},
          "execution_count": 71
        }
      ]
    },
    {
      "cell_type": "markdown",
      "source": [
        "# Model 4-Combining pretrained token embeddings + character embeddings to a single model"
      ],
      "metadata": {
        "id": "a4PSCoLLMYVv"
      }
    },
    {
      "cell_type": "code",
      "source": [
        "#1 token input model\n",
        "token_input=layers.Input(shape=[],dtype=tf.string,name='token_input')\n",
        "token_embed = tf_hub_embedding_layer(token_input)\n",
        "token_output=layers.Dense(128,activation='relu')(token_embed)\n",
        "token_model=tf.keras.Model(inputs=token_input,\n",
        "                           outputs=token_output)\n",
        "\n",
        "#2 char input\n",
        "char_inputs = layers.Input(shape=(1,), dtype=tf.string, name=\"char_input\")\n",
        "char_vectors = char_vectorizer(char_inputs)\n",
        "char_embeddings = char_embedding(char_vectors)\n",
        "char_bi_lstm=layers.Bidirectional(layers.LSTM(25))(char_embeddings)\n",
        "char_model=tf.keras.Model(inputs=char_inputs,\n",
        "                          outputs=char_bi_lstm)\n",
        "\n",
        "#concatnate token model and char model\n",
        "token_concat = layers.Concatenate(name=\"token_char_hybrid\")([token_model.output, \n",
        "                                                                  char_model.output])\n",
        "#creating the output layers and addition of dropout\n",
        "\n",
        "combi_drop=layers.Dropout(0.5)(token_concat)\n",
        "combi_dense=layers.Dense(264,activation='relu')(combi_drop)\n",
        "final_drop=layers.Dropout(0.5)(combi_dense)\n",
        "final_output=layers.Dense(num_classes,activation='softmax')(final_drop)\n",
        "\n",
        "#making model with char and token model\n",
        "model_4=tf.keras.Model(inputs=[token_model.input,char_model.input],\n",
        "                       outputs=final_output,\n",
        "                       name='model_4_token_and_char_embeddings')"
      ],
      "metadata": {
        "id": "lpKUCVytMGhx"
      },
      "execution_count": 72,
      "outputs": []
    },
    {
      "cell_type": "code",
      "source": [
        "model_4.summary()"
      ],
      "metadata": {
        "colab": {
          "base_uri": "https://localhost:8080/"
        },
        "id": "ETBQuju0WaEJ",
        "outputId": "21166049-ec48-4ab9-e57f-3832c1283ab2"
      },
      "execution_count": 73,
      "outputs": [
        {
          "output_type": "stream",
          "name": "stdout",
          "text": [
            "Model: \"model_4_token_and_char_embeddings\"\n",
            "__________________________________________________________________________________________________\n",
            " Layer (type)                   Output Shape         Param #     Connected to                     \n",
            "==================================================================================================\n",
            " char_input (InputLayer)        [(None, 1)]          0           []                               \n",
            "                                                                                                  \n",
            " token_input (InputLayer)       [(None,)]            0           []                               \n",
            "                                                                                                  \n",
            " char_vectorizer (TextVectoriza  (None, 290)         0           ['char_input[0][0]']             \n",
            " tion)                                                                                            \n",
            "                                                                                                  \n",
            " universal_sentence_encoder (Ke  (None, 512)         256797824   ['token_input[0][0]']            \n",
            " rasLayer)                                                                                        \n",
            "                                                                                                  \n",
            " char_embedding (Embedding)     (None, 290, 25)      1700        ['char_vectorizer[1][0]']        \n",
            "                                                                                                  \n",
            " dense_5 (Dense)                (None, 128)          65664       ['universal_sentence_encoder[1][0\n",
            "                                                                 ]']                              \n",
            "                                                                                                  \n",
            " bidirectional (Bidirectional)  (None, 50)           10200       ['char_embedding[1][0]']         \n",
            "                                                                                                  \n",
            " token_char_hybrid (Concatenate  (None, 178)         0           ['dense_5[0][0]',                \n",
            " )                                                                'bidirectional[0][0]']          \n",
            "                                                                                                  \n",
            " dropout (Dropout)              (None, 178)          0           ['token_char_hybrid[0][0]']      \n",
            "                                                                                                  \n",
            " dense_6 (Dense)                (None, 264)          47256       ['dropout[0][0]']                \n",
            "                                                                                                  \n",
            " dropout_1 (Dropout)            (None, 264)          0           ['dense_6[0][0]']                \n",
            "                                                                                                  \n",
            " dense_7 (Dense)                (None, 5)            1325        ['dropout_1[0][0]']              \n",
            "                                                                                                  \n",
            "==================================================================================================\n",
            "Total params: 256,923,969\n",
            "Trainable params: 126,145\n",
            "Non-trainable params: 256,797,824\n",
            "__________________________________________________________________________________________________\n"
          ]
        }
      ]
    },
    {
      "cell_type": "code",
      "source": [
        "plot_model(model_4)"
      ],
      "metadata": {
        "colab": {
          "base_uri": "https://localhost:8080/",
          "height": 856
        },
        "id": "H_nlkhIaWgGe",
        "outputId": "d5234b01-f554-4e31-b228-b870eb362684"
      },
      "execution_count": 74,
      "outputs": [
        {
          "output_type": "execute_result",
          "data": {
            "image/png": "[encoded data removed]",
            "text/plain": [
              "<IPython.core.display.Image object>"
            ]
          },
          "metadata": {},
          "execution_count": 74
        }
      ]
    },
    {
      "cell_type": "code",
      "source": [
        "# Compile model\n",
        "model_4.compile(loss=\"categorical_crossentropy\",\n",
        "                optimizer=tf.keras.optimizers.Adam(),\n",
        "                metrics=[\"accuracy\"])"
      ],
      "metadata": {
        "id": "0fnPHThhWwYG"
      },
      "execution_count": 75,
      "outputs": []
    },
    {
      "cell_type": "code",
      "source": [
        "#creating the char datasets for better performance usinfg tf.data\n",
        "train_char_token_datasets=tf.data.Dataset.from_tensor_slices(((train_sentences,train_char), train_labels_one_hot)).batch(32).prefetch(tf.data.AUTOTUNE)\n",
        "val_char_token_datasets=tf.data.Dataset.from_tensor_slices(((val_sentences,val_char),val_labels_one_hot)).batch(32).prefetch(tf.data.AUTOTUNE)\n",
        "test_char_token_datasets=tf.data.Dataset.from_tensor_slices(((test_sentences,test_char),test_labes_one_hot)).batch(32).prefetch(tf.data.AUTOTUNE)"
      ],
      "metadata": {
        "id": "E2aiheRqW4um"
      },
      "execution_count": 76,
      "outputs": []
    },
    {
      "cell_type": "code",
      "source": [
        "\n",
        "# Check out training char and token embedding dataset\n",
        "train_char_token_datasets, val_char_token_datasets"
      ],
      "metadata": {
        "colab": {
          "base_uri": "https://localhost:8080/"
        },
        "id": "kt2AW3O2F4cL",
        "outputId": "01c6cf24-9007-488b-badc-99bccf779ec2"
      },
      "execution_count": 77,
      "outputs": [
        {
          "output_type": "execute_result",
          "data": {
            "text/plain": [
              "(<PrefetchDataset element_spec=((TensorSpec(shape=(None,), dtype=tf.string, name=None), TensorSpec(shape=(None,), dtype=tf.string, name=None)), TensorSpec(shape=(None, 5), dtype=tf.float64, name=None))>,\n",
              " <PrefetchDataset element_spec=((TensorSpec(shape=(None,), dtype=tf.string, name=None), TensorSpec(shape=(None,), dtype=tf.string, name=None)), TensorSpec(shape=(None, 5), dtype=tf.float64, name=None))>)"
            ]
          },
          "metadata": {},
          "execution_count": 77
        }
      ]
    },
    {
      "cell_type": "code",
      "source": [
        "# Fit the model on tokens and chars\n",
        "model_4_history = model_4.fit(train_char_token_datasets, # train on dataset of token and characters\n",
        "                              steps_per_epoch=int(0.2 * len(train_char_token_datasets)),\n",
        "                              epochs=5,\n",
        "                              validation_data=val_char_token_datasets,\n",
        "                              validation_steps=int(0.2 * len(val_char_token_datasets)))"
      ],
      "metadata": {
        "colab": {
          "base_uri": "https://localhost:8080/"
        },
        "id": "iGYI2IbJF-7q",
        "outputId": "82d4de5e-9f23-4bc0-e6e5-f067583783b2"
      },
      "execution_count": 78,
      "outputs": [
        {
          "output_type": "stream",
          "name": "stdout",
          "text": [
            "Epoch 1/5\n",
            "1125/1125 [==============================] - 48s 38ms/step - loss: 0.8717 - accuracy: 0.6580 - val_loss: 0.7089 - val_accuracy: 0.7320\n",
            "Epoch 2/5\n",
            "1125/1125 [==============================] - 41s 36ms/step - loss: 0.7473 - accuracy: 0.7154 - val_loss: 0.6667 - val_accuracy: 0.7495\n",
            "Epoch 3/5\n",
            "1125/1125 [==============================] - 41s 36ms/step - loss: 0.7364 - accuracy: 0.7203 - val_loss: 0.6435 - val_accuracy: 0.7584\n",
            "Epoch 4/5\n",
            "1125/1125 [==============================] - 43s 38ms/step - loss: 0.7039 - accuracy: 0.7341 - val_loss: 0.6267 - val_accuracy: 0.7675\n",
            "Epoch 5/5\n",
            "1125/1125 [==============================] - 42s 37ms/step - loss: 0.6969 - accuracy: 0.7376 - val_loss: 0.6205 - val_accuracy: 0.7646\n"
          ]
        }
      ]
    },
    {
      "cell_type": "code",
      "source": [
        "model_4.evaluate(val_char_token_datasets)"
      ],
      "metadata": {
        "colab": {
          "base_uri": "https://localhost:8080/"
        },
        "id": "3fD7dQtfGmYB",
        "outputId": "0716dcb6-57e9-4d82-a449-82900e1cdca8"
      },
      "execution_count": 79,
      "outputs": [
        {
          "output_type": "stream",
          "name": "stdout",
          "text": [
            "945/945 [==============================] - 22s 23ms/step - loss: 0.6230 - accuracy: 0.7625\n"
          ]
        },
        {
          "output_type": "execute_result",
          "data": {
            "text/plain": [
              "[0.6230055093765259, 0.7624784708023071]"
            ]
          },
          "metadata": {},
          "execution_count": 79
        }
      ]
    },
    {
      "cell_type": "code",
      "source": [
        "model_4_pred_probs = model_4.predict(val_char_token_datasets)\n",
        "# Turn prediction probabilities into prediction classes\n",
        "model_4_preds = tf.argmax(model_4_pred_probs, axis=1)\n",
        "\n",
        "# Get results of token-char-hybrid model\n",
        "model_4_results = calculate_results(y_true=val_labels_encoded,\n",
        "                                    y_pred=model_4_preds)\n",
        "model_4_results"
      ],
      "metadata": {
        "colab": {
          "base_uri": "https://localhost:8080/"
        },
        "id": "9aIZecpOHBdR",
        "outputId": "d79de014-a95f-4759-b23b-806d346b8ea1"
      },
      "execution_count": 80,
      "outputs": [
        {
          "output_type": "stream",
          "name": "stdout",
          "text": [
            "945/945 [==============================] - 21s 21ms/step\n"
          ]
        },
        {
          "output_type": "execute_result",
          "data": {
            "text/plain": [
              "{'accuracy': 76.24784853700515,\n",
              " 'precison': 0.7593926666817861,\n",
              " 'recall': 0.7624784853700516,\n",
              " 'f1 score': 0.7581107115823341}"
            ]
          },
          "metadata": {},
          "execution_count": 80
        }
      ]
    },
    {
      "cell_type": "markdown",
      "source": [
        "# Model 5: Transfer Learning with pretrained token embeddings + character embeddings + positional embeddings"
      ],
      "metadata": {
        "id": "z9n9m-9AjfGQ"
      }
    },
    {
      "cell_type": "code",
      "source": [
        "train_df.head()"
      ],
      "metadata": {
        "colab": {
          "base_uri": "https://localhost:8080/",
          "height": 206
        },
        "id": "iIXkwo-bH5dn",
        "outputId": "06d7f3ff-f799-4a74-a7e3-492960b5e180"
      },
      "execution_count": 81,
      "outputs": [
        {
          "output_type": "execute_result",
          "data": {
            "text/plain": [
              "      target                                               text  line_number  \\\n",
              "0  OBJECTIVE  To investigate the efficacy of @ weeks of dail...            0   \n",
              "1    METHODS  A total of @ patients with primary knee OA wer...            1   \n",
              "2    METHODS  Outcome measures included pain reduction and i...            2   \n",
              "3    METHODS  Pain was assessed using the visual analog pain...            3   \n",
              "4    METHODS  Secondary outcome measures included the Wester...            4   \n",
              "\n",
              "   total_number_of_lines  \n",
              "0                     11  \n",
              "1                     11  \n",
              "2                     11  \n",
              "3                     11  \n",
              "4                     11  "
            ],
            "text/html": [
              "\n",
              "  <div id=\"df-16183ec6-c770-4046-81c3-25e6eb780d8e\">\n",
              "    <div class=\"colab-df-container\">\n",
              "      <div>\n",
              "<style scoped>\n",
              "    .dataframe tbody tr th:only-of-type {\n",
              "        vertical-align: middle;\n",
              "    }\n",
              "\n",
              "    .dataframe tbody tr th {\n",
              "        vertical-align: top;\n",
              "    }\n",
              "\n",
              "    .dataframe thead th {\n",
              "        text-align: right;\n",
              "    }\n",
              "</style>\n",
              "<table border=\"1\" class=\"dataframe\">\n",
              "  <thead>\n",
              "    <tr style=\"text-align: right;\">\n",
              "      <th></th>\n",
              "      <th>target</th>\n",
              "      <th>text</th>\n",
              "      <th>line_number</th>\n",
              "      <th>total_number_of_lines</th>\n",
              "    </tr>\n",
              "  </thead>\n",
              "  <tbody>\n",
              "    <tr>\n",
              "      <th>0</th>\n",
              "      <td>OBJECTIVE</td>\n",
              "      <td>To investigate the efficacy of @ weeks of dail...</td>\n",
              "      <td>0</td>\n",
              "      <td>11</td>\n",
              "    </tr>\n",
              "    <tr>\n",
              "      <th>1</th>\n",
              "      <td>METHODS</td>\n",
              "      <td>A total of @ patients with primary knee OA wer...</td>\n",
              "      <td>1</td>\n",
              "      <td>11</td>\n",
              "    </tr>\n",
              "    <tr>\n",
              "      <th>2</th>\n",
              "      <td>METHODS</td>\n",
              "      <td>Outcome measures included pain reduction and i...</td>\n",
              "      <td>2</td>\n",
              "      <td>11</td>\n",
              "    </tr>\n",
              "    <tr>\n",
              "      <th>3</th>\n",
              "      <td>METHODS</td>\n",
              "      <td>Pain was assessed using the visual analog pain...</td>\n",
              "      <td>3</td>\n",
              "      <td>11</td>\n",
              "    </tr>\n",
              "    <tr>\n",
              "      <th>4</th>\n",
              "      <td>METHODS</td>\n",
              "      <td>Secondary outcome measures included the Wester...</td>\n",
              "      <td>4</td>\n",
              "      <td>11</td>\n",
              "    </tr>\n",
              "  </tbody>\n",
              "</table>\n",
              "</div>\n",
              "      <button class=\"colab-df-convert\" onclick=\"convertToInteractive('df-16183ec6-c770-4046-81c3-25e6eb780d8e')\"\n",
              "              title=\"Convert this dataframe to an interactive table.\"\n",
              "              style=\"display:none;\">\n",
              "        \n",
              "  <svg xmlns=\"http://www.w3.org/2000/svg\" height=\"24px\"viewBox=\"0 0 24 24\"\n",
              "       width=\"24px\">\n",
              "    <path d=\"M0 0h24v24H0V0z\" fill=\"none\"/>\n",
              "    <path d=\"M18.56 5.44l.94 2.06.94-2.06 2.06-.94-2.06-.94-.94-2.06-.94 2.06-2.06.94zm-11 1L8.5 8.5l.94-2.06 2.06-.94-2.06-.94L8.5 2.5l-.94 2.06-2.06.94zm10 10l.94 2.06.94-2.06 2.06-.94-2.06-.94-.94-2.06-.94 2.06-2.06.94z\"/><path d=\"M17.41 7.96l-1.37-1.37c-.4-.4-.92-.59-1.43-.59-.52 0-1.04.2-1.43.59L10.3 9.45l-7.72 7.72c-.78.78-.78 2.05 0 2.83L4 21.41c.39.39.9.59 1.41.59.51 0 1.02-.2 1.41-.59l7.78-7.78 2.81-2.81c.8-.78.8-2.07 0-2.86zM5.41 20L4 18.59l7.72-7.72 1.47 1.35L5.41 20z\"/>\n",
              "  </svg>\n",
              "      </button>\n",
              "      \n",
              "  <style>\n",
              "    .colab-df-container {\n",
              "      display:flex;\n",
              "      flex-wrap:wrap;\n",
              "      gap: 12px;\n",
              "    }\n",
              "\n",
              "    .colab-df-convert {\n",
              "      background-color: #E8F0FE;\n",
              "      border: none;\n",
              "      border-radius: 50%;\n",
              "      cursor: pointer;\n",
              "      display: none;\n",
              "      fill: #1967D2;\n",
              "      height: 32px;\n",
              "      padding: 0 0 0 0;\n",
              "      width: 32px;\n",
              "    }\n",
              "\n",
              "    .colab-df-convert:hover {\n",
              "      background-color: #E2EBFA;\n",
              "      box-shadow: 0px 1px 2px rgba(60, 64, 67, 0.3), 0px 1px 3px 1px rgba(60, 64, 67, 0.15);\n",
              "      fill: #174EA6;\n",
              "    }\n",
              "\n",
              "    [theme=dark] .colab-df-convert {\n",
              "      background-color: #3B4455;\n",
              "      fill: #D2E3FC;\n",
              "    }\n",
              "\n",
              "    [theme=dark] .colab-df-convert:hover {\n",
              "      background-color: #434B5C;\n",
              "      box-shadow: 0px 1px 3px 1px rgba(0, 0, 0, 0.15);\n",
              "      filter: drop-shadow(0px 1px 2px rgba(0, 0, 0, 0.3));\n",
              "      fill: #FFFFFF;\n",
              "    }\n",
              "  </style>\n",
              "\n",
              "      <script>\n",
              "        const buttonEl =\n",
              "          document.querySelector('#df-16183ec6-c770-4046-81c3-25e6eb780d8e button.colab-df-convert');\n",
              "        buttonEl.style.display =\n",
              "          google.colab.kernel.accessAllowed ? 'block' : 'none';\n",
              "\n",
              "        async function convertToInteractive(key) {\n",
              "          const element = document.querySelector('#df-16183ec6-c770-4046-81c3-25e6eb780d8e');\n",
              "          const dataTable =\n",
              "            await google.colab.kernel.invokeFunction('convertToInteractive',\n",
              "                                                     [key], {});\n",
              "          if (!dataTable) return;\n",
              "\n",
              "          const docLinkHtml = 'Like what you see? Visit the ' +\n",
              "            '<a target=\"_blank\" href=https://colab.research.google.com/notebooks/data_table.ipynb>data table notebook</a>'\n",
              "            + ' to learn more about interactive tables.';\n",
              "          element.innerHTML = '';\n",
              "          dataTable['output_type'] = 'display_data';\n",
              "          await google.colab.output.renderOutput(dataTable, element);\n",
              "          const docLink = document.createElement('div');\n",
              "          docLink.innerHTML = docLinkHtml;\n",
              "          element.appendChild(docLink);\n",
              "        }\n",
              "      </script>\n",
              "    </div>\n",
              "  </div>\n",
              "  "
            ]
          },
          "metadata": {},
          "execution_count": 81
        }
      ]
    },
    {
      "cell_type": "markdown",
      "source": [
        "### Creating positional embedding"
      ],
      "metadata": {
        "id": "jXJNWyeLjwZo"
      }
    },
    {
      "cell_type": "code",
      "source": [
        "#finding  number of differnt line numbers\n",
        "tn=train_df.line_number.value_counts()\n",
        "print(tn)\n",
        "train_df.line_number.plot.hist(bins=10);"
      ],
      "metadata": {
        "colab": {
          "base_uri": "https://localhost:8080/",
          "height": 849
        },
        "id": "upu-wMAzjtRT",
        "outputId": "901bea34-e198-49fb-fe99-e2f7af536c99"
      },
      "execution_count": 82,
      "outputs": [
        {
          "output_type": "stream",
          "name": "stdout",
          "text": [
            "0     15000\n",
            "1     15000\n",
            "2     15000\n",
            "3     15000\n",
            "4     14992\n",
            "5     14949\n",
            "6     14758\n",
            "7     14279\n",
            "8     13346\n",
            "9     11981\n",
            "10    10041\n",
            "11     7892\n",
            "12     5853\n",
            "13     4152\n",
            "14     2835\n",
            "15     1861\n",
            "16     1188\n",
            "17      751\n",
            "18      462\n",
            "19      286\n",
            "20      162\n",
            "21      101\n",
            "22       66\n",
            "23       33\n",
            "24       22\n",
            "25       14\n",
            "26        7\n",
            "27        4\n",
            "28        3\n",
            "29        1\n",
            "30        1\n",
            "Name: line_number, dtype: int64\n"
          ]
        },
        {
          "output_type": "display_data",
          "data": {
            "text/plain": [
              "<Figure size 432x288 with 1 Axes>"
            ],
            "image/png": "[encoded data removed]"
          },
          "metadata": {
            "needs_background": "light"
          }
        }
      ]
    },
    {
      "cell_type": "markdown",
      "source": [
        "Looking at the distribution of the \"line_number\" column, it looks like the majority of lines have a position of 17 or less."
      ],
      "metadata": {
        "id": "fP1OpCoYmkJx"
      }
    },
    {
      "cell_type": "code",
      "source": [
        "#using tf creating the one hot encoded tensors for line number\n",
        "train_line_numbers_one_hot = tf.one_hot(train_df[\"line_number\"].to_numpy(), depth=17)\n",
        "val_line_numbers_one_hot = tf.one_hot(val_df[\"line_number\"].to_numpy(), depth=17)\n",
        "test_line_numbers_one_hot = tf.one_hot(test_df[\"line_number\"].to_numpy(), depth=17)"
      ],
      "metadata": {
        "id": "EoRGTWNdljei"
      },
      "execution_count": 83,
      "outputs": []
    },
    {
      "cell_type": "code",
      "source": [
        "train_line_numbers_one_hot.shape"
      ],
      "metadata": {
        "colab": {
          "base_uri": "https://localhost:8080/"
        },
        "id": "7iXE9bKgnGZq",
        "outputId": "6b1845f4-9b12-4aca-f000-eb529a23a64d"
      },
      "execution_count": 84,
      "outputs": [
        {
          "output_type": "execute_result",
          "data": {
            "text/plain": [
              "TensorShape([180040, 17])"
            ]
          },
          "metadata": {},
          "execution_count": 84
        }
      ]
    },
    {
      "cell_type": "code",
      "source": [
        "train_line_numbers_one_hot.dtype"
      ],
      "metadata": {
        "colab": {
          "base_uri": "https://localhost:8080/"
        },
        "id": "gcZHMZqTwzHW",
        "outputId": "11880aac-5864-4098-f953-7c41fbfde563"
      },
      "execution_count": 85,
      "outputs": [
        {
          "output_type": "execute_result",
          "data": {
            "text/plain": [
              "tf.float32"
            ]
          },
          "metadata": {},
          "execution_count": 85
        }
      ]
    },
    {
      "cell_type": "code",
      "source": [
        "tn=train_df.total_number_of_lines.value_counts()\n",
        "print(tn)\n",
        "train_df.total_number_of_lines.plot.hist();\n"
      ],
      "metadata": {
        "colab": {
          "base_uri": "https://localhost:8080/",
          "height": 778
        },
        "id": "zDrCW46vqVk4",
        "outputId": "c3aac43c-5f2d-465d-98b6-176913962b20"
      },
      "execution_count": 86,
      "outputs": [
        {
          "output_type": "stream",
          "name": "stdout",
          "text": [
            "11    24468\n",
            "10    23639\n",
            "12    22113\n",
            "9     19400\n",
            "13    18438\n",
            "14    14610\n",
            "8     12285\n",
            "15    10768\n",
            "7      7464\n",
            "16     7429\n",
            "17     5202\n",
            "6      3353\n",
            "18     3344\n",
            "19     2480\n",
            "20     1281\n",
            "5      1146\n",
            "21      770\n",
            "22      759\n",
            "23      264\n",
            "4       215\n",
            "24      200\n",
            "25      182\n",
            "26       81\n",
            "28       58\n",
            "3        32\n",
            "30       31\n",
            "27       28\n",
            "Name: total_number_of_lines, dtype: int64\n"
          ]
        },
        {
          "output_type": "display_data",
          "data": {
            "text/plain": [
              "<Figure size 432x288 with 1 Axes>"
            ],
            "image/png": "[encoded data removed]"
          },
          "metadata": {
            "needs_background": "light"
          }
        }
      ]
    },
    {
      "cell_type": "code",
      "source": [
        "\n",
        "# Check the coverage of a \"total_lines\" value of 20\n",
        "np.percentile(train_df.total_number_of_lines, 98) # a value of 20 covers 98% of sample"
      ],
      "metadata": {
        "colab": {
          "base_uri": "https://localhost:8080/"
        },
        "id": "1Cs4YjswqxMg",
        "outputId": "dc716b67-acdc-417d-bb9c-c6e8d8565714"
      },
      "execution_count": 87,
      "outputs": [
        {
          "output_type": "execute_result",
          "data": {
            "text/plain": [
              "20.0"
            ]
          },
          "metadata": {},
          "execution_count": 87
        }
      ]
    },
    {
      "cell_type": "code",
      "source": [
        "# Useing TensorFlow to create one-hot-encoded tensors of our \"total_number_of_lines\" column \n",
        "train_total_lines_one_hot = tf.one_hot(train_df[\"total_number_of_lines\"].to_numpy(), depth=20)\n",
        "val_total_lines_one_hot = tf.one_hot(val_df[\"total_number_of_lines\"].to_numpy(), depth=20)\n",
        "test_total_lines_one_hot = tf.one_hot(test_df[\"total_number_of_lines\"].to_numpy(), depth=20)\n",
        "\n",
        "train_total_lines_one_hot.shape"
      ],
      "metadata": {
        "colab": {
          "base_uri": "https://localhost:8080/"
        },
        "id": "lSh5nVY1q5iC",
        "outputId": "aed92867-2702-41f5-d01b-5b8c6577f50f"
      },
      "execution_count": 88,
      "outputs": [
        {
          "output_type": "execute_result",
          "data": {
            "text/plain": [
              "TensorShape([180040, 20])"
            ]
          },
          "metadata": {},
          "execution_count": 88
        }
      ]
    },
    {
      "cell_type": "code",
      "source": [
        "train_total_lines_one_hot.dtype"
      ],
      "metadata": {
        "colab": {
          "base_uri": "https://localhost:8080/"
        },
        "id": "KdaRwLq1wo7v",
        "outputId": "69745720-daf2-4c68-aab0-448e5cc14c52"
      },
      "execution_count": 89,
      "outputs": [
        {
          "output_type": "execute_result",
          "data": {
            "text/plain": [
              "tf.float32"
            ]
          },
          "metadata": {},
          "execution_count": 89
        }
      ]
    },
    {
      "cell_type": "markdown",
      "source": [
        "##Building the embeded model"
      ],
      "metadata": {
        "id": "xTYoXaf5teMm"
      }
    },
    {
      "cell_type": "code",
      "source": [
        "#token_model\n",
        "token_inputs=layers.Input(shape=[],dtype=tf.string,name='token_inputs')\n",
        "token_embedd=tf_hub_embedding_layer(token_inputs)\n",
        "token_outputs=layers.Dense(128,activation='relu',name='token_outputs')(token_embedd)\n",
        "token_model=tf.keras.Model(inputs=token_inputs,\n",
        "                           outputs=token_outputs)\n",
        "\n",
        "#char_model\n",
        "char_inputs=layers.Input(shape=[1,],dtype=tf.string,name='char_inputs')\n",
        "char_vector=char_vectorizer(char_inputs)\n",
        "char_embedd=char_embedding(char_vector)\n",
        "char_bi_lstm=layers.Bidirectional(layers.LSTM(32))(char_embedd)\n",
        "char_outputs=layers.Dense(128,activation='relu')(char_bi_lstm)\n",
        "char_model = tf.keras.Model(inputs=char_inputs,\n",
        "                            outputs=char_outputs)\n",
        "\n",
        "#line_number_model\n",
        "line_number_inputs=layers.Input(shape=(17),dtype=tf.float32,name='line_number_inputs')\n",
        "x=layers.Dense(64,activation='relu')(line_number_inputs)\n",
        "line_number_model=tf.keras.Model(inputs=line_number_inputs,\n",
        "                                 outputs=x)\n",
        "\n",
        "\n",
        "#total lines model\n",
        "\n",
        "total_lines_inputs=layers.Input(shape=(20),dtype=tf.float32,name='total_lines_inputs')\n",
        "y=layers.Dense(64,activation='relu')(total_lines_inputs)\n",
        "total_line_model=tf.keras.Model(inputs=total_lines_inputs,\n",
        "                                outputs=y)\n",
        "\n",
        "#combining token and char models\n",
        "combined_embedd=layers.Concatenate(name='token_char_embedding')([token_model.output,\n",
        "                                                                 char_model.output])\n",
        "z=layers.Dense(256,activation='relu')(combined_embedd)\n",
        "z=layers.Dropout(0.5)(z)\n",
        "\n",
        "#combining the positional embedding with combined token and char embedding\n",
        "z = layers.Concatenate(name=\"token_char_positional_embedding\")([line_number_model.output,\n",
        "                                                                total_line_model.output,\n",
        "                                                                z])\n",
        "# creating the final output layer\n",
        "output_layer=layers.Dense(5,activation='softmax',name='output_layer')(z)\n",
        "\n",
        "\n",
        "#putting together the model\n",
        "model_5=tf.keras.Model(inputs=[token_model.input,\n",
        "                               char_model.input,\n",
        "                               line_number_model.input,\n",
        "                               total_line_model.input],\n",
        "                       outputs=output_layer)\n",
        "\n",
        "\n",
        "\n"
      ],
      "metadata": {
        "id": "EtdMw0i1sDjN"
      },
      "execution_count": 90,
      "outputs": []
    },
    {
      "cell_type": "code",
      "source": [
        "model_5.summary()"
      ],
      "metadata": {
        "colab": {
          "base_uri": "https://localhost:8080/"
        },
        "id": "csgbbrly0-0h",
        "outputId": "0cffeb2a-1998-4a85-e76d-adf3af35628b"
      },
      "execution_count": 91,
      "outputs": [
        {
          "output_type": "stream",
          "name": "stdout",
          "text": [
            "Model: \"model_8\"\n",
            "__________________________________________________________________________________________________\n",
            " Layer (type)                   Output Shape         Param #     Connected to                     \n",
            "==================================================================================================\n",
            " char_inputs (InputLayer)       [(None, 1)]          0           []                               \n",
            "                                                                                                  \n",
            " char_vectorizer (TextVectoriza  (None, 290)         0           ['char_inputs[0][0]']            \n",
            " tion)                                                                                            \n",
            "                                                                                                  \n",
            " token_inputs (InputLayer)      [(None,)]            0           []                               \n",
            "                                                                                                  \n",
            " char_embedding (Embedding)     (None, 290, 25)      1700        ['char_vectorizer[2][0]']        \n",
            "                                                                                                  \n",
            " universal_sentence_encoder (Ke  (None, 512)         256797824   ['token_inputs[0][0]']           \n",
            " rasLayer)                                                                                        \n",
            "                                                                                                  \n",
            " bidirectional_1 (Bidirectional  (None, 64)          14848       ['char_embedding[2][0]']         \n",
            " )                                                                                                \n",
            "                                                                                                  \n",
            " token_outputs (Dense)          (None, 128)          65664       ['universal_sentence_encoder[2][0\n",
            "                                                                 ]']                              \n",
            "                                                                                                  \n",
            " dense_8 (Dense)                (None, 128)          8320        ['bidirectional_1[0][0]']        \n",
            "                                                                                                  \n",
            " token_char_embedding (Concaten  (None, 256)         0           ['token_outputs[0][0]',          \n",
            " ate)                                                             'dense_8[0][0]']                \n",
            "                                                                                                  \n",
            " line_number_inputs (InputLayer  [(None, 17)]        0           []                               \n",
            " )                                                                                                \n",
            "                                                                                                  \n",
            " total_lines_inputs (InputLayer  [(None, 20)]        0           []                               \n",
            " )                                                                                                \n",
            "                                                                                                  \n",
            " dense_11 (Dense)               (None, 256)          65792       ['token_char_embedding[0][0]']   \n",
            "                                                                                                  \n",
            " dense_9 (Dense)                (None, 64)           1152        ['line_number_inputs[0][0]']     \n",
            "                                                                                                  \n",
            " dense_10 (Dense)               (None, 64)           1344        ['total_lines_inputs[0][0]']     \n",
            "                                                                                                  \n",
            " dropout_2 (Dropout)            (None, 256)          0           ['dense_11[0][0]']               \n",
            "                                                                                                  \n",
            " token_char_positional_embeddin  (None, 384)         0           ['dense_9[0][0]',                \n",
            " g (Concatenate)                                                  'dense_10[0][0]',               \n",
            "                                                                  'dropout_2[0][0]']              \n",
            "                                                                                                  \n",
            " output_layer (Dense)           (None, 5)            1925        ['token_char_positional_embedding\n",
            "                                                                 [0][0]']                         \n",
            "                                                                                                  \n",
            "==================================================================================================\n",
            "Total params: 256,958,569\n",
            "Trainable params: 160,745\n",
            "Non-trainable params: 256,797,824\n",
            "__________________________________________________________________________________________________\n"
          ]
        }
      ]
    },
    {
      "cell_type": "code",
      "source": [
        "plot_model(model_5,show_shapes=True)"
      ],
      "metadata": {
        "colab": {
          "base_uri": "https://localhost:8080/",
          "height": 1000
        },
        "id": "qPs3JRsU1E8V",
        "outputId": "9bf28030-4209-470f-e128-7e4f6a8f2db5"
      },
      "execution_count": 92,
      "outputs": [
        {
          "output_type": "execute_result",
          "data": {
            "image/png": "[encoded data removed]",
            "text/plain": [
              "<IPython.core.display.Image object>"
            ]
          },
          "metadata": {},
          "execution_count": 92
        }
      ]
    },
    {
      "cell_type": "code",
      "source": [
        "\n",
        "model_5.compile(loss=tf.keras.losses.CategoricalCrossentropy(label_smoothing=0.2),\n",
        "                optimizer=tf.keras.optimizers.Adam(),\n",
        "                metrics=['accuracy'])"
      ],
      "metadata": {
        "id": "HxlqLco22LX3"
      },
      "execution_count": 93,
      "outputs": []
    },
    {
      "cell_type": "code",
      "source": [
        "#creating the trainig datasets\n",
        "train_pos_char_token_data = tf.data.Dataset.from_tensor_slices((train_sentences,train_char,train_line_numbers_one_hot,\n",
        "                                                                train_total_lines_one_hot))\n",
        "train_pos_char_token_labels = tf.data.Dataset.from_tensor_slices(train_labels_one_hot) # train labels\n",
        "train_pos_char_token_dataset = tf.data.Dataset.zip((train_pos_char_token_data, train_pos_char_token_labels)) # combine data and labels\n",
        "train_pos_char_token_dataset = train_pos_char_token_dataset.batch(32).prefetch(tf.data.AUTOTUNE) # turn into batches and prefetch appropriately"
      ],
      "metadata": {
        "id": "bzXA0Tmy4AKg"
      },
      "execution_count": 94,
      "outputs": []
    },
    {
      "cell_type": "code",
      "source": [
        "#creating the validation datasets\n",
        "val_pos_char_token_data = tf.data.Dataset.from_tensor_slices((val_sentences,val_char,val_line_numbers_one_hot,\n",
        "                                                                val_total_lines_one_hot))\n",
        "val_pos_char_token_labels = tf.data.Dataset.from_tensor_slices(val_labels_one_hot) \n",
        "val_pos_char_token_dataset = tf.data.Dataset.zip((val_pos_char_token_data, val_pos_char_token_labels))\n",
        "val_pos_char_token_dataset = val_pos_char_token_dataset.batch(32).prefetch(tf.data.AUTOTUNE)"
      ],
      "metadata": {
        "id": "dLCGH5Cy4oI4"
      },
      "execution_count": 95,
      "outputs": []
    },
    {
      "cell_type": "code",
      "source": [
        "#fiting the model  to the datsets\n",
        "history_model_5 = model_5.fit(train_pos_char_token_dataset,\n",
        "                              steps_per_epoch=int(0.2 * len(train_pos_char_token_dataset)),\n",
        "                              epochs=5,\n",
        "                              validation_data=val_pos_char_token_dataset,\n",
        "                              validation_steps=int(0.2 * len(val_pos_char_token_dataset)))"
      ],
      "metadata": {
        "colab": {
          "base_uri": "https://localhost:8080/"
        },
        "id": "Dw7E4YcW5FDu",
        "outputId": "b727738e-e2dc-4be4-81a1-63647ecd3ef0"
      },
      "execution_count": 96,
      "outputs": [
        {
          "output_type": "stream",
          "name": "stdout",
          "text": [
            "Epoch 1/5\n",
            "1125/1125 [==============================] - 47s 38ms/step - loss: 1.0210 - accuracy: 0.7746 - val_loss: 0.9382 - val_accuracy: 0.8320\n",
            "Epoch 2/5\n",
            "1125/1125 [==============================] - 41s 37ms/step - loss: 0.9399 - accuracy: 0.8313 - val_loss: 0.9242 - val_accuracy: 0.8376\n",
            "Epoch 3/5\n",
            "1125/1125 [==============================] - 43s 38ms/step - loss: 0.9366 - accuracy: 0.8339 - val_loss: 0.9121 - val_accuracy: 0.8472\n",
            "Epoch 4/5\n",
            "1125/1125 [==============================] - 43s 38ms/step - loss: 0.9239 - accuracy: 0.8431 - val_loss: 0.9024 - val_accuracy: 0.8575\n",
            "Epoch 5/5\n",
            "1125/1125 [==============================] - 41s 37ms/step - loss: 0.9230 - accuracy: 0.8455 - val_loss: 0.9026 - val_accuracy: 0.8509\n"
          ]
        }
      ]
    },
    {
      "cell_type": "code",
      "source": [
        "model_5_pred_probs = model_5.predict(val_pos_char_token_dataset, verbose=1)\n",
        "model_5_preds = tf.argmax(model_5_pred_probs, axis=1)\n",
        "model_5_preds"
      ],
      "metadata": {
        "colab": {
          "base_uri": "https://localhost:8080/"
        },
        "id": "Z5S2B64_6WXF",
        "outputId": "9276ebd0-8e03-436e-88d8-0928aa21a8a0"
      },
      "execution_count": 97,
      "outputs": [
        {
          "output_type": "stream",
          "name": "stdout",
          "text": [
            "945/945 [==============================] - 21s 21ms/step\n"
          ]
        },
        {
          "output_type": "execute_result",
          "data": {
            "text/plain": [
              "<tf.Tensor: shape=(30212,), dtype=int64, numpy=array([0, 0, 0, ..., 4, 4, 1])>"
            ]
          },
          "metadata": {},
          "execution_count": 97
        }
      ]
    },
    {
      "cell_type": "code",
      "source": [
        "# Calculate results of token-char-positional hybrid model\n",
        "model_5_results = calculate_results(y_true=val_labels_encoded,\n",
        "                                    y_pred=model_5_preds)\n",
        "model_5_results"
      ],
      "metadata": {
        "colab": {
          "base_uri": "https://localhost:8080/"
        },
        "id": "aGTeA-le6dgB",
        "outputId": "a922f943-aae8-443f-eedf-4e647ea85edd"
      },
      "execution_count": 98,
      "outputs": [
        {
          "output_type": "execute_result",
          "data": {
            "text/plain": [
              "{'accuracy': 85.01919766980008,\n",
              " 'precison': 0.8513667006768065,\n",
              " 'recall': 0.8501919766980008,\n",
              " 'f1 score': 0.8469965221726438}"
            ]
          },
          "metadata": {},
          "execution_count": 98
        }
      ]
    },
    {
      "cell_type": "markdown",
      "source": [
        "# Model_6-Coustom token embedded Cov1D + Char embedding+positional embedding"
      ],
      "metadata": {
        "id": "YcXNXmAl9P27"
      }
    },
    {
      "cell_type": "code",
      "source": [
        "#token_model\n",
        "token_inputs=layers.Input(shape=(1,),dtype=tf.string,name='token_inputs')\n",
        "text_vectors=text_vectorizer(token_inputs)\n",
        "token_embedd = token_embedding(text_vectors)\n",
        "x = layers.Conv1D(64, kernel_size=5, padding='same', activation='relu')(token_embedd)\n",
        "x = layers.Conv1D(64, kernel_size=5, padding='same', activation='relu')(x)\n",
        "x = layers.GlobalAveragePooling1D()(x)\n",
        "token_outputs=layers.Dense(128,activation='relu',name='token_outputs')(x)\n",
        "token_model=tf.keras.Model(inputs=token_inputs,\n",
        "                           outputs=token_outputs)\n",
        "\n",
        "#char_model\n",
        "char_inputs=layers.Input(shape=[1,],dtype=tf.string,name='char_inputs')\n",
        "char_vector=char_vectorizer(char_inputs)\n",
        "char_embedd=char_embedding(char_vector)\n",
        "char_bi_lstm=layers.Bidirectional(layers.LSTM(32))(char_embedd)\n",
        "char_outputs=layers.Dense(128,activation='relu')(char_bi_lstm)\n",
        "char_model = tf.keras.Model(inputs=char_inputs,\n",
        "                            outputs=char_outputs)\n",
        "\n",
        "#line_number_model\n",
        "line_number_inputs=layers.Input(shape=(17),dtype=tf.float32,name='line_number_inputs')\n",
        "x=layers.Dense(64,activation='relu')(line_number_inputs)\n",
        "line_number_model=tf.keras.Model(inputs=line_number_inputs,\n",
        "                                 outputs=x)\n",
        "\n",
        "\n",
        "#total lines model\n",
        "\n",
        "total_lines_inputs=layers.Input(shape=(20),dtype=tf.float32,name='total_lines_inputs')\n",
        "y=layers.Dense(64,activation='relu')(total_lines_inputs)\n",
        "total_line_model=tf.keras.Model(inputs=total_lines_inputs,\n",
        "                                outputs=y)\n",
        "\n",
        "#combining token and char models\n",
        "combined_embedd=layers.Concatenate(name='token_char_embedding')([token_model.output,\n",
        "                                                                 char_model.output])\n",
        "z=layers.Dense(256,activation='relu')(combined_embedd)\n",
        "z=layers.Dropout(0.5)(z)\n",
        "\n",
        "#combining the positional embedding with combined token and char embedding\n",
        "z = layers.Concatenate(name=\"token_char_positional_embedding\")([line_number_model.output,\n",
        "                                                                total_line_model.output,\n",
        "                                                                z])\n",
        "# creating the final output layer\n",
        "output_layer=layers.Dense(5,activation='softmax',name='output_layer')(z)\n",
        "\n",
        "\n",
        "#putting together the model\n",
        "model_6=tf.keras.Model(inputs=[token_model.input,\n",
        "                               char_model.input,\n",
        "                               line_number_model.input,\n",
        "                               total_line_model.input],\n",
        "                       outputs=output_layer)\n",
        "\n",
        "\n"
      ],
      "metadata": {
        "id": "fIvDqI-X9Dqv"
      },
      "execution_count": 99,
      "outputs": []
    },
    {
      "cell_type": "code",
      "source": [
        "plot_model(model_6)"
      ],
      "metadata": {
        "colab": {
          "base_uri": "https://localhost:8080/",
          "height": 1000
        },
        "id": "PKKDz8w6_GGy",
        "outputId": "8aca22c9-c0d8-4fa8-987c-cda8efe23d11"
      },
      "execution_count": 100,
      "outputs": [
        {
          "output_type": "execute_result",
          "data": {
            "image/png": "[encoded data removed]",
            "text/plain": [
              "<IPython.core.display.Image object>"
            ]
          },
          "metadata": {},
          "execution_count": 100
        }
      ]
    },
    {
      "cell_type": "code",
      "source": [
        "\n",
        "# Compile \n",
        "model_6.compile(loss=tf.keras.losses.CategoricalCrossentropy(label_smoothing=0.2),\n",
        "                optimizer=tf.keras.optimizers.Adam(),\n",
        "                metrics=[\"accuracy\"])\n",
        "     "
      ],
      "metadata": {
        "id": "-pTuq4M4_RzR"
      },
      "execution_count": 101,
      "outputs": []
    },
    {
      "cell_type": "code",
      "source": [
        "#fiting the model\n",
        "history_model_6 = model_6.fit(train_pos_char_token_dataset,\n",
        "                              steps_per_epoch=int(0.2 * len(train_pos_char_token_dataset)),\n",
        "                              epochs=5,\n",
        "                              validation_data=val_pos_char_token_dataset,\n",
        "                              validation_steps=int(0.2 * len(val_pos_char_token_dataset)))"
      ],
      "metadata": {
        "colab": {
          "base_uri": "https://localhost:8080/"
        },
        "id": "0S-PAApl_gXJ",
        "outputId": "fc4202a7-1661-453c-8bbb-da14f54edd92"
      },
      "execution_count": 102,
      "outputs": [
        {
          "output_type": "stream",
          "name": "stdout",
          "text": [
            "Epoch 1/5\n",
            "1125/1125 [==============================] - 43s 35ms/step - loss: 0.9462 - accuracy: 0.8256 - val_loss: 0.8869 - val_accuracy: 0.8543\n",
            "Epoch 2/5\n",
            "1125/1125 [==============================] - 39s 35ms/step - loss: 0.8747 - accuracy: 0.8725 - val_loss: 0.8838 - val_accuracy: 0.8578\n",
            "Epoch 3/5\n",
            "1125/1125 [==============================] - 40s 35ms/step - loss: 0.8700 - accuracy: 0.8761 - val_loss: 0.8747 - val_accuracy: 0.8616\n",
            "Epoch 4/5\n",
            "1125/1125 [==============================] - 38s 34ms/step - loss: 0.8610 - accuracy: 0.8804 - val_loss: 0.8733 - val_accuracy: 0.8624\n",
            "Epoch 5/5\n",
            "1125/1125 [==============================] - 38s 34ms/step - loss: 0.8622 - accuracy: 0.8797 - val_loss: 0.8829 - val_accuracy: 0.8614\n"
          ]
        }
      ]
    },
    {
      "cell_type": "code",
      "source": [
        "model_6_pred_probs = model_6.predict(val_pos_char_token_dataset, verbose=1)\n",
        "model_6_preds = tf.argmax(model_6_pred_probs, axis=1)\n",
        "model_6_preds"
      ],
      "metadata": {
        "colab": {
          "base_uri": "https://localhost:8080/"
        },
        "id": "vHb2k0L_Ac8N",
        "outputId": "238ad102-5e6b-4d4e-8acf-05e605d9d245"
      },
      "execution_count": 103,
      "outputs": [
        {
          "output_type": "stream",
          "name": "stdout",
          "text": [
            "945/945 [==============================] - 13s 12ms/step\n"
          ]
        },
        {
          "output_type": "execute_result",
          "data": {
            "text/plain": [
              "<tf.Tensor: shape=(30212,), dtype=int64, numpy=array([0, 0, 3, ..., 4, 1, 1])>"
            ]
          },
          "metadata": {},
          "execution_count": 103
        }
      ]
    },
    {
      "cell_type": "code",
      "source": [
        "# Calculating the results\n",
        "model_6_results = calculate_results(y_true=val_labels_encoded,\n",
        "                                    y_pred=model_6_preds)\n",
        "model_6_results"
      ],
      "metadata": {
        "colab": {
          "base_uri": "https://localhost:8080/"
        },
        "id": "t8NTitciAl8_",
        "outputId": "390ec4af-124b-40ed-93f7-647f8b9e21c5"
      },
      "execution_count": 104,
      "outputs": [
        {
          "output_type": "execute_result",
          "data": {
            "text/plain": [
              "{'accuracy': 86.02542036276975,\n",
              " 'precison': 0.8655585889269385,\n",
              " 'recall': 0.8602542036276976,\n",
              " 'f1 score': 0.8573816444431355}"
            ]
          },
          "metadata": {},
          "execution_count": 104
        }
      ]
    },
    {
      "cell_type": "markdown",
      "source": [
        "# comparing all the model results"
      ],
      "metadata": {
        "id": "Cqm89BHKBaoB"
      }
    },
    {
      "cell_type": "code",
      "source": [
        "# Combining all models results into a DataFrame\n",
        "all_model_results = pd.DataFrame({\"baseline\": baseline_results,\n",
        "                                  \"custom_token_embed_conv1d\": model_1_results,\n",
        "                                  \"pretrained_token_embed\": model_2_results,\n",
        "                                  \"custom_char_embed_conv1d\": model_3_results,\n",
        "                                  \"char_token_embed\": model_4_results,\n",
        "                                  \"pos_char_token_embed\": model_5_results,\n",
        "                                  \"Con1D_char_pos_embed\": model_6_results})\n",
        "all_model_results = all_model_results.transpose()\n",
        "all_model_results"
      ],
      "metadata": {
        "colab": {
          "base_uri": "https://localhost:8080/",
          "height": 269
        },
        "id": "TEddnnbWB2Qp",
        "outputId": "a7fa246a-7fa3-41f8-a1c6-9de12ce11e68"
      },
      "execution_count": 105,
      "outputs": [
        {
          "output_type": "execute_result",
          "data": {
            "text/plain": [
              "                            accuracy  precison    recall  f1 score\n",
              "baseline                   72.183238  0.718647  0.721832  0.698925\n",
              "custom_token_embed_conv1d  82.149477  0.820903  0.821495  0.818209\n",
              "pretrained_token_embed     75.900305  0.753806  0.759003  0.754283\n",
              "custom_char_embed_conv1d   72.937905  0.732528  0.729379  0.722581\n",
              "char_token_embed           76.247849  0.759393  0.762478  0.758111\n",
              "pos_char_token_embed       85.019198  0.851367  0.850192  0.846997\n",
              "Con1D_char_pos_embed       86.025420  0.865559  0.860254  0.857382"
            ],
            "text/html": [
              "\n",
              "  <div id=\"df-918f8320-a086-442e-8f79-b987540b196e\">\n",
              "    <div class=\"colab-df-container\">\n",
              "      <div>\n",
              "<style scoped>\n",
              "    .dataframe tbody tr th:only-of-type {\n",
              "        vertical-align: middle;\n",
              "    }\n",
              "\n",
              "    .dataframe tbody tr th {\n",
              "        vertical-align: top;\n",
              "    }\n",
              "\n",
              "    .dataframe thead th {\n",
              "        text-align: right;\n",
              "    }\n",
              "</style>\n",
              "<table border=\"1\" class=\"dataframe\">\n",
              "  <thead>\n",
              "    <tr style=\"text-align: right;\">\n",
              "      <th></th>\n",
              "      <th>accuracy</th>\n",
              "      <th>precison</th>\n",
              "      <th>recall</th>\n",
              "      <th>f1 score</th>\n",
              "    </tr>\n",
              "  </thead>\n",
              "  <tbody>\n",
              "    <tr>\n",
              "      <th>baseline</th>\n",
              "      <td>72.183238</td>\n",
              "      <td>0.718647</td>\n",
              "      <td>0.721832</td>\n",
              "      <td>0.698925</td>\n",
              "    </tr>\n",
              "    <tr>\n",
              "      <th>custom_token_embed_conv1d</th>\n",
              "      <td>82.149477</td>\n",
              "      <td>0.820903</td>\n",
              "      <td>0.821495</td>\n",
              "      <td>0.818209</td>\n",
              "    </tr>\n",
              "    <tr>\n",
              "      <th>pretrained_token_embed</th>\n",
              "      <td>75.900305</td>\n",
              "      <td>0.753806</td>\n",
              "      <td>0.759003</td>\n",
              "      <td>0.754283</td>\n",
              "    </tr>\n",
              "    <tr>\n",
              "      <th>custom_char_embed_conv1d</th>\n",
              "      <td>72.937905</td>\n",
              "      <td>0.732528</td>\n",
              "      <td>0.729379</td>\n",
              "      <td>0.722581</td>\n",
              "    </tr>\n",
              "    <tr>\n",
              "      <th>char_token_embed</th>\n",
              "      <td>76.247849</td>\n",
              "      <td>0.759393</td>\n",
              "      <td>0.762478</td>\n",
              "      <td>0.758111</td>\n",
              "    </tr>\n",
              "    <tr>\n",
              "      <th>pos_char_token_embed</th>\n",
              "      <td>85.019198</td>\n",
              "      <td>0.851367</td>\n",
              "      <td>0.850192</td>\n",
              "      <td>0.846997</td>\n",
              "    </tr>\n",
              "    <tr>\n",
              "      <th>Con1D_char_pos_embed</th>\n",
              "      <td>86.025420</td>\n",
              "      <td>0.865559</td>\n",
              "      <td>0.860254</td>\n",
              "      <td>0.857382</td>\n",
              "    </tr>\n",
              "  </tbody>\n",
              "</table>\n",
              "</div>\n",
              "      <button class=\"colab-df-convert\" onclick=\"convertToInteractive('df-918f8320-a086-442e-8f79-b987540b196e')\"\n",
              "              title=\"Convert this dataframe to an interactive table.\"\n",
              "              style=\"display:none;\">\n",
              "        \n",
              "  <svg xmlns=\"http://www.w3.org/2000/svg\" height=\"24px\"viewBox=\"0 0 24 24\"\n",
              "       width=\"24px\">\n",
              "    <path d=\"M0 0h24v24H0V0z\" fill=\"none\"/>\n",
              "    <path d=\"M18.56 5.44l.94 2.06.94-2.06 2.06-.94-2.06-.94-.94-2.06-.94 2.06-2.06.94zm-11 1L8.5 8.5l.94-2.06 2.06-.94-2.06-.94L8.5 2.5l-.94 2.06-2.06.94zm10 10l.94 2.06.94-2.06 2.06-.94-2.06-.94-.94-2.06-.94 2.06-2.06.94z\"/><path d=\"M17.41 7.96l-1.37-1.37c-.4-.4-.92-.59-1.43-.59-.52 0-1.04.2-1.43.59L10.3 9.45l-7.72 7.72c-.78.78-.78 2.05 0 2.83L4 21.41c.39.39.9.59 1.41.59.51 0 1.02-.2 1.41-.59l7.78-7.78 2.81-2.81c.8-.78.8-2.07 0-2.86zM5.41 20L4 18.59l7.72-7.72 1.47 1.35L5.41 20z\"/>\n",
              "  </svg>\n",
              "      </button>\n",
              "      \n",
              "  <style>\n",
              "    .colab-df-container {\n",
              "      display:flex;\n",
              "      flex-wrap:wrap;\n",
              "      gap: 12px;\n",
              "    }\n",
              "\n",
              "    .colab-df-convert {\n",
              "      background-color: #E8F0FE;\n",
              "      border: none;\n",
              "      border-radius: 50%;\n",
              "      cursor: pointer;\n",
              "      display: none;\n",
              "      fill: #1967D2;\n",
              "      height: 32px;\n",
              "      padding: 0 0 0 0;\n",
              "      width: 32px;\n",
              "    }\n",
              "\n",
              "    .colab-df-convert:hover {\n",
              "      background-color: #E2EBFA;\n",
              "      box-shadow: 0px 1px 2px rgba(60, 64, 67, 0.3), 0px 1px 3px 1px rgba(60, 64, 67, 0.15);\n",
              "      fill: #174EA6;\n",
              "    }\n",
              "\n",
              "    [theme=dark] .colab-df-convert {\n",
              "      background-color: #3B4455;\n",
              "      fill: #D2E3FC;\n",
              "    }\n",
              "\n",
              "    [theme=dark] .colab-df-convert:hover {\n",
              "      background-color: #434B5C;\n",
              "      box-shadow: 0px 1px 3px 1px rgba(0, 0, 0, 0.15);\n",
              "      filter: drop-shadow(0px 1px 2px rgba(0, 0, 0, 0.3));\n",
              "      fill: #FFFFFF;\n",
              "    }\n",
              "  </style>\n",
              "\n",
              "      <script>\n",
              "        const buttonEl =\n",
              "          document.querySelector('#df-918f8320-a086-442e-8f79-b987540b196e button.colab-df-convert');\n",
              "        buttonEl.style.display =\n",
              "          google.colab.kernel.accessAllowed ? 'block' : 'none';\n",
              "\n",
              "        async function convertToInteractive(key) {\n",
              "          const element = document.querySelector('#df-918f8320-a086-442e-8f79-b987540b196e');\n",
              "          const dataTable =\n",
              "            await google.colab.kernel.invokeFunction('convertToInteractive',\n",
              "                                                     [key], {});\n",
              "          if (!dataTable) return;\n",
              "\n",
              "          const docLinkHtml = 'Like what you see? Visit the ' +\n",
              "            '<a target=\"_blank\" href=https://colab.research.google.com/notebooks/data_table.ipynb>data table notebook</a>'\n",
              "            + ' to learn more about interactive tables.';\n",
              "          element.innerHTML = '';\n",
              "          dataTable['output_type'] = 'display_data';\n",
              "          await google.colab.output.renderOutput(dataTable, element);\n",
              "          const docLink = document.createElement('div');\n",
              "          docLink.innerHTML = docLinkHtml;\n",
              "          element.appendChild(docLink);\n",
              "        }\n",
              "      </script>\n",
              "    </div>\n",
              "  </div>\n",
              "  "
            ]
          },
          "metadata": {},
          "execution_count": 105
        }
      ]
    },
    {
      "cell_type": "code",
      "source": [
        "import matplotlib.pyplot as plt\n",
        "import seaborn as sns\n",
        "\n",
        "plt.figure(figsize=(15,8))\n",
        "plt.xticks(rotation=50,size=15)\n",
        "sns.barplot(all_model_results.index,all_model_results['accuracy'])\n",
        "plt.xlabel('models', fontsize=15)\n",
        "plt.ylabel('Accuracy', fontsize=15);"
      ],
      "metadata": {
        "colab": {
          "base_uri": "https://localhost:8080/",
          "height": 733
        },
        "id": "mqigm4tfCbIk",
        "outputId": "180028d8-3d06-4d99-ef26-2301a80b8574"
      },
      "execution_count": 106,
      "outputs": [
        {
          "output_type": "stream",
          "name": "stderr",
          "text": [
            "/usr/local/lib/python3.8/dist-packages/seaborn/_decorators.py:36: FutureWarning: Pass the following variables as keyword args: x, y. From version 0.12, the only valid positional argument will be `data`, and passing other arguments without an explicit keyword will result in an error or misinterpretation.\n",
            "  warnings.warn(\n"
          ]
        },
        {
          "output_type": "display_data",
          "data": {
            "text/plain": [
              "<Figure size 1080x576 with 1 Axes>"
            ],
            "image/png": "[encoded data removed]"
          },
          "metadata": {
            "needs_background": "light"
          }
        }
      ]
    },
    {
      "cell_type": "code",
      "source": [
        "# Reduce the accuracy to same scale as other metrics\n",
        "all_model_results[\"accuracy\"] = all_model_results[\"accuracy\"]/100\n",
        "all_model_results.plot(kind='barh',figsize=(14,8)).legend(bbox_to_anchor=(1.0, 1.0));"
      ],
      "metadata": {
        "colab": {
          "base_uri": "https://localhost:8080/",
          "height": 483
        },
        "id": "j4uFvqFZH39q",
        "outputId": "63cceda1-32b9-499e-b9c7-3304c924c4d2"
      },
      "execution_count": 107,
      "outputs": [
        {
          "output_type": "display_data",
          "data": {
            "text/plain": [
              "<Figure size 1008x576 with 1 Axes>"
            ],
            "image/png": "[encoded data removed]"
          },
          "metadata": {
            "needs_background": "light"
          }
        }
      ]
    },
    {
      "cell_type": "code",
      "source": [
        "all_model_results.sort_values(\"f1 score\", ascending=True)[\"f1 score\"].plot(kind=\"barh\", figsize=(10, 7),color='darkslategrey');"
      ],
      "metadata": {
        "colab": {
          "base_uri": "https://localhost:8080/",
          "height": 428
        },
        "id": "tXyfD9UOI4hb",
        "outputId": "58128015-cb63-4c1b-b04f-13819b99b283"
      },
      "execution_count": 108,
      "outputs": [
        {
          "output_type": "display_data",
          "data": {
            "text/plain": [
              "<Figure size 720x504 with 1 Axes>"
            ],
            "image/png": "[encoded data removed]"
          },
          "metadata": {
            "needs_background": "light"
          }
        }
      ]
    },
    {
      "cell_type": "code",
      "source": [],
      "metadata": {
        "id": "V9bCCYROKL3I"
      },
      "execution_count": 108,
      "outputs": []
    },
    {
      "cell_type": "markdown",
      "source": [
        "# saving the best performing model"
      ],
      "metadata": {
        "id": "jLVKbC_Ar-YO"
      }
    },
    {
      "cell_type": "code",
      "source": [
        "#model_6.save(\"/content/drive/MyDrive/tensorflow_models/skimlit_tribrid_model\") # model will be saved to path specified by string"
      ],
      "metadata": {
        "id": "jdQ_ZmGXsC0u"
      },
      "execution_count": 109,
      "outputs": []
    },
    {
      "cell_type": "code",
      "source": [
        "# Load downloaded model from Google Storage\n",
        "loaded_model = tf.keras.models.load_model('/content/drive/MyDrive/tensorflow_models/skimlit_tribrid_model')"
      ],
      "metadata": {
        "id": "4Y8xVnyK00oQ"
      },
      "execution_count": 110,
      "outputs": []
    },
    {
      "cell_type": "code",
      "source": [
        "\n",
        "# Make predictions with the loaded model on the validation set\n",
        "loaded_pred_probs = loaded_model.predict(val_pos_char_token_dataset, verbose=1)\n",
        "loaded_preds = tf.argmax(loaded_pred_probs, axis=1)\n",
        "loaded_preds[:10]"
      ],
      "metadata": {
        "colab": {
          "base_uri": "https://localhost:8080/"
        },
        "id": "cMq9MGav1DA3",
        "outputId": "5e868f13-2b87-4bc6-bd9a-8ef0896c5c3c"
      },
      "execution_count": 111,
      "outputs": [
        {
          "output_type": "stream",
          "name": "stdout",
          "text": [
            "945/945 [==============================] - 13s 13ms/step\n"
          ]
        },
        {
          "output_type": "execute_result",
          "data": {
            "text/plain": [
              "<tf.Tensor: shape=(10,), dtype=int64, numpy=array([0, 0, 3, 2, 2, 4, 4, 4, 4, 1])>"
            ]
          },
          "metadata": {},
          "execution_count": 111
        }
      ]
    },
    {
      "cell_type": "code",
      "source": [
        "loaded_model_results = calculate_results(val_labels_encoded,\n",
        "                                         loaded_preds)\n",
        "loaded_model_results"
      ],
      "metadata": {
        "colab": {
          "base_uri": "https://localhost:8080/"
        },
        "id": "KMl0m5081Gy0",
        "outputId": "39bbe812-e25c-4889-914d-d2650615090d"
      },
      "execution_count": 112,
      "outputs": [
        {
          "output_type": "execute_result",
          "data": {
            "text/plain": [
              "{'accuracy': 86.50867205084073,\n",
              " 'precison': 0.8676754598842913,\n",
              " 'recall': 0.8650867205084073,\n",
              " 'f1 score': 0.8621504747553853}"
            ]
          },
          "metadata": {},
          "execution_count": 112
        }
      ]
    },
    {
      "cell_type": "code",
      "source": [
        "\n",
        "# Compare loaded model results with original trained model results (should be quite close)\n",
        "np.isclose(list(model_6_results.values()), list(loaded_model_results.values()), rtol=1e-02)"
      ],
      "metadata": {
        "colab": {
          "base_uri": "https://localhost:8080/"
        },
        "id": "yAwDXFx01MxW",
        "outputId": "2557decd-0245-4b3d-f785-17e228c94211"
      },
      "execution_count": 113,
      "outputs": [
        {
          "output_type": "execute_result",
          "data": {
            "text/plain": [
              "array([ True,  True,  True,  True])"
            ]
          },
          "metadata": {},
          "execution_count": 113
        }
      ]
    },
    {
      "cell_type": "markdown",
      "source": [
        "# Evaluating the model on test Data"
      ],
      "metadata": {
        "id": "IrXqUgn41Xo0"
      }
    },
    {
      "cell_type": "code",
      "source": [
        "\n",
        "# Create test dataset batch and prefetched\n",
        "test_pos_char_token_data = tf.data.Dataset.from_tensor_slices((test_sentences,test_char,test_line_numbers_one_hot,\n",
        "                                                                test_total_lines_one_hot))\n",
        "test_pos_char_token_labels = tf.data.Dataset.from_tensor_slices(test_labes_one_hot)\n",
        "test_pos_char_token_dataset = tf.data.Dataset.zip((test_pos_char_token_data, test_pos_char_token_labels))\n",
        "test_pos_char_token_dataset = test_pos_char_token_dataset.batch(32).prefetch(tf.data.AUTOTUNE)"
      ],
      "metadata": {
        "id": "AB7zxPRW1Tw9"
      },
      "execution_count": 114,
      "outputs": []
    },
    {
      "cell_type": "code",
      "source": [
        "test_pred_probs = loaded_model.predict(test_pos_char_token_dataset,verbose=1)\n",
        "test_preds = tf.argmax(test_pred_probs, axis=1)"
      ],
      "metadata": {
        "colab": {
          "base_uri": "https://localhost:8080/"
        },
        "id": "PX10JuVb1_xd",
        "outputId": "7653f090-6d35-4207-a5ae-286d6e8941ba"
      },
      "execution_count": 115,
      "outputs": [
        {
          "output_type": "stream",
          "name": "stdout",
          "text": [
            "942/942 [==============================] - 13s 14ms/step\n"
          ]
        }
      ]
    },
    {
      "cell_type": "code",
      "source": [
        "# Evaluate loaded model test predictions\n",
        "loaded_model_test_results = calculate_results(y_true=test_labels_encoded,\n",
        "                                              y_pred=test_preds)\n",
        "loaded_model_test_results"
      ],
      "metadata": {
        "colab": {
          "base_uri": "https://localhost:8080/"
        },
        "id": "9N39ryuJ3GXY",
        "outputId": "bf638aa0-48e9-4caa-f533-72dd221323a5"
      },
      "execution_count": 116,
      "outputs": [
        {
          "output_type": "execute_result",
          "data": {
            "text/plain": [
              "{'accuracy': 86.19877219180356,\n",
              " 'precison': 0.8635046822758256,\n",
              " 'recall': 0.8619877219180355,\n",
              " 'f1 score': 0.8588665335587782}"
            ]
          },
          "metadata": {},
          "execution_count": 116
        }
      ]
    },
    {
      "cell_type": "markdown",
      "source": [
        "# Making sample predictions"
      ],
      "metadata": {
        "id": "mg1MP8WI442c"
      }
    },
    {
      "cell_type": "code",
      "source": [
        "import json"
      ],
      "metadata": {
        "id": "-EXZv-PvW966"
      },
      "execution_count": 117,
      "outputs": []
    },
    {
      "cell_type": "code",
      "source": [
        "\n",
        "# Download and open example abstracts (copy and pasted from PubMed)\n",
        "!wget https://raw.githubusercontent.com/Hirann97/tensorflow_deeplearning/main/deep%20learning%20-%20my%20learning%20pathways/skimlit_sample.json\n",
        "\n",
        "with open(\"skimlit_sample.json\", \"r\") as f:\n",
        "  example_abstracts = json.load(f)\n",
        "\n",
        "example_abstracts"
      ],
      "metadata": {
        "colab": {
          "base_uri": "https://localhost:8080/"
        },
        "id": "33KUGiic4-uz",
        "outputId": "2c999ea9-8ada-46f8-e5a1-0d6d13178128"
      },
      "execution_count": 118,
      "outputs": [
        {
          "output_type": "stream",
          "name": "stdout",
          "text": [
            "--2023-01-04 12:47:10--  https://raw.githubusercontent.com/Hirann97/tensorflow_deeplearning/main/deep%20learning%20-%20my%20learning%20pathways/skimlit_sample.json\n",
            "Resolving raw.githubusercontent.com (raw.githubusercontent.com)... 185.199.111.133, 185.199.109.133, 185.199.110.133, ...\n",
            "Connecting to raw.githubusercontent.com (raw.githubusercontent.com)|185.199.111.133|:443... connected.\n",
            "HTTP request sent, awaiting response... 200 OK\n",
            "Length: 9394 (9.2K) [text/plain]\n",
            "Saving to: ‘skimlit_sample.json’\n",
            "\n",
            "skimlit_sample.json 100%[===================>]   9.17K  --.-KB/s    in 0s      \n",
            "\n",
            "2023-01-04 12:47:10 (70.8 MB/s) - ‘skimlit_sample.json’ saved [9394/9394]\n",
            "\n"
          ]
        },
        {
          "output_type": "execute_result",
          "data": {
            "text/plain": [
              "[{'abstract': 'The aim of the present systematic review and meta-analysis was to gain further insight into the effects of adherence to Mediterranean Diet (MedD) on risk of overall cancer mortality, risk of different types of cancer, and cancer mortality and recurrence risk in cancer survivors. Literature search was performed using the electronic databases PubMed, and Scopus until 25 August 2017. We included randomized trials (RCTs), cohort (for specific tumors only incidence cases were used) studies, and case-control studies. Study-specific risk ratios, hazard ratios, and odds ratios (RR/HR/OR) were pooled using a random effects model. Observational studies (cohort and case-control studies), and intervention trials were meta-analyzed separately. The updated review process showed 27 studies that were not included in the previous meta-analysis (total number of studies evaluated: 83 studies). An overall population of 2,130,753 subjects was included in the present update. The highest adherence score to a MedD was inversely associated with a lower risk of cancer mortality (RRcohort: 0.86, 95% CI 0.81 to 0.91, I² = 82%; n = 14 studies), colorectal cancer (RRobservational: 0.82, 95% CI 0.75 to 0.88, I² = 73%; n = 11 studies), breast cancer (RRRCT: 0.43, 95% CI 0.21 to 0.88, n = 1 study) (RRobservational: 0.92, 95% CI 0.87 to 0.96, I² = 22%, n = 16 studies), gastric cancer (RRobservational: 0.72, 95% CI 0.60 to 0.86, I² = 55%; n = 4 studies), liver cancer (RRobservational: 0.58, 95% CI 0.46 to 0.73, I² = 0%; n = 2 studies), head and neck cancer (RRobservational: 0.49, 95% CI 0.37 to 0.66, I² = 87%; n = 7 studies), and prostate cancer (RRobservational: 0.96, 95% CI 0.92 to 1.00, I² = 0%; n = 6 studies). Among cancer survivors, the association between the adherence to the highest MedD category and risk of cancer mortality, and cancer recurrence was not statistically significant. Pooled analyses of individual components of the MedD revealed that the protective effects appear to be most attributable to fruits, vegetables, and whole grains. The updated meta-analysis confirms an important inverse association between adherence to a MedD and cancer mortality and risk of several cancer types, especially colorectal cancer. These observed beneficial effects are mainly driven by higher intakes of fruits, vegetables, and whole grains. Moreover, we were able to report for the first time a small decrease in breast cancer risk (6%) by pooling seven cohort studies.',\n",
              "  'source': 'https://pubmed.ncbi.nlm.nih.gov/28954418/',\n",
              "  'details': 'Adherence to Mediterranean Diet and Risk of Cancer: An Updated Systematic Review and Meta-Analysis'},\n",
              " {'abstract': 'This RCT examined the efficacy of a manualized social intervention for children with HFASDs. Participants were randomly assigned to treatment or wait-list conditions. Treatment included instruction and therapeutic activities targeting social skills, face-emotion recognition, interest expansion, and interpretation of non-literal language. A response-cost program was applied to reduce problem behaviors and foster skills acquisition. Significant treatment effects were found for five of seven primary outcome measures (parent ratings and direct child measures). Secondary measures based on staff ratings (treatment group only) corroborated gains reported by parents. High levels of parent, child and staff satisfaction were reported, along with high levels of treatment fidelity. Standardized effect size estimates were primarily in the medium and large ranges and favored the treatment group.',\n",
              "  'source': 'https://pubmed.ncbi.nlm.nih.gov/20232240/',\n",
              "  'details': 'RCT of a manualized social treatment for high-functioning autism spectrum disorders'},\n",
              " {'abstract': \"Postpartum depression (PPD) is the most prevalent mood disorder associated with childbirth. No single cause of PPD has been identified, however the increased risk of nutritional deficiencies incurred through the high nutritional requirements of pregnancy may play a role in the pathology of depressive symptoms. Three nutritional interventions have drawn particular interest as possible non-invasive and cost-effective prevention and/or treatment strategies for PPD; omega-3 (n-3) long chain polyunsaturated fatty acids (LCPUFA), vitamin D and overall diet. We searched for meta-analyses of randomised controlled trials (RCT's) of nutritional interventions during the perinatal period with PPD as an outcome, and checked for any trials published subsequently to the meta-analyses. Fish oil: Eleven RCT's of prenatal fish oil supplementation RCT's show null and positive effects on PPD symptoms. Vitamin D: no relevant RCT's were identified, however seven observational studies of maternal vitamin D levels with PPD outcomes showed inconsistent associations. Diet: Two Australian RCT's with dietary advice interventions in pregnancy had a positive and null result on PPD. With the exception of fish oil, few RCT's with nutritional interventions during pregnancy assess PPD. Further research is needed to determine whether nutritional intervention strategies during pregnancy can protect against symptoms of PPD. Given the prevalence of PPD and ease of administering PPD measures, we recommend future prenatal nutritional RCT's include PPD as an outcome.\",\n",
              "  'source': 'https://pubmed.ncbi.nlm.nih.gov/28012571/',\n",
              "  'details': 'Formatting removed (can be used to compare model to actual example)'},\n",
              " {'abstract': 'Mental illness, including depression, anxiety and bipolar disorder, accounts for a significant proportion of global disability and poses a substantial social, economic and heath burden. Treatment is presently dominated by pharmacotherapy, such as antidepressants, and psychotherapy, such as cognitive behavioural therapy; however, such treatments avert less than half of the disease burden, suggesting that additional strategies are needed to prevent and treat mental disorders. There are now consistent mechanistic, observational and interventional data to suggest diet quality may be a modifiable risk factor for mental illness. This review provides an overview of the nutritional psychiatry field. It includes a discussion of the neurobiological mechanisms likely modulated by diet, the use of dietary and nutraceutical interventions in mental disorders, and recommendations for further research. Potential biological pathways related to mental disorders include inflammation, oxidative stress, the gut microbiome, epigenetic modifications and neuroplasticity. Consistent epidemiological evidence, particularly for depression, suggests an association between measures of diet quality and mental health, across multiple populations and age groups; these do not appear to be explained by other demographic, lifestyle factors or reverse causality. Our recently published intervention trial provides preliminary clinical evidence that dietary interventions in clinically diagnosed populations are feasible and can provide significant clinical benefit. Furthermore, nutraceuticals including n-3 fatty acids, folate, S-adenosylmethionine, N-acetyl cysteine and probiotics, among others, are promising avenues for future research. Continued research is now required to investigate the efficacy of intervention studies in large cohorts and within clinically relevant populations, particularly in patients with schizophrenia, bipolar and anxiety disorders.',\n",
              "  'source': 'https://pubmed.ncbi.nlm.nih.gov/28942748/',\n",
              "  'details': 'Effect of nutrition on mental health'},\n",
              " {'abstract': \"Hepatitis C virus (HCV) and alcoholic liver disease (ALD), either alone or in combination, count for more than two thirds of all liver diseases in the Western world. There is no safe level of drinking in HCV-infected patients and the most effective goal for these patients is total abstinence. Baclofen, a GABA(B) receptor agonist, represents a promising pharmacotherapy for alcohol dependence (AD). Previously, we performed a randomized clinical trial (RCT), which demonstrated the safety and efficacy of baclofen in patients affected by AD and cirrhosis. The goal of this post-hoc analysis was to explore baclofen's effect in a subgroup of alcohol-dependent HCV-infected cirrhotic patients. Any patient with HCV infection was selected for this analysis. Among the 84 subjects randomized in the main trial, 24 alcohol-dependent cirrhotic patients had a HCV infection; 12 received baclofen 10mg t.i.d. and 12 received placebo for 12-weeks. With respect to the placebo group (3/12, 25.0%), a significantly higher number of patients who achieved and maintained total alcohol abstinence was found in the baclofen group (10/12, 83.3%; p=0.0123). Furthermore, in the baclofen group, compared to placebo, there was a significantly higher increase in albumin values from baseline (p=0.0132) and a trend toward a significant reduction in INR levels from baseline (p=0.0716). In conclusion, baclofen was safe and significantly more effective than placebo in promoting alcohol abstinence, and improving some Liver Function Tests (LFTs) (i.e. albumin, INR) in alcohol-dependent HCV-infected cirrhotic patients. Baclofen may represent a clinically relevant alcohol pharmacotherapy for these patients.\",\n",
              "  'source': 'https://pubmed.ncbi.nlm.nih.gov/22244707/',\n",
              "  'details': 'Baclofen promotes alcohol abstinence in alcohol dependent cirrhotic patients with hepatitis C virus (HCV) infection'}]"
            ]
          },
          "metadata": {},
          "execution_count": 118
        }
      ]
    },
    {
      "cell_type": "code",
      "source": [
        "abstracts = pd.DataFrame(example_abstracts)\n",
        "abstracts\n",
        "     "
      ],
      "metadata": {
        "colab": {
          "base_uri": "https://localhost:8080/",
          "height": 206
        },
        "id": "UcPsLHOMVvss",
        "outputId": "56ec996e-f717-4f07-8dff-663db6301a6b"
      },
      "execution_count": 119,
      "outputs": [
        {
          "output_type": "execute_result",
          "data": {
            "text/plain": [
              "                                            abstract  \\\n",
              "0  The aim of the present systematic review and m...   \n",
              "1  This RCT examined the efficacy of a manualized...   \n",
              "2  Postpartum depression (PPD) is the most preval...   \n",
              "3  Mental illness, including depression, anxiety ...   \n",
              "4  Hepatitis C virus (HCV) and alcoholic liver di...   \n",
              "\n",
              "                                      source  \\\n",
              "0  https://pubmed.ncbi.nlm.nih.gov/28954418/   \n",
              "1  https://pubmed.ncbi.nlm.nih.gov/20232240/   \n",
              "2  https://pubmed.ncbi.nlm.nih.gov/28012571/   \n",
              "3  https://pubmed.ncbi.nlm.nih.gov/28942748/   \n",
              "4  https://pubmed.ncbi.nlm.nih.gov/22244707/   \n",
              "\n",
              "                                             details  \n",
              "0  Adherence to Mediterranean Diet and Risk of Ca...  \n",
              "1  RCT of a manualized social treatment for high-...  \n",
              "2  Formatting removed (can be used to compare mod...  \n",
              "3               Effect of nutrition on mental health  \n",
              "4  Baclofen promotes alcohol abstinence in alcoho...  "
            ],
            "text/html": [
              "\n",
              "  <div id=\"df-be011252-d1f3-4bda-a272-67099936c8ac\">\n",
              "    <div class=\"colab-df-container\">\n",
              "      <div>\n",
              "<style scoped>\n",
              "    .dataframe tbody tr th:only-of-type {\n",
              "        vertical-align: middle;\n",
              "    }\n",
              "\n",
              "    .dataframe tbody tr th {\n",
              "        vertical-align: top;\n",
              "    }\n",
              "\n",
              "    .dataframe thead th {\n",
              "        text-align: right;\n",
              "    }\n",
              "</style>\n",
              "<table border=\"1\" class=\"dataframe\">\n",
              "  <thead>\n",
              "    <tr style=\"text-align: right;\">\n",
              "      <th></th>\n",
              "      <th>abstract</th>\n",
              "      <th>source</th>\n",
              "      <th>details</th>\n",
              "    </tr>\n",
              "  </thead>\n",
              "  <tbody>\n",
              "    <tr>\n",
              "      <th>0</th>\n",
              "      <td>The aim of the present systematic review and m...</td>\n",
              "      <td>https://pubmed.ncbi.nlm.nih.gov/28954418/</td>\n",
              "      <td>Adherence to Mediterranean Diet and Risk of Ca...</td>\n",
              "    </tr>\n",
              "    <tr>\n",
              "      <th>1</th>\n",
              "      <td>This RCT examined the efficacy of a manualized...</td>\n",
              "      <td>https://pubmed.ncbi.nlm.nih.gov/20232240/</td>\n",
              "      <td>RCT of a manualized social treatment for high-...</td>\n",
              "    </tr>\n",
              "    <tr>\n",
              "      <th>2</th>\n",
              "      <td>Postpartum depression (PPD) is the most preval...</td>\n",
              "      <td>https://pubmed.ncbi.nlm.nih.gov/28012571/</td>\n",
              "      <td>Formatting removed (can be used to compare mod...</td>\n",
              "    </tr>\n",
              "    <tr>\n",
              "      <th>3</th>\n",
              "      <td>Mental illness, including depression, anxiety ...</td>\n",
              "      <td>https://pubmed.ncbi.nlm.nih.gov/28942748/</td>\n",
              "      <td>Effect of nutrition on mental health</td>\n",
              "    </tr>\n",
              "    <tr>\n",
              "      <th>4</th>\n",
              "      <td>Hepatitis C virus (HCV) and alcoholic liver di...</td>\n",
              "      <td>https://pubmed.ncbi.nlm.nih.gov/22244707/</td>\n",
              "      <td>Baclofen promotes alcohol abstinence in alcoho...</td>\n",
              "    </tr>\n",
              "  </tbody>\n",
              "</table>\n",
              "</div>\n",
              "      <button class=\"colab-df-convert\" onclick=\"convertToInteractive('df-be011252-d1f3-4bda-a272-67099936c8ac')\"\n",
              "              title=\"Convert this dataframe to an interactive table.\"\n",
              "              style=\"display:none;\">\n",
              "        \n",
              "  <svg xmlns=\"http://www.w3.org/2000/svg\" height=\"24px\"viewBox=\"0 0 24 24\"\n",
              "       width=\"24px\">\n",
              "    <path d=\"M0 0h24v24H0V0z\" fill=\"none\"/>\n",
              "    <path d=\"M18.56 5.44l.94 2.06.94-2.06 2.06-.94-2.06-.94-.94-2.06-.94 2.06-2.06.94zm-11 1L8.5 8.5l.94-2.06 2.06-.94-2.06-.94L8.5 2.5l-.94 2.06-2.06.94zm10 10l.94 2.06.94-2.06 2.06-.94-2.06-.94-.94-2.06-.94 2.06-2.06.94z\"/><path d=\"M17.41 7.96l-1.37-1.37c-.4-.4-.92-.59-1.43-.59-.52 0-1.04.2-1.43.59L10.3 9.45l-7.72 7.72c-.78.78-.78 2.05 0 2.83L4 21.41c.39.39.9.59 1.41.59.51 0 1.02-.2 1.41-.59l7.78-7.78 2.81-2.81c.8-.78.8-2.07 0-2.86zM5.41 20L4 18.59l7.72-7.72 1.47 1.35L5.41 20z\"/>\n",
              "  </svg>\n",
              "      </button>\n",
              "      \n",
              "  <style>\n",
              "    .colab-df-container {\n",
              "      display:flex;\n",
              "      flex-wrap:wrap;\n",
              "      gap: 12px;\n",
              "    }\n",
              "\n",
              "    .colab-df-convert {\n",
              "      background-color: #E8F0FE;\n",
              "      border: none;\n",
              "      border-radius: 50%;\n",
              "      cursor: pointer;\n",
              "      display: none;\n",
              "      fill: #1967D2;\n",
              "      height: 32px;\n",
              "      padding: 0 0 0 0;\n",
              "      width: 32px;\n",
              "    }\n",
              "\n",
              "    .colab-df-convert:hover {\n",
              "      background-color: #E2EBFA;\n",
              "      box-shadow: 0px 1px 2px rgba(60, 64, 67, 0.3), 0px 1px 3px 1px rgba(60, 64, 67, 0.15);\n",
              "      fill: #174EA6;\n",
              "    }\n",
              "\n",
              "    [theme=dark] .colab-df-convert {\n",
              "      background-color: #3B4455;\n",
              "      fill: #D2E3FC;\n",
              "    }\n",
              "\n",
              "    [theme=dark] .colab-df-convert:hover {\n",
              "      background-color: #434B5C;\n",
              "      box-shadow: 0px 1px 3px 1px rgba(0, 0, 0, 0.15);\n",
              "      filter: drop-shadow(0px 1px 2px rgba(0, 0, 0, 0.3));\n",
              "      fill: #FFFFFF;\n",
              "    }\n",
              "  </style>\n",
              "\n",
              "      <script>\n",
              "        const buttonEl =\n",
              "          document.querySelector('#df-be011252-d1f3-4bda-a272-67099936c8ac button.colab-df-convert');\n",
              "        buttonEl.style.display =\n",
              "          google.colab.kernel.accessAllowed ? 'block' : 'none';\n",
              "\n",
              "        async function convertToInteractive(key) {\n",
              "          const element = document.querySelector('#df-be011252-d1f3-4bda-a272-67099936c8ac');\n",
              "          const dataTable =\n",
              "            await google.colab.kernel.invokeFunction('convertToInteractive',\n",
              "                                                     [key], {});\n",
              "          if (!dataTable) return;\n",
              "\n",
              "          const docLinkHtml = 'Like what you see? Visit the ' +\n",
              "            '<a target=\"_blank\" href=https://colab.research.google.com/notebooks/data_table.ipynb>data table notebook</a>'\n",
              "            + ' to learn more about interactive tables.';\n",
              "          element.innerHTML = '';\n",
              "          dataTable['output_type'] = 'display_data';\n",
              "          await google.colab.output.renderOutput(dataTable, element);\n",
              "          const docLink = document.createElement('div');\n",
              "          docLink.innerHTML = docLinkHtml;\n",
              "          element.appendChild(docLink);\n",
              "        }\n",
              "      </script>\n",
              "    </div>\n",
              "  </div>\n",
              "  "
            ]
          },
          "metadata": {},
          "execution_count": 119
        }
      ]
    },
    {
      "cell_type": "code",
      "source": [
        "from spacy.lang.en import English\n",
        "nlp=English()\n",
        "sentencizer = nlp.create_pipe(\"sentencizer\")\n",
        "nlp.add_pipe('sentencizer')\n",
        "doc = nlp(example_abstracts[0][\"abstract\"])\n",
        "abstract_lines = [str(sent) for sent in list(doc.sents)] \n",
        "abstract_lines"
      ],
      "metadata": {
        "colab": {
          "base_uri": "https://localhost:8080/"
        },
        "id": "HKUZmQ_CXCUJ",
        "outputId": "9e59c45f-bb48-4b95-e968-d87e1b91ffd4"
      },
      "execution_count": 120,
      "outputs": [
        {
          "output_type": "execute_result",
          "data": {
            "text/plain": [
              "['The aim of the present systematic review and meta-analysis was to gain further insight into the effects of adherence to Mediterranean Diet (MedD) on risk of overall cancer mortality, risk of different types of cancer, and cancer mortality and recurrence risk in cancer survivors.',\n",
              " 'Literature search was performed using the electronic databases PubMed, and Scopus until 25 August 2017.',\n",
              " 'We included randomized trials (RCTs), cohort (for specific tumors only incidence cases were used) studies, and case-control studies.',\n",
              " 'Study-specific risk ratios, hazard ratios, and odds ratios (RR/HR/OR) were pooled using a random effects model.',\n",
              " 'Observational studies (cohort and case-control studies), and intervention trials were meta-analyzed separately.',\n",
              " 'The updated review process showed 27 studies that were not included in the previous meta-analysis (total number of studies evaluated: 83 studies).',\n",
              " 'An overall population of 2,130,753 subjects was included in the present update.',\n",
              " 'The highest adherence score to a MedD was inversely associated with a lower risk of cancer mortality (RRcohort: 0.86, 95% CI 0.81 to 0.91, I² = 82%; n = 14 studies), colorectal cancer (RRobservational: 0.82, 95% CI 0.75 to 0.88, I² = 73%; n = 11 studies), breast cancer (RRRCT: 0.43, 95% CI 0.21 to 0.88, n = 1 study) (RRobservational: 0.92, 95% CI 0.87 to 0.96, I² = 22%, n = 16 studies), gastric cancer (RRobservational: 0.72, 95% CI 0.60 to 0.86, I² = 55%; n = 4 studies), liver cancer (RRobservational: 0.58, 95% CI 0.46 to 0.73, I² = 0%; n = 2 studies), head and neck cancer (RRobservational: 0.49, 95% CI 0.37 to 0.66, I² = 87%; n = 7 studies), and prostate cancer (RRobservational: 0.96, 95% CI 0.92 to 1.00, I² = 0%; n = 6 studies).',\n",
              " 'Among cancer survivors, the association between the adherence to the highest MedD category and risk of cancer mortality, and cancer recurrence was not statistically significant.',\n",
              " 'Pooled analyses of individual components of the MedD revealed that the protective effects appear to be most attributable to fruits, vegetables, and whole grains.',\n",
              " 'The updated meta-analysis confirms an important inverse association between adherence to a MedD and cancer mortality and risk of several cancer types, especially colorectal cancer.',\n",
              " 'These observed beneficial effects are mainly driven by higher intakes of fruits, vegetables, and whole grains.',\n",
              " 'Moreover, we were able to report for the first time a small decrease in breast cancer risk (6%) by pooling seven cohort studies.']"
            ]
          },
          "metadata": {},
          "execution_count": 120
        }
      ]
    },
    {
      "cell_type": "code",
      "source": [
        "# Get total number of lines\n",
        "total_lines_in_sample = len(abstract_lines)\n",
        "\n",
        "# Go through each line in abstract and create a list of dictionaries containing features for each line\n",
        "sample_lines = []\n",
        "for i, line in enumerate(abstract_lines):\n",
        "  sample_dict = {}\n",
        "  sample_dict[\"text\"] = str(line)\n",
        "  sample_dict[\"line_number\"] = i\n",
        "  sample_dict[\"total_lines\"] = total_lines_in_sample - 1\n",
        "  sample_lines.append(sample_dict)\n",
        "sample_lines"
      ],
      "metadata": {
        "colab": {
          "base_uri": "https://localhost:8080/"
        },
        "id": "m29bNytqd2L2",
        "outputId": "da2cd0ba-6096-4204-8ae4-0d483ffaab55"
      },
      "execution_count": 121,
      "outputs": [
        {
          "output_type": "execute_result",
          "data": {
            "text/plain": [
              "[{'text': 'The aim of the present systematic review and meta-analysis was to gain further insight into the effects of adherence to Mediterranean Diet (MedD) on risk of overall cancer mortality, risk of different types of cancer, and cancer mortality and recurrence risk in cancer survivors.',\n",
              "  'line_number': 0,\n",
              "  'total_lines': 12},\n",
              " {'text': 'Literature search was performed using the electronic databases PubMed, and Scopus until 25 August 2017.',\n",
              "  'line_number': 1,\n",
              "  'total_lines': 12},\n",
              " {'text': 'We included randomized trials (RCTs), cohort (for specific tumors only incidence cases were used) studies, and case-control studies.',\n",
              "  'line_number': 2,\n",
              "  'total_lines': 12},\n",
              " {'text': 'Study-specific risk ratios, hazard ratios, and odds ratios (RR/HR/OR) were pooled using a random effects model.',\n",
              "  'line_number': 3,\n",
              "  'total_lines': 12},\n",
              " {'text': 'Observational studies (cohort and case-control studies), and intervention trials were meta-analyzed separately.',\n",
              "  'line_number': 4,\n",
              "  'total_lines': 12},\n",
              " {'text': 'The updated review process showed 27 studies that were not included in the previous meta-analysis (total number of studies evaluated: 83 studies).',\n",
              "  'line_number': 5,\n",
              "  'total_lines': 12},\n",
              " {'text': 'An overall population of 2,130,753 subjects was included in the present update.',\n",
              "  'line_number': 6,\n",
              "  'total_lines': 12},\n",
              " {'text': 'The highest adherence score to a MedD was inversely associated with a lower risk of cancer mortality (RRcohort: 0.86, 95% CI 0.81 to 0.91, I² = 82%; n = 14 studies), colorectal cancer (RRobservational: 0.82, 95% CI 0.75 to 0.88, I² = 73%; n = 11 studies), breast cancer (RRRCT: 0.43, 95% CI 0.21 to 0.88, n = 1 study) (RRobservational: 0.92, 95% CI 0.87 to 0.96, I² = 22%, n = 16 studies), gastric cancer (RRobservational: 0.72, 95% CI 0.60 to 0.86, I² = 55%; n = 4 studies), liver cancer (RRobservational: 0.58, 95% CI 0.46 to 0.73, I² = 0%; n = 2 studies), head and neck cancer (RRobservational: 0.49, 95% CI 0.37 to 0.66, I² = 87%; n = 7 studies), and prostate cancer (RRobservational: 0.96, 95% CI 0.92 to 1.00, I² = 0%; n = 6 studies).',\n",
              "  'line_number': 7,\n",
              "  'total_lines': 12},\n",
              " {'text': 'Among cancer survivors, the association between the adherence to the highest MedD category and risk of cancer mortality, and cancer recurrence was not statistically significant.',\n",
              "  'line_number': 8,\n",
              "  'total_lines': 12},\n",
              " {'text': 'Pooled analyses of individual components of the MedD revealed that the protective effects appear to be most attributable to fruits, vegetables, and whole grains.',\n",
              "  'line_number': 9,\n",
              "  'total_lines': 12},\n",
              " {'text': 'The updated meta-analysis confirms an important inverse association between adherence to a MedD and cancer mortality and risk of several cancer types, especially colorectal cancer.',\n",
              "  'line_number': 10,\n",
              "  'total_lines': 12},\n",
              " {'text': 'These observed beneficial effects are mainly driven by higher intakes of fruits, vegetables, and whole grains.',\n",
              "  'line_number': 11,\n",
              "  'total_lines': 12},\n",
              " {'text': 'Moreover, we were able to report for the first time a small decrease in breast cancer risk (6%) by pooling seven cohort studies.',\n",
              "  'line_number': 12,\n",
              "  'total_lines': 12}]"
            ]
          },
          "metadata": {},
          "execution_count": 121
        }
      ]
    },
    {
      "cell_type": "code",
      "source": [
        "\n",
        "# Get all line_number values from sample abstract\n",
        "test_abstract_line_numbers = [line[\"line_number\"] for line in sample_lines]\n",
        "# One-hot encode to same depth as training data, so model accepts right input shape\n",
        "test_abstract_line_numbers_one_hot = tf.one_hot(test_abstract_line_numbers, depth=17) \n",
        "test_abstract_line_numbers_one_hot\n",
        "     "
      ],
      "metadata": {
        "colab": {
          "base_uri": "https://localhost:8080/"
        },
        "id": "kTEITx1Od6s5",
        "outputId": "f4428109-20db-414f-87e9-0f2935295d39"
      },
      "execution_count": 138,
      "outputs": [
        {
          "output_type": "execute_result",
          "data": {
            "text/plain": [
              "<tf.Tensor: shape=(13, 17), dtype=float32, numpy=\n",
              "array([[1., 0., 0., 0., 0., 0., 0., 0., 0., 0., 0., 0., 0., 0., 0., 0.,\n",
              "        0.],\n",
              "       [0., 1., 0., 0., 0., 0., 0., 0., 0., 0., 0., 0., 0., 0., 0., 0.,\n",
              "        0.],\n",
              "       [0., 0., 1., 0., 0., 0., 0., 0., 0., 0., 0., 0., 0., 0., 0., 0.,\n",
              "        0.],\n",
              "       [0., 0., 0., 1., 0., 0., 0., 0., 0., 0., 0., 0., 0., 0., 0., 0.,\n",
              "        0.],\n",
              "       [0., 0., 0., 0., 1., 0., 0., 0., 0., 0., 0., 0., 0., 0., 0., 0.,\n",
              "        0.],\n",
              "       [0., 0., 0., 0., 0., 1., 0., 0., 0., 0., 0., 0., 0., 0., 0., 0.,\n",
              "        0.],\n",
              "       [0., 0., 0., 0., 0., 0., 1., 0., 0., 0., 0., 0., 0., 0., 0., 0.,\n",
              "        0.],\n",
              "       [0., 0., 0., 0., 0., 0., 0., 1., 0., 0., 0., 0., 0., 0., 0., 0.,\n",
              "        0.],\n",
              "       [0., 0., 0., 0., 0., 0., 0., 0., 1., 0., 0., 0., 0., 0., 0., 0.,\n",
              "        0.],\n",
              "       [0., 0., 0., 0., 0., 0., 0., 0., 0., 1., 0., 0., 0., 0., 0., 0.,\n",
              "        0.],\n",
              "       [0., 0., 0., 0., 0., 0., 0., 0., 0., 0., 1., 0., 0., 0., 0., 0.,\n",
              "        0.],\n",
              "       [0., 0., 0., 0., 0., 0., 0., 0., 0., 0., 0., 1., 0., 0., 0., 0.,\n",
              "        0.],\n",
              "       [0., 0., 0., 0., 0., 0., 0., 0., 0., 0., 0., 0., 1., 0., 0., 0.,\n",
              "        0.]], dtype=float32)>"
            ]
          },
          "metadata": {},
          "execution_count": 138
        }
      ]
    },
    {
      "cell_type": "code",
      "source": [
        "\n",
        "# Get all total_lines values from sample abstract\n",
        "test_abstract_total_lines = [line[\"total_lines\"] for line in sample_lines]\n",
        "# One-hot encode to same depth as training data, so model accepts right input shape\n",
        "test_abstract_total_lines_one_hot = tf.one_hot(test_abstract_total_lines, depth=20)\n",
        "test_abstract_total_lines_one_hot"
      ],
      "metadata": {
        "colab": {
          "base_uri": "https://localhost:8080/"
        },
        "id": "s6T0X1iVd-Cy",
        "outputId": "06aa5c48-627d-487d-d5bb-a9d351f01d68"
      },
      "execution_count": 139,
      "outputs": [
        {
          "output_type": "execute_result",
          "data": {
            "text/plain": [
              "<tf.Tensor: shape=(13, 20), dtype=float32, numpy=\n",
              "array([[0., 0., 0., 0., 0., 0., 0., 0., 0., 0., 0., 0., 1., 0., 0., 0.,\n",
              "        0., 0., 0., 0.],\n",
              "       [0., 0., 0., 0., 0., 0., 0., 0., 0., 0., 0., 0., 1., 0., 0., 0.,\n",
              "        0., 0., 0., 0.],\n",
              "       [0., 0., 0., 0., 0., 0., 0., 0., 0., 0., 0., 0., 1., 0., 0., 0.,\n",
              "        0., 0., 0., 0.],\n",
              "       [0., 0., 0., 0., 0., 0., 0., 0., 0., 0., 0., 0., 1., 0., 0., 0.,\n",
              "        0., 0., 0., 0.],\n",
              "       [0., 0., 0., 0., 0., 0., 0., 0., 0., 0., 0., 0., 1., 0., 0., 0.,\n",
              "        0., 0., 0., 0.],\n",
              "       [0., 0., 0., 0., 0., 0., 0., 0., 0., 0., 0., 0., 1., 0., 0., 0.,\n",
              "        0., 0., 0., 0.],\n",
              "       [0., 0., 0., 0., 0., 0., 0., 0., 0., 0., 0., 0., 1., 0., 0., 0.,\n",
              "        0., 0., 0., 0.],\n",
              "       [0., 0., 0., 0., 0., 0., 0., 0., 0., 0., 0., 0., 1., 0., 0., 0.,\n",
              "        0., 0., 0., 0.],\n",
              "       [0., 0., 0., 0., 0., 0., 0., 0., 0., 0., 0., 0., 1., 0., 0., 0.,\n",
              "        0., 0., 0., 0.],\n",
              "       [0., 0., 0., 0., 0., 0., 0., 0., 0., 0., 0., 0., 1., 0., 0., 0.,\n",
              "        0., 0., 0., 0.],\n",
              "       [0., 0., 0., 0., 0., 0., 0., 0., 0., 0., 0., 0., 1., 0., 0., 0.,\n",
              "        0., 0., 0., 0.],\n",
              "       [0., 0., 0., 0., 0., 0., 0., 0., 0., 0., 0., 0., 1., 0., 0., 0.,\n",
              "        0., 0., 0., 0.],\n",
              "       [0., 0., 0., 0., 0., 0., 0., 0., 0., 0., 0., 0., 1., 0., 0., 0.,\n",
              "        0., 0., 0., 0.]], dtype=float32)>"
            ]
          },
          "metadata": {},
          "execution_count": 139
        }
      ]
    },
    {
      "cell_type": "code",
      "source": [
        "# Split abstract lines into characters\n",
        "abstract_chars = [split_sen(sentence) for sentence in abstract_lines]\n",
        "abstract_chars"
      ],
      "metadata": {
        "colab": {
          "base_uri": "https://localhost:8080/"
        },
        "id": "LYENxUv4eApq",
        "outputId": "c28cd038-2a42-4c0a-bcb1-34e43ce6ec51"
      },
      "execution_count": 124,
      "outputs": [
        {
          "output_type": "execute_result",
          "data": {
            "text/plain": [
              "['T h e   a i m   o f   t h e   p r e s e n t   s y s t e m a t i c   r e v i e w   a n d   m e t a - a n a l y s i s   w a s   t o   g a i n   f u r t h e r   i n s i g h t   i n t o   t h e   e f f e c t s   o f   a d h e r e n c e   t o   M e d i t e r r a n e a n   D i e t   ( M e d D )   o n   r i s k   o f   o v e r a l l   c a n c e r   m o r t a l i t y ,   r i s k   o f   d i f f e r e n t   t y p e s   o f   c a n c e r ,   a n d   c a n c e r   m o r t a l i t y   a n d   r e c u r r e n c e   r i s k   i n   c a n c e r   s u r v i v o r s .',\n",
              " 'L i t e r a t u r e   s e a r c h   w a s   p e r f o r m e d   u s i n g   t h e   e l e c t r o n i c   d a t a b a s e s   P u b M e d ,   a n d   S c o p u s   u n t i l   2 5   A u g u s t   2 0 1 7 .',\n",
              " 'W e   i n c l u d e d   r a n d o m i z e d   t r i a l s   ( R C T s ) ,   c o h o r t   ( f o r   s p e c i f i c   t u m o r s   o n l y   i n c i d e n c e   c a s e s   w e r e   u s e d )   s t u d i e s ,   a n d   c a s e - c o n t r o l   s t u d i e s .',\n",
              " 'S t u d y - s p e c i f i c   r i s k   r a t i o s ,   h a z a r d   r a t i o s ,   a n d   o d d s   r a t i o s   ( R R / H R / O R )   w e r e   p o o l e d   u s i n g   a   r a n d o m   e f f e c t s   m o d e l .',\n",
              " 'O b s e r v a t i o n a l   s t u d i e s   ( c o h o r t   a n d   c a s e - c o n t r o l   s t u d i e s ) ,   a n d   i n t e r v e n t i o n   t r i a l s   w e r e   m e t a - a n a l y z e d   s e p a r a t e l y .',\n",
              " 'T h e   u p d a t e d   r e v i e w   p r o c e s s   s h o w e d   2 7   s t u d i e s   t h a t   w e r e   n o t   i n c l u d e d   i n   t h e   p r e v i o u s   m e t a - a n a l y s i s   ( t o t a l   n u m b e r   o f   s t u d i e s   e v a l u a t e d :   8 3   s t u d i e s ) .',\n",
              " 'A n   o v e r a l l   p o p u l a t i o n   o f   2 , 1 3 0 , 7 5 3   s u b j e c t s   w a s   i n c l u d e d   i n   t h e   p r e s e n t   u p d a t e .',\n",
              " 'T h e   h i g h e s t   a d h e r e n c e   s c o r e   t o   a   M e d D   w a s   i n v e r s e l y   a s s o c i a t e d   w i t h   a   l o w e r   r i s k   o f   c a n c e r   m o r t a l i t y   ( R R c o h o r t :   0 . 8 6 ,   9 5 %   C I   0 . 8 1   t o   0 . 9 1 ,   I ²   =   8 2 % ;   n   =   1 4   s t u d i e s ) ,   c o l o r e c t a l   c a n c e r   ( R R o b s e r v a t i o n a l :   0 . 8 2 ,   9 5 %   C I   0 . 7 5   t o   0 . 8 8 ,   I ²   =   7 3 % ;   n   =   1 1   s t u d i e s ) ,   b r e a s t   c a n c e r   ( R R R C T :   0 . 4 3 ,   9 5 %   C I   0 . 2 1   t o   0 . 8 8 ,   n   =   1   s t u d y )   ( R R o b s e r v a t i o n a l :   0 . 9 2 ,   9 5 %   C I   0 . 8 7   t o   0 . 9 6 ,   I ²   =   2 2 % ,   n   =   1 6   s t u d i e s ) ,   g a s t r i c   c a n c e r   ( R R o b s e r v a t i o n a l :   0 . 7 2 ,   9 5 %   C I   0 . 6 0   t o   0 . 8 6 ,   I ²   =   5 5 % ;   n   =   4   s t u d i e s ) ,   l i v e r   c a n c e r   ( R R o b s e r v a t i o n a l :   0 . 5 8 ,   9 5 %   C I   0 . 4 6   t o   0 . 7 3 ,   I ²   =   0 % ;   n   =   2   s t u d i e s ) ,   h e a d   a n d   n e c k   c a n c e r   ( R R o b s e r v a t i o n a l :   0 . 4 9 ,   9 5 %   C I   0 . 3 7   t o   0 . 6 6 ,   I ²   =   8 7 % ;   n   =   7   s t u d i e s ) ,   a n d   p r o s t a t e   c a n c e r   ( R R o b s e r v a t i o n a l :   0 . 9 6 ,   9 5 %   C I   0 . 9 2   t o   1 . 0 0 ,   I ²   =   0 % ;   n   =   6   s t u d i e s ) .',\n",
              " 'A m o n g   c a n c e r   s u r v i v o r s ,   t h e   a s s o c i a t i o n   b e t w e e n   t h e   a d h e r e n c e   t o   t h e   h i g h e s t   M e d D   c a t e g o r y   a n d   r i s k   o f   c a n c e r   m o r t a l i t y ,   a n d   c a n c e r   r e c u r r e n c e   w a s   n o t   s t a t i s t i c a l l y   s i g n i f i c a n t .',\n",
              " 'P o o l e d   a n a l y s e s   o f   i n d i v i d u a l   c o m p o n e n t s   o f   t h e   M e d D   r e v e a l e d   t h a t   t h e   p r o t e c t i v e   e f f e c t s   a p p e a r   t o   b e   m o s t   a t t r i b u t a b l e   t o   f r u i t s ,   v e g e t a b l e s ,   a n d   w h o l e   g r a i n s .',\n",
              " 'T h e   u p d a t e d   m e t a - a n a l y s i s   c o n f i r m s   a n   i m p o r t a n t   i n v e r s e   a s s o c i a t i o n   b e t w e e n   a d h e r e n c e   t o   a   M e d D   a n d   c a n c e r   m o r t a l i t y   a n d   r i s k   o f   s e v e r a l   c a n c e r   t y p e s ,   e s p e c i a l l y   c o l o r e c t a l   c a n c e r .',\n",
              " 'T h e s e   o b s e r v e d   b e n e f i c i a l   e f f e c t s   a r e   m a i n l y   d r i v e n   b y   h i g h e r   i n t a k e s   o f   f r u i t s ,   v e g e t a b l e s ,   a n d   w h o l e   g r a i n s .',\n",
              " 'M o r e o v e r ,   w e   w e r e   a b l e   t o   r e p o r t   f o r   t h e   f i r s t   t i m e   a   s m a l l   d e c r e a s e   i n   b r e a s t   c a n c e r   r i s k   ( 6 % )   b y   p o o l i n g   s e v e n   c o h o r t   s t u d i e s .']"
            ]
          },
          "metadata": {},
          "execution_count": 124
        }
      ]
    },
    {
      "cell_type": "code",
      "source": [
        "%%time\n",
        "test_abstract_pred_probs = loaded_model.predict(x=(tf.constant(abstract_lines),tf.constant(abstract_chars),test_abstract_line_numbers_one_hot,test_abstract_total_lines_one_hot))\n",
        "test_abstract_pred_probs"
      ],
      "metadata": {
        "colab": {
          "base_uri": "https://localhost:8080/"
        },
        "id": "G7ao3FpPecHS",
        "outputId": "7c845f71-950c-4367-e3b1-b250a20ee559"
      },
      "execution_count": 141,
      "outputs": [
        {
          "output_type": "stream",
          "name": "stdout",
          "text": [
            "1/1 [==============================] - 1s 846ms/step\n",
            "CPU times: user 927 ms, sys: 15.9 ms, total: 943 ms\n",
            "Wall time: 906 ms\n"
          ]
        },
        {
          "output_type": "execute_result",
          "data": {
            "text/plain": [
              "array([[0.6593027 , 0.01969943, 0.02199371, 0.2635425 , 0.03546159],\n",
              "       [0.15356183, 0.01236601, 0.68011415, 0.12065974, 0.03329819],\n",
              "       [0.05904554, 0.02071354, 0.7676703 , 0.0518376 , 0.10073306],\n",
              "       [0.05316462, 0.02456963, 0.79752886, 0.04530348, 0.07943349],\n",
              "       [0.03439568, 0.02905125, 0.77594185, 0.03374296, 0.12686823],\n",
              "       [0.06270742, 0.02256828, 0.11685385, 0.04117627, 0.7566942 ],\n",
              "       [0.03391896, 0.03172781, 0.23246165, 0.03466151, 0.66723007],\n",
              "       [0.04601486, 0.02664257, 0.04543065, 0.03870822, 0.8432037 ],\n",
              "       [0.04344236, 0.1173756 , 0.03822014, 0.03845152, 0.76251036],\n",
              "       [0.03058997, 0.0593495 , 0.03616279, 0.02660263, 0.8472951 ],\n",
              "       [0.12476573, 0.7153917 , 0.03775091, 0.04134934, 0.08074234],\n",
              "       [0.07584651, 0.7661965 , 0.03300645, 0.03613183, 0.0888187 ],\n",
              "       [0.03831128, 0.35443243, 0.05612457, 0.03937384, 0.5117579 ]],\n",
              "      dtype=float32)"
            ]
          },
          "metadata": {},
          "execution_count": 141
        }
      ]
    },
    {
      "cell_type": "code",
      "source": [
        "test_abstract_preds = tf.argmax(test_abstract_pred_probs, axis=1)\n",
        "test_abstract_preds"
      ],
      "metadata": {
        "colab": {
          "base_uri": "https://localhost:8080/"
        },
        "id": "hvLvbqC00wf_",
        "outputId": "d812fb2d-77eb-456b-abf0-ff145118a74c"
      },
      "execution_count": 143,
      "outputs": [
        {
          "output_type": "execute_result",
          "data": {
            "text/plain": [
              "<tf.Tensor: shape=(13,), dtype=int64, numpy=array([0, 2, 2, 2, 2, 4, 4, 4, 4, 4, 1, 1, 4])>"
            ]
          },
          "metadata": {},
          "execution_count": 143
        }
      ]
    },
    {
      "cell_type": "code",
      "source": [
        "# Turn prediction class integers into string class names\n",
        "test_abstract_pred_classes = [label_encoder.classes_[i] for i in test_abstract_preds]\n",
        "test_abstract_pred_classes"
      ],
      "metadata": {
        "colab": {
          "base_uri": "https://localhost:8080/"
        },
        "id": "ACVyHmTy3oTV",
        "outputId": "2e6eb0bb-05cd-4525-dab8-716fc4afd979"
      },
      "execution_count": 146,
      "outputs": [
        {
          "output_type": "execute_result",
          "data": {
            "text/plain": [
              "['BACKGROUND',\n",
              " 'METHODS',\n",
              " 'METHODS',\n",
              " 'METHODS',\n",
              " 'METHODS',\n",
              " 'RESULTS',\n",
              " 'RESULTS',\n",
              " 'RESULTS',\n",
              " 'RESULTS',\n",
              " 'RESULTS',\n",
              " 'CONCLUSIONS',\n",
              " 'CONCLUSIONS',\n",
              " 'RESULTS']"
            ]
          },
          "metadata": {},
          "execution_count": 146
        }
      ]
    },
    {
      "cell_type": "code",
      "source": [
        "# Visualize abstract lines and predicted sequence labels\n",
        "for i, line in enumerate(abstract_lines):\n",
        "  print(f\"{test_abstract_pred_classes[i]}: {line}\")"
      ],
      "metadata": {
        "colab": {
          "base_uri": "https://localhost:8080/"
        },
        "id": "OB-EWx2o2pyp",
        "outputId": "83153eb5-59dd-4236-fac3-68e2f1673121"
      },
      "execution_count": 148,
      "outputs": [
        {
          "output_type": "stream",
          "name": "stdout",
          "text": [
            "BACKGROUND: The aim of the present systematic review and meta-analysis was to gain further insight into the effects of adherence to Mediterranean Diet (MedD) on risk of overall cancer mortality, risk of different types of cancer, and cancer mortality and recurrence risk in cancer survivors.\n",
            "METHODS: Literature search was performed using the electronic databases PubMed, and Scopus until 25 August 2017.\n",
            "METHODS: We included randomized trials (RCTs), cohort (for specific tumors only incidence cases were used) studies, and case-control studies.\n",
            "METHODS: Study-specific risk ratios, hazard ratios, and odds ratios (RR/HR/OR) were pooled using a random effects model.\n",
            "METHODS: Observational studies (cohort and case-control studies), and intervention trials were meta-analyzed separately.\n",
            "RESULTS: The updated review process showed 27 studies that were not included in the previous meta-analysis (total number of studies evaluated: 83 studies).\n",
            "RESULTS: An overall population of 2,130,753 subjects was included in the present update.\n",
            "RESULTS: The highest adherence score to a MedD was inversely associated with a lower risk of cancer mortality (RRcohort: 0.86, 95% CI 0.81 to 0.91, I² = 82%; n = 14 studies), colorectal cancer (RRobservational: 0.82, 95% CI 0.75 to 0.88, I² = 73%; n = 11 studies), breast cancer (RRRCT: 0.43, 95% CI 0.21 to 0.88, n = 1 study) (RRobservational: 0.92, 95% CI 0.87 to 0.96, I² = 22%, n = 16 studies), gastric cancer (RRobservational: 0.72, 95% CI 0.60 to 0.86, I² = 55%; n = 4 studies), liver cancer (RRobservational: 0.58, 95% CI 0.46 to 0.73, I² = 0%; n = 2 studies), head and neck cancer (RRobservational: 0.49, 95% CI 0.37 to 0.66, I² = 87%; n = 7 studies), and prostate cancer (RRobservational: 0.96, 95% CI 0.92 to 1.00, I² = 0%; n = 6 studies).\n",
            "RESULTS: Among cancer survivors, the association between the adherence to the highest MedD category and risk of cancer mortality, and cancer recurrence was not statistically significant.\n",
            "RESULTS: Pooled analyses of individual components of the MedD revealed that the protective effects appear to be most attributable to fruits, vegetables, and whole grains.\n",
            "CONCLUSIONS: The updated meta-analysis confirms an important inverse association between adherence to a MedD and cancer mortality and risk of several cancer types, especially colorectal cancer.\n",
            "CONCLUSIONS: These observed beneficial effects are mainly driven by higher intakes of fruits, vegetables, and whole grains.\n",
            "RESULTS: Moreover, we were able to report for the first time a small decrease in breast cancer risk (6%) by pooling seven cohort studies.\n"
          ]
        }
      ]
    },
    {
      "cell_type": "markdown",
      "source": [
        "### with the model 6 i had gained the accuracy of 86% which is  near to the 'PubMed 200k RCT: a Dataset for Sequential Sentence Classification in Medical Abstracts' paper which is having 90% accuracy. \n",
        "\n",
        "\n",
        "*  I had only used 10% of the  whole data and  20% of that in  each batch for Training and validating.\n",
        "\n"
      ],
      "metadata": {
        "id": "cafZjYrxWR7U"
      }
    }
  ]
}